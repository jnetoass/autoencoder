{
  "nbformat": 4,
  "nbformat_minor": 0,
  "metadata": {
    "colab": {
      "provenance": [],
      "authorship_tag": "ABX9TyO5Nc0MpJ3lSs1BbCqZ+hCG",
      "include_colab_link": true
    },
    "kernelspec": {
      "name": "python3",
      "display_name": "Python 3"
    },
    "language_info": {
      "name": "python"
    },
    "accelerator": "GPU"
  },
  "cells": [
    {
      "cell_type": "markdown",
      "metadata": {
        "id": "view-in-github",
        "colab_type": "text"
      },
      "source": [
        "<a href=\"https://colab.research.google.com/github/jnetoass/autoencoder/blob/main/image_reconstruction.ipynb\" target=\"_parent\"><img src=\"https://colab.research.google.com/assets/colab-badge.svg\" alt=\"Open In Colab\"/></a>"
      ]
    },
    {
      "cell_type": "code",
      "execution_count": null,
      "metadata": {
        "id": "tPK4XI1SjRgi"
      },
      "outputs": [],
      "source": [
        "import tensorflow as tf\n",
        "import numpy as np\n",
        "import pandas as pd\n",
        "import plotly.graph_objects as go #criação de gráficos\n",
        "from plotly.subplots import make_subplots  #criação de múltiplos grágicos\n",
        "import plotly.express as px # criação de gráficos\n",
        "from skimage import io # leitura de imagens\n",
        "from random import randint # gera números aleatórios"
      ]
    },
    {
      "cell_type": "code",
      "source": [
        "(x_train, y_train), (x_test, y_test) = tf.keras.datasets.mnist.load_data()"
      ],
      "metadata": {
        "id": "eQqFk53Yj5Ay"
      },
      "execution_count": null,
      "outputs": []
    },
    {
      "cell_type": "code",
      "source": [
        "def visualiza_numero():\n",
        "  num = randint(0,60000)\n",
        "  fig = px.imshow(x_train[num],color_continuous_scale='gray')\n",
        "  fig.update_layout(title={\n",
        "                        'text': f\"o número escrito é {y_train[num]}\",\n",
        "                        'y':0.95,\n",
        "                        'x':0.5,\n",
        "                        'xanchor': 'center',\n",
        "                        'yanchor': 'top'\n",
        "                        })\n",
        "  fig.show() "
      ],
      "metadata": {
        "id": "G9jfmrUSj9WU"
      },
      "execution_count": null,
      "outputs": []
    },
    {
      "cell_type": "code",
      "source": [
        "visualiza_numero()"
      ],
      "metadata": {
        "colab": {
          "base_uri": "https://localhost:8080/",
          "height": 542
        },
        "id": "ckactFaWkDYr",
        "outputId": "5b9b0f22-4415-4bba-ec31-739011d053e7"
      },
      "execution_count": null,
      "outputs": [
        {
          "output_type": "display_data",
          "data": {
            "text/html": [
              "<html>\n",
              "<head><meta charset=\"utf-8\" /></head>\n",
              "<body>\n",
              "    <div>            <script src=\"https://cdnjs.cloudflare.com/ajax/libs/mathjax/2.7.5/MathJax.js?config=TeX-AMS-MML_SVG\"></script><script type=\"text/javascript\">if (window.MathJax) {MathJax.Hub.Config({SVG: {font: \"STIX-Web\"}});}</script>                <script type=\"text/javascript\">window.PlotlyConfig = {MathJaxConfig: 'local'};</script>\n",
              "        <script src=\"https://cdn.plot.ly/plotly-2.8.3.min.js\"></script>                <div id=\"32c40202-cdea-4313-96a6-bfdefbf816fd\" class=\"plotly-graph-div\" style=\"height:525px; width:100%;\"></div>            <script type=\"text/javascript\">                                    window.PLOTLYENV=window.PLOTLYENV || {};                                    if (document.getElementById(\"32c40202-cdea-4313-96a6-bfdefbf816fd\")) {                    Plotly.newPlot(                        \"32c40202-cdea-4313-96a6-bfdefbf816fd\",                        [{\"coloraxis\":\"coloraxis\",\"name\":\"0\",\"z\":[[0,0,0,0,0,0,0,0,0,0,0,0,0,0,0,0,0,0,0,0,0,0,0,0,0,0,0,0],[0,0,0,0,0,0,0,0,0,0,0,0,0,0,0,0,0,0,0,0,0,0,0,0,0,0,0,0],[0,0,0,0,0,0,0,0,0,0,0,0,0,0,0,0,0,0,0,0,0,0,0,0,0,0,0,0],[0,0,0,0,0,0,0,0,0,0,0,0,0,0,0,0,0,0,0,0,0,0,0,0,0,0,0,0],[0,0,0,0,0,1,13,200,255,255,255,254,255,227,130,35,0,0,0,0,0,0,0,0,0,0,0,0],[0,0,0,0,0,13,253,253,253,253,253,253,253,253,253,222,101,9,0,0,0,0,0,0,0,0,0,0],[0,0,0,0,0,130,253,253,253,253,253,253,253,253,253,253,253,218,33,0,0,0,0,0,0,0,0,0],[0,0,0,0,0,130,252,219,105,105,183,228,228,228,247,253,253,253,166,0,0,0,0,0,0,0,0,0],[0,0,0,0,0,51,94,0,0,0,0,0,0,0,73,131,247,253,220,23,0,0,0,0,0,0,0,0],[0,0,0,0,0,0,0,0,0,0,0,0,0,0,0,0,138,253,253,37,0,0,0,0,0,0,0,0],[0,0,0,0,0,0,0,0,0,0,0,0,0,0,0,0,199,253,253,37,0,0,0,0,0,0,0,0],[0,0,0,0,0,0,0,0,0,0,0,0,0,0,13,84,236,253,253,37,0,0,0,0,0,0,0,0],[0,0,0,0,0,0,0,0,0,0,0,0,0,0,150,253,253,253,253,37,0,0,0,0,0,0,0,0],[0,0,0,0,0,0,0,0,0,0,0,0,0,132,235,253,253,253,159,10,0,0,0,0,0,0,0,0],[0,0,0,0,0,0,0,0,0,0,0,0,0,180,253,253,253,231,31,0,0,0,0,0,0,0,0,0],[0,0,0,0,0,0,0,0,0,0,0,50,100,237,253,253,253,76,0,0,0,0,0,0,0,0,0,0],[0,0,0,0,0,0,0,0,0,0,130,237,253,253,253,231,76,10,0,0,0,0,0,0,0,0,0,0],[0,0,0,0,0,0,0,0,0,0,161,253,253,253,232,122,0,0,0,0,0,0,0,0,0,0,0,0],[0,0,0,0,0,0,0,0,0,73,240,253,253,253,191,0,0,0,0,0,0,0,0,0,0,0,0,0],[0,0,0,0,0,0,0,0,10,194,253,253,253,253,154,100,100,200,223,223,223,223,109,54,0,0,0,0],[0,0,0,0,0,0,0,0,25,253,253,253,253,253,253,253,253,253,253,253,253,253,253,193,3,0,0,0],[0,0,0,0,0,0,0,0,25,253,253,253,253,253,253,253,253,253,253,253,253,253,149,76,0,0,0,0],[0,0,0,0,0,0,0,0,2,159,253,253,253,253,253,253,253,253,253,152,135,23,1,0,0,0,0,0],[0,0,0,0,0,0,0,0,0,19,208,253,253,253,223,129,93,5,5,1,0,0,0,0,0,0,0,0],[0,0,0,0,0,0,0,0,0,0,0,0,0,0,0,0,0,0,0,0,0,0,0,0,0,0,0,0],[0,0,0,0,0,0,0,0,0,0,0,0,0,0,0,0,0,0,0,0,0,0,0,0,0,0,0,0],[0,0,0,0,0,0,0,0,0,0,0,0,0,0,0,0,0,0,0,0,0,0,0,0,0,0,0,0],[0,0,0,0,0,0,0,0,0,0,0,0,0,0,0,0,0,0,0,0,0,0,0,0,0,0,0,0]],\"type\":\"heatmap\",\"xaxis\":\"x\",\"yaxis\":\"y\",\"hovertemplate\":\"x: %{x}<br>y: %{y}<br>color: %{z}<extra></extra>\"}],                        {\"template\":{\"data\":{\"bar\":[{\"error_x\":{\"color\":\"#2a3f5f\"},\"error_y\":{\"color\":\"#2a3f5f\"},\"marker\":{\"line\":{\"color\":\"#E5ECF6\",\"width\":0.5},\"pattern\":{\"fillmode\":\"overlay\",\"size\":10,\"solidity\":0.2}},\"type\":\"bar\"}],\"barpolar\":[{\"marker\":{\"line\":{\"color\":\"#E5ECF6\",\"width\":0.5},\"pattern\":{\"fillmode\":\"overlay\",\"size\":10,\"solidity\":0.2}},\"type\":\"barpolar\"}],\"carpet\":[{\"aaxis\":{\"endlinecolor\":\"#2a3f5f\",\"gridcolor\":\"white\",\"linecolor\":\"white\",\"minorgridcolor\":\"white\",\"startlinecolor\":\"#2a3f5f\"},\"baxis\":{\"endlinecolor\":\"#2a3f5f\",\"gridcolor\":\"white\",\"linecolor\":\"white\",\"minorgridcolor\":\"white\",\"startlinecolor\":\"#2a3f5f\"},\"type\":\"carpet\"}],\"choropleth\":[{\"colorbar\":{\"outlinewidth\":0,\"ticks\":\"\"},\"type\":\"choropleth\"}],\"contour\":[{\"colorbar\":{\"outlinewidth\":0,\"ticks\":\"\"},\"colorscale\":[[0.0,\"#0d0887\"],[0.1111111111111111,\"#46039f\"],[0.2222222222222222,\"#7201a8\"],[0.3333333333333333,\"#9c179e\"],[0.4444444444444444,\"#bd3786\"],[0.5555555555555556,\"#d8576b\"],[0.6666666666666666,\"#ed7953\"],[0.7777777777777778,\"#fb9f3a\"],[0.8888888888888888,\"#fdca26\"],[1.0,\"#f0f921\"]],\"type\":\"contour\"}],\"contourcarpet\":[{\"colorbar\":{\"outlinewidth\":0,\"ticks\":\"\"},\"type\":\"contourcarpet\"}],\"heatmap\":[{\"colorbar\":{\"outlinewidth\":0,\"ticks\":\"\"},\"colorscale\":[[0.0,\"#0d0887\"],[0.1111111111111111,\"#46039f\"],[0.2222222222222222,\"#7201a8\"],[0.3333333333333333,\"#9c179e\"],[0.4444444444444444,\"#bd3786\"],[0.5555555555555556,\"#d8576b\"],[0.6666666666666666,\"#ed7953\"],[0.7777777777777778,\"#fb9f3a\"],[0.8888888888888888,\"#fdca26\"],[1.0,\"#f0f921\"]],\"type\":\"heatmap\"}],\"heatmapgl\":[{\"colorbar\":{\"outlinewidth\":0,\"ticks\":\"\"},\"colorscale\":[[0.0,\"#0d0887\"],[0.1111111111111111,\"#46039f\"],[0.2222222222222222,\"#7201a8\"],[0.3333333333333333,\"#9c179e\"],[0.4444444444444444,\"#bd3786\"],[0.5555555555555556,\"#d8576b\"],[0.6666666666666666,\"#ed7953\"],[0.7777777777777778,\"#fb9f3a\"],[0.8888888888888888,\"#fdca26\"],[1.0,\"#f0f921\"]],\"type\":\"heatmapgl\"}],\"histogram\":[{\"marker\":{\"pattern\":{\"fillmode\":\"overlay\",\"size\":10,\"solidity\":0.2}},\"type\":\"histogram\"}],\"histogram2d\":[{\"colorbar\":{\"outlinewidth\":0,\"ticks\":\"\"},\"colorscale\":[[0.0,\"#0d0887\"],[0.1111111111111111,\"#46039f\"],[0.2222222222222222,\"#7201a8\"],[0.3333333333333333,\"#9c179e\"],[0.4444444444444444,\"#bd3786\"],[0.5555555555555556,\"#d8576b\"],[0.6666666666666666,\"#ed7953\"],[0.7777777777777778,\"#fb9f3a\"],[0.8888888888888888,\"#fdca26\"],[1.0,\"#f0f921\"]],\"type\":\"histogram2d\"}],\"histogram2dcontour\":[{\"colorbar\":{\"outlinewidth\":0,\"ticks\":\"\"},\"colorscale\":[[0.0,\"#0d0887\"],[0.1111111111111111,\"#46039f\"],[0.2222222222222222,\"#7201a8\"],[0.3333333333333333,\"#9c179e\"],[0.4444444444444444,\"#bd3786\"],[0.5555555555555556,\"#d8576b\"],[0.6666666666666666,\"#ed7953\"],[0.7777777777777778,\"#fb9f3a\"],[0.8888888888888888,\"#fdca26\"],[1.0,\"#f0f921\"]],\"type\":\"histogram2dcontour\"}],\"mesh3d\":[{\"colorbar\":{\"outlinewidth\":0,\"ticks\":\"\"},\"type\":\"mesh3d\"}],\"parcoords\":[{\"line\":{\"colorbar\":{\"outlinewidth\":0,\"ticks\":\"\"}},\"type\":\"parcoords\"}],\"pie\":[{\"automargin\":true,\"type\":\"pie\"}],\"scatter\":[{\"marker\":{\"colorbar\":{\"outlinewidth\":0,\"ticks\":\"\"}},\"type\":\"scatter\"}],\"scatter3d\":[{\"line\":{\"colorbar\":{\"outlinewidth\":0,\"ticks\":\"\"}},\"marker\":{\"colorbar\":{\"outlinewidth\":0,\"ticks\":\"\"}},\"type\":\"scatter3d\"}],\"scattercarpet\":[{\"marker\":{\"colorbar\":{\"outlinewidth\":0,\"ticks\":\"\"}},\"type\":\"scattercarpet\"}],\"scattergeo\":[{\"marker\":{\"colorbar\":{\"outlinewidth\":0,\"ticks\":\"\"}},\"type\":\"scattergeo\"}],\"scattergl\":[{\"marker\":{\"colorbar\":{\"outlinewidth\":0,\"ticks\":\"\"}},\"type\":\"scattergl\"}],\"scattermapbox\":[{\"marker\":{\"colorbar\":{\"outlinewidth\":0,\"ticks\":\"\"}},\"type\":\"scattermapbox\"}],\"scatterpolar\":[{\"marker\":{\"colorbar\":{\"outlinewidth\":0,\"ticks\":\"\"}},\"type\":\"scatterpolar\"}],\"scatterpolargl\":[{\"marker\":{\"colorbar\":{\"outlinewidth\":0,\"ticks\":\"\"}},\"type\":\"scatterpolargl\"}],\"scatterternary\":[{\"marker\":{\"colorbar\":{\"outlinewidth\":0,\"ticks\":\"\"}},\"type\":\"scatterternary\"}],\"surface\":[{\"colorbar\":{\"outlinewidth\":0,\"ticks\":\"\"},\"colorscale\":[[0.0,\"#0d0887\"],[0.1111111111111111,\"#46039f\"],[0.2222222222222222,\"#7201a8\"],[0.3333333333333333,\"#9c179e\"],[0.4444444444444444,\"#bd3786\"],[0.5555555555555556,\"#d8576b\"],[0.6666666666666666,\"#ed7953\"],[0.7777777777777778,\"#fb9f3a\"],[0.8888888888888888,\"#fdca26\"],[1.0,\"#f0f921\"]],\"type\":\"surface\"}],\"table\":[{\"cells\":{\"fill\":{\"color\":\"#EBF0F8\"},\"line\":{\"color\":\"white\"}},\"header\":{\"fill\":{\"color\":\"#C8D4E3\"},\"line\":{\"color\":\"white\"}},\"type\":\"table\"}]},\"layout\":{\"annotationdefaults\":{\"arrowcolor\":\"#2a3f5f\",\"arrowhead\":0,\"arrowwidth\":1},\"autotypenumbers\":\"strict\",\"coloraxis\":{\"colorbar\":{\"outlinewidth\":0,\"ticks\":\"\"}},\"colorscale\":{\"diverging\":[[0,\"#8e0152\"],[0.1,\"#c51b7d\"],[0.2,\"#de77ae\"],[0.3,\"#f1b6da\"],[0.4,\"#fde0ef\"],[0.5,\"#f7f7f7\"],[0.6,\"#e6f5d0\"],[0.7,\"#b8e186\"],[0.8,\"#7fbc41\"],[0.9,\"#4d9221\"],[1,\"#276419\"]],\"sequential\":[[0.0,\"#0d0887\"],[0.1111111111111111,\"#46039f\"],[0.2222222222222222,\"#7201a8\"],[0.3333333333333333,\"#9c179e\"],[0.4444444444444444,\"#bd3786\"],[0.5555555555555556,\"#d8576b\"],[0.6666666666666666,\"#ed7953\"],[0.7777777777777778,\"#fb9f3a\"],[0.8888888888888888,\"#fdca26\"],[1.0,\"#f0f921\"]],\"sequentialminus\":[[0.0,\"#0d0887\"],[0.1111111111111111,\"#46039f\"],[0.2222222222222222,\"#7201a8\"],[0.3333333333333333,\"#9c179e\"],[0.4444444444444444,\"#bd3786\"],[0.5555555555555556,\"#d8576b\"],[0.6666666666666666,\"#ed7953\"],[0.7777777777777778,\"#fb9f3a\"],[0.8888888888888888,\"#fdca26\"],[1.0,\"#f0f921\"]]},\"colorway\":[\"#636efa\",\"#EF553B\",\"#00cc96\",\"#ab63fa\",\"#FFA15A\",\"#19d3f3\",\"#FF6692\",\"#B6E880\",\"#FF97FF\",\"#FECB52\"],\"font\":{\"color\":\"#2a3f5f\"},\"geo\":{\"bgcolor\":\"white\",\"lakecolor\":\"white\",\"landcolor\":\"#E5ECF6\",\"showlakes\":true,\"showland\":true,\"subunitcolor\":\"white\"},\"hoverlabel\":{\"align\":\"left\"},\"hovermode\":\"closest\",\"mapbox\":{\"style\":\"light\"},\"paper_bgcolor\":\"white\",\"plot_bgcolor\":\"#E5ECF6\",\"polar\":{\"angularaxis\":{\"gridcolor\":\"white\",\"linecolor\":\"white\",\"ticks\":\"\"},\"bgcolor\":\"#E5ECF6\",\"radialaxis\":{\"gridcolor\":\"white\",\"linecolor\":\"white\",\"ticks\":\"\"}},\"scene\":{\"xaxis\":{\"backgroundcolor\":\"#E5ECF6\",\"gridcolor\":\"white\",\"gridwidth\":2,\"linecolor\":\"white\",\"showbackground\":true,\"ticks\":\"\",\"zerolinecolor\":\"white\"},\"yaxis\":{\"backgroundcolor\":\"#E5ECF6\",\"gridcolor\":\"white\",\"gridwidth\":2,\"linecolor\":\"white\",\"showbackground\":true,\"ticks\":\"\",\"zerolinecolor\":\"white\"},\"zaxis\":{\"backgroundcolor\":\"#E5ECF6\",\"gridcolor\":\"white\",\"gridwidth\":2,\"linecolor\":\"white\",\"showbackground\":true,\"ticks\":\"\",\"zerolinecolor\":\"white\"}},\"shapedefaults\":{\"line\":{\"color\":\"#2a3f5f\"}},\"ternary\":{\"aaxis\":{\"gridcolor\":\"white\",\"linecolor\":\"white\",\"ticks\":\"\"},\"baxis\":{\"gridcolor\":\"white\",\"linecolor\":\"white\",\"ticks\":\"\"},\"bgcolor\":\"#E5ECF6\",\"caxis\":{\"gridcolor\":\"white\",\"linecolor\":\"white\",\"ticks\":\"\"}},\"title\":{\"x\":0.05},\"xaxis\":{\"automargin\":true,\"gridcolor\":\"white\",\"linecolor\":\"white\",\"ticks\":\"\",\"title\":{\"standoff\":15},\"zerolinecolor\":\"white\",\"zerolinewidth\":2},\"yaxis\":{\"automargin\":true,\"gridcolor\":\"white\",\"linecolor\":\"white\",\"ticks\":\"\",\"title\":{\"standoff\":15},\"zerolinecolor\":\"white\",\"zerolinewidth\":2}}},\"xaxis\":{\"anchor\":\"y\",\"domain\":[0.0,1.0],\"scaleanchor\":\"y\",\"constrain\":\"domain\"},\"yaxis\":{\"anchor\":\"x\",\"domain\":[0.0,1.0],\"autorange\":\"reversed\",\"constrain\":\"domain\"},\"coloraxis\":{\"colorscale\":[[0.0,\"rgb(0, 0, 0)\"],[0.09090909090909091,\"rgb(16, 16, 16)\"],[0.18181818181818182,\"rgb(38, 38, 38)\"],[0.2727272727272727,\"rgb(59, 59, 59)\"],[0.36363636363636365,\"rgb(81, 80, 80)\"],[0.45454545454545453,\"rgb(102, 101, 101)\"],[0.5454545454545454,\"rgb(124, 123, 122)\"],[0.6363636363636364,\"rgb(146, 146, 145)\"],[0.7272727272727273,\"rgb(171, 171, 170)\"],[0.8181818181818182,\"rgb(197, 197, 195)\"],[0.9090909090909091,\"rgb(224, 224, 223)\"],[1.0,\"rgb(254, 254, 253)\"]]},\"margin\":{\"t\":60},\"title\":{\"text\":\"o n\\u00famero escrito \\u00e9 2\",\"y\":0.95,\"x\":0.5,\"xanchor\":\"center\",\"yanchor\":\"top\"}},                        {\"responsive\": true}                    ).then(function(){\n",
              "                            \n",
              "var gd = document.getElementById('32c40202-cdea-4313-96a6-bfdefbf816fd');\n",
              "var x = new MutationObserver(function (mutations, observer) {{\n",
              "        var display = window.getComputedStyle(gd).display;\n",
              "        if (!display || display === 'none') {{\n",
              "            console.log([gd, 'removed!']);\n",
              "            Plotly.purge(gd);\n",
              "            observer.disconnect();\n",
              "        }}\n",
              "}});\n",
              "\n",
              "// Listen for the removal of the full notebook cells\n",
              "var notebookContainer = gd.closest('#notebook-container');\n",
              "if (notebookContainer) {{\n",
              "    x.observe(notebookContainer, {childList: true});\n",
              "}}\n",
              "\n",
              "// Listen for the clearing of the current output cell\n",
              "var outputEl = gd.closest('.output');\n",
              "if (outputEl) {{\n",
              "    x.observe(outputEl, {childList: true});\n",
              "}}\n",
              "\n",
              "                        })                };                            </script>        </div>\n",
              "</body>\n",
              "</html>"
            ]
          },
          "metadata": {}
        }
      ]
    },
    {
      "cell_type": "code",
      "source": [
        "x_train = x_train.astype('float32')\n",
        "x_test = x_test.astype('float32')\n",
        "\n",
        "x_train /= 255\n",
        "x_test /= 255"
      ],
      "metadata": {
        "id": "b_vp3wU1kI2S"
      },
      "execution_count": null,
      "outputs": []
    },
    {
      "cell_type": "code",
      "source": [
        "x_train.shape, y_train.shape, x_test.shape, y_test.shape"
      ],
      "metadata": {
        "colab": {
          "base_uri": "https://localhost:8080/"
        },
        "id": "NW1uVUzJkNBj",
        "outputId": "09b26169-d63c-4d1d-cfe3-e440a028f983"
      },
      "execution_count": null,
      "outputs": [
        {
          "output_type": "execute_result",
          "data": {
            "text/plain": [
              "((60000, 28, 28), (60000,), (10000, 28, 28), (10000,))"
            ]
          },
          "metadata": {},
          "execution_count": 89
        }
      ]
    },
    {
      "cell_type": "code",
      "source": [
        "x_train = np.reshape(x_train, (len(x_train), 28, 28, 1))\n",
        "x_test = np.reshape(x_test, (len(x_test), 28, 28, 1))"
      ],
      "metadata": {
        "id": "eHV_Ob8fwsxj"
      },
      "execution_count": null,
      "outputs": []
    },
    {
      "cell_type": "code",
      "source": [
        "input_img = tf.keras.layers.Input(shape=(28, 28, 1)) # adapt this if using `channels_first` image data format\n",
        "\n",
        "x = tf.keras.layers.Conv2D(16, (3, 3), activation='relu', padding='same')(input_img)\n",
        "x = tf.keras.layers.MaxPooling2D((2, 2), padding='same')(x)\n",
        "x = tf.keras.layers.Conv2D(8, (3, 3), activation='relu', padding='same')(x)\n",
        "x = tf.keras.layers.MaxPooling2D((2, 2), padding='same')(x)\n",
        "x = tf.keras.layers.Conv2D(8, (3, 3), activation='relu', padding='same')(x)\n",
        "encoded = tf.keras.layers.MaxPooling2D((2, 2), padding='same')(x)\n",
        "\n",
        "# at this point the representation is (4, 4, 8) i.e. 128-dimensional\n",
        "\n",
        "x = tf.keras.layers.Conv2D(8, (3, 3), activation='relu', padding='same')(encoded)\n",
        "x = tf.keras.layers.UpSampling2D((2, 2))(x)\n",
        "x = tf.keras.layers.Conv2D(8, (3, 3), activation='relu', padding='same')(x)\n",
        "x = tf.keras.layers.UpSampling2D((2, 2))(x)\n",
        "x = tf.keras.layers.Conv2D(16, (3, 3), activation='relu')(x)\n",
        "x = tf.keras.layers.UpSampling2D((2, 2))(x)\n",
        "decoded = tf.keras.layers.Conv2D(1, (3, 3), activation='sigmoid', padding='same')(x)\n",
        "\n",
        "autoencoder = tf.keras.models.Model(input_img, decoded)\n",
        "#autoencoder.compile(optimizer='adadelta', loss='binary_crossentropy')\n",
        "autoencoder.compile(loss=tf.keras.losses.BinaryCrossentropy(),\n",
        "                optimizer=tf.keras.optimizers.Adam(learning_rate=0.008),\n",
        "                metrics=['accuracy'])"
      ],
      "metadata": {
        "id": "N_EucS7okR8S"
      },
      "execution_count": null,
      "outputs": []
    },
    {
      "cell_type": "code",
      "source": [
        "autoencoder.fit(x_train, x_train, epochs=100, batch_size=32, shuffle=True, validation_data=(x_test, x_test))"
      ],
      "metadata": {
        "colab": {
          "base_uri": "https://localhost:8080/"
        },
        "id": "y_eNOVmJlmBB",
        "outputId": "1ada9a04-5dfb-40ec-b263-fd2f01928696"
      },
      "execution_count": null,
      "outputs": [
        {
          "output_type": "stream",
          "name": "stdout",
          "text": [
            "Epoch 1/100\n",
            "1875/1875 [==============================] - 10s 5ms/step - loss: 0.1260 - accuracy: 0.8071 - val_loss: 0.1052 - val_accuracy: 0.8119\n",
            "Epoch 2/100\n",
            "1875/1875 [==============================] - 9s 5ms/step - loss: 0.1015 - accuracy: 0.8119 - val_loss: 0.0979 - val_accuracy: 0.8113\n",
            "Epoch 3/100\n",
            "1875/1875 [==============================] - 9s 5ms/step - loss: 0.0980 - accuracy: 0.8125 - val_loss: 0.0953 - val_accuracy: 0.8117\n",
            "Epoch 4/100\n",
            "1875/1875 [==============================] - 9s 5ms/step - loss: 0.0966 - accuracy: 0.8128 - val_loss: 0.0981 - val_accuracy: 0.8106\n",
            "Epoch 5/100\n",
            "1875/1875 [==============================] - 9s 5ms/step - loss: 0.0958 - accuracy: 0.8129 - val_loss: 0.0958 - val_accuracy: 0.8125\n",
            "Epoch 6/100\n",
            "1875/1875 [==============================] - 9s 5ms/step - loss: 0.0953 - accuracy: 0.8130 - val_loss: 0.0928 - val_accuracy: 0.8124\n",
            "Epoch 7/100\n",
            "1875/1875 [==============================] - 9s 5ms/step - loss: 0.0948 - accuracy: 0.8130 - val_loss: 0.0977 - val_accuracy: 0.8115\n",
            "Epoch 8/100\n",
            "1875/1875 [==============================] - 9s 5ms/step - loss: 0.0944 - accuracy: 0.8131 - val_loss: 0.0984 - val_accuracy: 0.8103\n",
            "Epoch 9/100\n",
            "1875/1875 [==============================] - 9s 5ms/step - loss: 0.0941 - accuracy: 0.8131 - val_loss: 0.0923 - val_accuracy: 0.8122\n",
            "Epoch 10/100\n",
            "1875/1875 [==============================] - 9s 5ms/step - loss: 0.0937 - accuracy: 0.8132 - val_loss: 0.0933 - val_accuracy: 0.8130\n",
            "Epoch 11/100\n",
            "1875/1875 [==============================] - 9s 5ms/step - loss: 0.0935 - accuracy: 0.8132 - val_loss: 0.0930 - val_accuracy: 0.8118\n",
            "Epoch 12/100\n",
            "1875/1875 [==============================] - 9s 5ms/step - loss: 0.0932 - accuracy: 0.8133 - val_loss: 0.0923 - val_accuracy: 0.8130\n",
            "Epoch 13/100\n",
            "1875/1875 [==============================] - 9s 5ms/step - loss: 0.0930 - accuracy: 0.8133 - val_loss: 0.0921 - val_accuracy: 0.8128\n",
            "Epoch 14/100\n",
            "1875/1875 [==============================] - 9s 5ms/step - loss: 0.0926 - accuracy: 0.8133 - val_loss: 0.0909 - val_accuracy: 0.8122\n",
            "Epoch 15/100\n",
            "1875/1875 [==============================] - 9s 5ms/step - loss: 0.0925 - accuracy: 0.8134 - val_loss: 0.0901 - val_accuracy: 0.8127\n",
            "Epoch 16/100\n",
            "1875/1875 [==============================] - 9s 5ms/step - loss: 0.0923 - accuracy: 0.8134 - val_loss: 0.0919 - val_accuracy: 0.8130\n",
            "Epoch 17/100\n",
            "1875/1875 [==============================] - 9s 5ms/step - loss: 0.0921 - accuracy: 0.8134 - val_loss: 0.0902 - val_accuracy: 0.8128\n",
            "Epoch 18/100\n",
            "1875/1875 [==============================] - 9s 5ms/step - loss: 0.0920 - accuracy: 0.8134 - val_loss: 0.0915 - val_accuracy: 0.8129\n",
            "Epoch 19/100\n",
            "1875/1875 [==============================] - 9s 5ms/step - loss: 0.0917 - accuracy: 0.8134 - val_loss: 0.0923 - val_accuracy: 0.8130\n",
            "Epoch 20/100\n",
            "1875/1875 [==============================] - 9s 5ms/step - loss: 0.0917 - accuracy: 0.8135 - val_loss: 0.0926 - val_accuracy: 0.8129\n",
            "Epoch 21/100\n",
            "1875/1875 [==============================] - 9s 5ms/step - loss: 0.0914 - accuracy: 0.8135 - val_loss: 0.0905 - val_accuracy: 0.8123\n",
            "Epoch 22/100\n",
            "1875/1875 [==============================] - 9s 5ms/step - loss: 0.0914 - accuracy: 0.8135 - val_loss: 0.0904 - val_accuracy: 0.8124\n",
            "Epoch 23/100\n",
            "1875/1875 [==============================] - 10s 5ms/step - loss: 0.0912 - accuracy: 0.8135 - val_loss: 0.0892 - val_accuracy: 0.8128\n",
            "Epoch 24/100\n",
            "1875/1875 [==============================] - 10s 5ms/step - loss: 0.0912 - accuracy: 0.8135 - val_loss: 0.0899 - val_accuracy: 0.8130\n",
            "Epoch 25/100\n",
            "1875/1875 [==============================] - 10s 5ms/step - loss: 0.0909 - accuracy: 0.8136 - val_loss: 0.0890 - val_accuracy: 0.8125\n",
            "Epoch 26/100\n",
            "1875/1875 [==============================] - 10s 5ms/step - loss: 0.0909 - accuracy: 0.8136 - val_loss: 0.0891 - val_accuracy: 0.8126\n",
            "Epoch 27/100\n",
            "1875/1875 [==============================] - 9s 5ms/step - loss: 0.0907 - accuracy: 0.8136 - val_loss: 0.0899 - val_accuracy: 0.8126\n",
            "Epoch 28/100\n",
            "1875/1875 [==============================] - 9s 5ms/step - loss: 0.0907 - accuracy: 0.8136 - val_loss: 0.0898 - val_accuracy: 0.8123\n",
            "Epoch 29/100\n",
            "1875/1875 [==============================] - 9s 5ms/step - loss: 0.0905 - accuracy: 0.8136 - val_loss: 0.0892 - val_accuracy: 0.8130\n",
            "Epoch 30/100\n",
            "1875/1875 [==============================] - 10s 5ms/step - loss: 0.0906 - accuracy: 0.8136 - val_loss: 0.0909 - val_accuracy: 0.8130\n",
            "Epoch 31/100\n",
            "1875/1875 [==============================] - 10s 5ms/step - loss: 0.0903 - accuracy: 0.8136 - val_loss: 0.0898 - val_accuracy: 0.8124\n",
            "Epoch 32/100\n",
            "1875/1875 [==============================] - 9s 5ms/step - loss: 0.0904 - accuracy: 0.8136 - val_loss: 0.0887 - val_accuracy: 0.8125\n",
            "Epoch 33/100\n",
            "1875/1875 [==============================] - 9s 5ms/step - loss: 0.0903 - accuracy: 0.8137 - val_loss: 0.0882 - val_accuracy: 0.8128\n",
            "Epoch 34/100\n",
            "1875/1875 [==============================] - 9s 5ms/step - loss: 0.0903 - accuracy: 0.8137 - val_loss: 0.0916 - val_accuracy: 0.8115\n",
            "Epoch 35/100\n",
            "1875/1875 [==============================] - 10s 5ms/step - loss: 0.0903 - accuracy: 0.8137 - val_loss: 0.0881 - val_accuracy: 0.8126\n",
            "Epoch 36/100\n",
            "1875/1875 [==============================] - 10s 5ms/step - loss: 0.0902 - accuracy: 0.8137 - val_loss: 0.0893 - val_accuracy: 0.8123\n",
            "Epoch 37/100\n",
            "1875/1875 [==============================] - 9s 5ms/step - loss: 0.0902 - accuracy: 0.8137 - val_loss: 0.0894 - val_accuracy: 0.8122\n",
            "Epoch 38/100\n",
            "1875/1875 [==============================] - 9s 5ms/step - loss: 0.0901 - accuracy: 0.8137 - val_loss: 0.0891 - val_accuracy: 0.8124\n",
            "Epoch 39/100\n",
            "1875/1875 [==============================] - 9s 5ms/step - loss: 0.0901 - accuracy: 0.8137 - val_loss: 0.0886 - val_accuracy: 0.8131\n",
            "Epoch 40/100\n",
            "1875/1875 [==============================] - 9s 5ms/step - loss: 0.0901 - accuracy: 0.8137 - val_loss: 0.0879 - val_accuracy: 0.8129\n",
            "Epoch 41/100\n",
            "1875/1875 [==============================] - 9s 5ms/step - loss: 0.0901 - accuracy: 0.8137 - val_loss: 0.0876 - val_accuracy: 0.8130\n",
            "Epoch 42/100\n",
            "1875/1875 [==============================] - 10s 5ms/step - loss: 0.0900 - accuracy: 0.8137 - val_loss: 0.0880 - val_accuracy: 0.8130\n",
            "Epoch 43/100\n",
            "1875/1875 [==============================] - 10s 5ms/step - loss: 0.0901 - accuracy: 0.8137 - val_loss: 0.0907 - val_accuracy: 0.8119\n",
            "Epoch 44/100\n",
            "1875/1875 [==============================] - 9s 5ms/step - loss: 0.0900 - accuracy: 0.8137 - val_loss: 0.0879 - val_accuracy: 0.8129\n",
            "Epoch 45/100\n",
            "1875/1875 [==============================] - 9s 5ms/step - loss: 0.0900 - accuracy: 0.8137 - val_loss: 0.0889 - val_accuracy: 0.8129\n",
            "Epoch 46/100\n",
            "1875/1875 [==============================] - 9s 5ms/step - loss: 0.0900 - accuracy: 0.8137 - val_loss: 0.0903 - val_accuracy: 0.8131\n",
            "Epoch 47/100\n",
            "1875/1875 [==============================] - 10s 5ms/step - loss: 0.0900 - accuracy: 0.8137 - val_loss: 0.0889 - val_accuracy: 0.8127\n",
            "Epoch 48/100\n",
            "1875/1875 [==============================] - 10s 5ms/step - loss: 0.0899 - accuracy: 0.8137 - val_loss: 0.0888 - val_accuracy: 0.8131\n",
            "Epoch 49/100\n",
            "1875/1875 [==============================] - 10s 5ms/step - loss: 0.0899 - accuracy: 0.8137 - val_loss: 0.0903 - val_accuracy: 0.8122\n",
            "Epoch 50/100\n",
            "1875/1875 [==============================] - 9s 5ms/step - loss: 0.0899 - accuracy: 0.8137 - val_loss: 0.0889 - val_accuracy: 0.8127\n",
            "Epoch 51/100\n",
            "1875/1875 [==============================] - 10s 5ms/step - loss: 0.0898 - accuracy: 0.8137 - val_loss: 0.0882 - val_accuracy: 0.8127\n",
            "Epoch 52/100\n",
            "1875/1875 [==============================] - 9s 5ms/step - loss: 0.0899 - accuracy: 0.8137 - val_loss: 0.0893 - val_accuracy: 0.8124\n",
            "Epoch 53/100\n",
            "1875/1875 [==============================] - 9s 5ms/step - loss: 0.0898 - accuracy: 0.8137 - val_loss: 0.0892 - val_accuracy: 0.8130\n",
            "Epoch 54/100\n",
            "1875/1875 [==============================] - 9s 5ms/step - loss: 0.0900 - accuracy: 0.8137 - val_loss: 0.0891 - val_accuracy: 0.8131\n",
            "Epoch 55/100\n",
            "1875/1875 [==============================] - 10s 5ms/step - loss: 0.0898 - accuracy: 0.8137 - val_loss: 0.0885 - val_accuracy: 0.8124\n",
            "Epoch 56/100\n",
            "1875/1875 [==============================] - 9s 5ms/step - loss: 0.0898 - accuracy: 0.8137 - val_loss: 0.0880 - val_accuracy: 0.8133\n",
            "Epoch 57/100\n",
            "1875/1875 [==============================] - 9s 5ms/step - loss: 0.0898 - accuracy: 0.8137 - val_loss: 0.0884 - val_accuracy: 0.8126\n",
            "Epoch 58/100\n",
            "1875/1875 [==============================] - 10s 5ms/step - loss: 0.0897 - accuracy: 0.8137 - val_loss: 0.0912 - val_accuracy: 0.8118\n",
            "Epoch 59/100\n",
            "1875/1875 [==============================] - 10s 5ms/step - loss: 0.0898 - accuracy: 0.8137 - val_loss: 0.0881 - val_accuracy: 0.8126\n",
            "Epoch 60/100\n",
            "1875/1875 [==============================] - 10s 5ms/step - loss: 0.0898 - accuracy: 0.8137 - val_loss: 0.0915 - val_accuracy: 0.8120\n",
            "Epoch 61/100\n",
            "1875/1875 [==============================] - 10s 5ms/step - loss: 0.0898 - accuracy: 0.8137 - val_loss: 0.0889 - val_accuracy: 0.8133\n",
            "Epoch 62/100\n",
            "1875/1875 [==============================] - 9s 5ms/step - loss: 0.0898 - accuracy: 0.8137 - val_loss: 0.0881 - val_accuracy: 0.8128\n",
            "Epoch 63/100\n",
            "1875/1875 [==============================] - 9s 5ms/step - loss: 0.0898 - accuracy: 0.8137 - val_loss: 0.0886 - val_accuracy: 0.8128\n",
            "Epoch 64/100\n",
            "1875/1875 [==============================] - 10s 5ms/step - loss: 0.0898 - accuracy: 0.8137 - val_loss: 0.0875 - val_accuracy: 0.8128\n",
            "Epoch 65/100\n",
            "1875/1875 [==============================] - 9s 5ms/step - loss: 0.0897 - accuracy: 0.8137 - val_loss: 0.0874 - val_accuracy: 0.8128\n",
            "Epoch 66/100\n",
            "1875/1875 [==============================] - 9s 5ms/step - loss: 0.0897 - accuracy: 0.8137 - val_loss: 0.0899 - val_accuracy: 0.8126\n",
            "Epoch 67/100\n",
            "1875/1875 [==============================] - 9s 5ms/step - loss: 0.0897 - accuracy: 0.8137 - val_loss: 0.0876 - val_accuracy: 0.8128\n",
            "Epoch 68/100\n",
            "1875/1875 [==============================] - 10s 5ms/step - loss: 0.0898 - accuracy: 0.8137 - val_loss: 0.0883 - val_accuracy: 0.8132\n",
            "Epoch 69/100\n",
            "1875/1875 [==============================] - 10s 5ms/step - loss: 0.0896 - accuracy: 0.8137 - val_loss: 0.0900 - val_accuracy: 0.8119\n",
            "Epoch 70/100\n",
            "1875/1875 [==============================] - 9s 5ms/step - loss: 0.0897 - accuracy: 0.8137 - val_loss: 0.0898 - val_accuracy: 0.8134\n",
            "Epoch 71/100\n",
            "1875/1875 [==============================] - 10s 5ms/step - loss: 0.0897 - accuracy: 0.8137 - val_loss: 0.0903 - val_accuracy: 0.8120\n",
            "Epoch 72/100\n",
            "1875/1875 [==============================] - 10s 5ms/step - loss: 0.0897 - accuracy: 0.8137 - val_loss: 0.0897 - val_accuracy: 0.8122\n",
            "Epoch 73/100\n",
            "1875/1875 [==============================] - 10s 5ms/step - loss: 0.0896 - accuracy: 0.8137 - val_loss: 0.0881 - val_accuracy: 0.8131\n",
            "Epoch 74/100\n",
            "1875/1875 [==============================] - 10s 5ms/step - loss: 0.0897 - accuracy: 0.8137 - val_loss: 0.0881 - val_accuracy: 0.8127\n",
            "Epoch 75/100\n",
            "1875/1875 [==============================] - 9s 5ms/step - loss: 0.0896 - accuracy: 0.8137 - val_loss: 0.0898 - val_accuracy: 0.8128\n",
            "Epoch 76/100\n",
            "1875/1875 [==============================] - 9s 5ms/step - loss: 0.0896 - accuracy: 0.8137 - val_loss: 0.0899 - val_accuracy: 0.8133\n",
            "Epoch 77/100\n",
            "1875/1875 [==============================] - 9s 5ms/step - loss: 0.0895 - accuracy: 0.8137 - val_loss: 0.0887 - val_accuracy: 0.8125\n",
            "Epoch 78/100\n",
            "1875/1875 [==============================] - 10s 5ms/step - loss: 0.0897 - accuracy: 0.8137 - val_loss: 0.0920 - val_accuracy: 0.8134\n",
            "Epoch 79/100\n",
            "1875/1875 [==============================] - 9s 5ms/step - loss: 0.0895 - accuracy: 0.8137 - val_loss: 0.0875 - val_accuracy: 0.8130\n",
            "Epoch 80/100\n",
            "1875/1875 [==============================] - 10s 5ms/step - loss: 0.0895 - accuracy: 0.8137 - val_loss: 0.0881 - val_accuracy: 0.8126\n",
            "Epoch 81/100\n",
            "1875/1875 [==============================] - 10s 5ms/step - loss: 0.0895 - accuracy: 0.8137 - val_loss: 0.0873 - val_accuracy: 0.8131\n",
            "Epoch 82/100\n",
            "1875/1875 [==============================] - 9s 5ms/step - loss: 0.0895 - accuracy: 0.8137 - val_loss: 0.0888 - val_accuracy: 0.8128\n",
            "Epoch 83/100\n",
            "1875/1875 [==============================] - 9s 5ms/step - loss: 0.0896 - accuracy: 0.8137 - val_loss: 0.0891 - val_accuracy: 0.8126\n",
            "Epoch 84/100\n",
            "1875/1875 [==============================] - 10s 5ms/step - loss: 0.0894 - accuracy: 0.8137 - val_loss: 0.0874 - val_accuracy: 0.8127\n",
            "Epoch 85/100\n",
            "1875/1875 [==============================] - 9s 5ms/step - loss: 0.0894 - accuracy: 0.8137 - val_loss: 0.0893 - val_accuracy: 0.8122\n",
            "Epoch 86/100\n",
            "1875/1875 [==============================] - 9s 5ms/step - loss: 0.0894 - accuracy: 0.8138 - val_loss: 0.0890 - val_accuracy: 0.8124\n",
            "Epoch 87/100\n",
            "1875/1875 [==============================] - 9s 5ms/step - loss: 0.0896 - accuracy: 0.8137 - val_loss: 0.0881 - val_accuracy: 0.8128\n",
            "Epoch 88/100\n",
            "1875/1875 [==============================] - 9s 5ms/step - loss: 0.0895 - accuracy: 0.8137 - val_loss: 0.0885 - val_accuracy: 0.8124\n",
            "Epoch 89/100\n",
            "1875/1875 [==============================] - 10s 5ms/step - loss: 0.0895 - accuracy: 0.8137 - val_loss: 0.0916 - val_accuracy: 0.8117\n",
            "Epoch 90/100\n",
            "1875/1875 [==============================] - 9s 5ms/step - loss: 0.0894 - accuracy: 0.8138 - val_loss: 0.0891 - val_accuracy: 0.8132\n",
            "Epoch 91/100\n",
            "1875/1875 [==============================] - 10s 5ms/step - loss: 0.0895 - accuracy: 0.8138 - val_loss: 0.0917 - val_accuracy: 0.8134\n",
            "Epoch 92/100\n",
            "1875/1875 [==============================] - 9s 5ms/step - loss: 0.0895 - accuracy: 0.8138 - val_loss: 0.0876 - val_accuracy: 0.8128\n",
            "Epoch 93/100\n",
            "1875/1875 [==============================] - 10s 5ms/step - loss: 0.0895 - accuracy: 0.8138 - val_loss: 0.0892 - val_accuracy: 0.8121\n",
            "Epoch 94/100\n",
            "1875/1875 [==============================] - 10s 5ms/step - loss: 0.0895 - accuracy: 0.8138 - val_loss: 0.0883 - val_accuracy: 0.8122\n",
            "Epoch 95/100\n",
            "1875/1875 [==============================] - 10s 5ms/step - loss: 0.0894 - accuracy: 0.8138 - val_loss: 0.0899 - val_accuracy: 0.8132\n",
            "Epoch 96/100\n",
            "1875/1875 [==============================] - 9s 5ms/step - loss: 0.0894 - accuracy: 0.8138 - val_loss: 0.0885 - val_accuracy: 0.8130\n",
            "Epoch 97/100\n",
            "1875/1875 [==============================] - 10s 5ms/step - loss: 0.0895 - accuracy: 0.8138 - val_loss: 0.0886 - val_accuracy: 0.8131\n",
            "Epoch 98/100\n",
            "1875/1875 [==============================] - 9s 5ms/step - loss: 0.0894 - accuracy: 0.8138 - val_loss: 0.0874 - val_accuracy: 0.8130\n",
            "Epoch 99/100\n",
            "1875/1875 [==============================] - 10s 5ms/step - loss: 0.0895 - accuracy: 0.8138 - val_loss: 0.0874 - val_accuracy: 0.8130\n",
            "Epoch 100/100\n",
            "1875/1875 [==============================] - 9s 5ms/step - loss: 0.0894 - accuracy: 0.8138 - val_loss: 0.0877 - val_accuracy: 0.8130\n"
          ]
        },
        {
          "output_type": "execute_result",
          "data": {
            "text/plain": [
              "<keras.callbacks.History at 0x7f8fc6181610>"
            ]
          },
          "metadata": {},
          "execution_count": 123
        }
      ]
    },
    {
      "cell_type": "code",
      "source": [
        "decoded_imgs = autoencoder.predict(x_test)"
      ],
      "metadata": {
        "id": "FhxTzdQ4m8XJ"
      },
      "execution_count": null,
      "outputs": []
    },
    {
      "cell_type": "code",
      "source": [
        "x_test.shape"
      ],
      "metadata": {
        "colab": {
          "base_uri": "https://localhost:8080/"
        },
        "id": "PyejPtHXtKPD",
        "outputId": "4e81e32c-122a-4d38-ab72-cd34d398019a"
      },
      "execution_count": null,
      "outputs": [
        {
          "output_type": "execute_result",
          "data": {
            "text/plain": [
              "(10000, 28, 28)"
            ]
          },
          "metadata": {},
          "execution_count": 125
        }
      ]
    },
    {
      "cell_type": "code",
      "source": [
        "decoded_imgs.shape"
      ],
      "metadata": {
        "colab": {
          "base_uri": "https://localhost:8080/"
        },
        "id": "BWvxjlgPtGC4",
        "outputId": "daca7e95-2211-4426-fba2-dbbdacd96a2e"
      },
      "execution_count": null,
      "outputs": [
        {
          "output_type": "execute_result",
          "data": {
            "text/plain": [
              "(10000, 28, 28, 1)"
            ]
          },
          "metadata": {},
          "execution_count": 126
        }
      ]
    },
    {
      "cell_type": "code",
      "source": [
        "decoded_imgs = decoded_imgs[:,:,:,0]\n",
        "#x_test = x_test[:,:,:,0]"
      ],
      "metadata": {
        "id": "vTgYmcs6ti1f"
      },
      "execution_count": null,
      "outputs": []
    },
    {
      "cell_type": "code",
      "source": [
        "random_number = randint(0,10000)\n",
        "#img1 = io.imread(images[random_number])\n",
        "#img2 = io.imread(augmented_images[random_number])\n",
        "\n",
        "fig = make_subplots(\n",
        "    rows=1, cols=2)\n",
        "fig_img1 = px.imshow(x_test[random_number], color_continuous_scale='gray')\n",
        "fig_img2 = px.imshow(decoded_imgs[random_number], color_continuous_scale='gray')\n",
        "\n",
        "fig.add_trace(fig_img1.data[0], 1, 1)\n",
        "fig.add_trace(fig_img2.data[0], 1, 2)\n",
        "\n",
        "fig.show()"
      ],
      "metadata": {
        "colab": {
          "base_uri": "https://localhost:8080/",
          "height": 542
        },
        "id": "AEEGXf6BnOPe",
        "outputId": "8820907b-a67f-44a9-9f7e-7ab71e709a4b"
      },
      "execution_count": null,
      "outputs": [
        {
          "output_type": "display_data",
          "data": {
            "text/html": [
              "<html>\n",
              "<head><meta charset=\"utf-8\" /></head>\n",
              "<body>\n",
              "    <div>            <script src=\"https://cdnjs.cloudflare.com/ajax/libs/mathjax/2.7.5/MathJax.js?config=TeX-AMS-MML_SVG\"></script><script type=\"text/javascript\">if (window.MathJax) {MathJax.Hub.Config({SVG: {font: \"STIX-Web\"}});}</script>                <script type=\"text/javascript\">window.PlotlyConfig = {MathJaxConfig: 'local'};</script>\n",
              "        <script src=\"https://cdn.plot.ly/plotly-2.8.3.min.js\"></script>                <div id=\"d73496e3-0650-42ba-b5b5-6b98f68da77b\" class=\"plotly-graph-div\" style=\"height:525px; width:100%;\"></div>            <script type=\"text/javascript\">                                    window.PLOTLYENV=window.PLOTLYENV || {};                                    if (document.getElementById(\"d73496e3-0650-42ba-b5b5-6b98f68da77b\")) {                    Plotly.newPlot(                        \"d73496e3-0650-42ba-b5b5-6b98f68da77b\",                        [{\"coloraxis\":\"coloraxis\",\"hovertemplate\":\"x: %{x}<br>y: %{y}<br>color: %{z}<extra></extra>\",\"name\":\"0\",\"xaxis\":\"x\",\"yaxis\":\"y\",\"z\":[[0.0,0.0,0.0,0.0,0.0,0.0,0.0,0.0,0.0,0.0,0.0,0.0,0.0,0.0,0.0,0.0,0.0,0.0,0.0,0.0,0.0,0.0,0.0,0.0,0.0,0.0,0.0,0.0],[0.0,0.0,0.0,0.0,0.0,0.0,0.0,0.0,0.0,0.0,0.0,0.0,0.0,0.0,0.0,0.0,0.0,0.0,0.0,0.0,0.0,0.0,0.0,0.0,0.0,0.0,0.0,0.0],[0.0,0.0,0.0,0.0,0.0,0.0,0.0,0.0,0.0,0.0,0.0,0.0,0.0,0.0,0.0,0.0,0.0,0.26274511218070984,0.8745098114013672,0.4745098054409027,0.0,0.0,0.0,0.0,0.0,0.0,0.0,0.0],[0.0,0.0,0.0,0.0,0.0,0.0,0.0,0.0,0.0,0.0,0.0,0.0,0.0,0.0,0.0,0.0,0.0,0.6000000238418579,0.9960784316062927,0.47058823704719543,0.0,0.0,0.0,0.0,0.0,0.0,0.0,0.0],[0.0,0.0,0.0,0.0,0.0,0.0,0.0,0.0,0.0,0.0,0.0,0.0,0.0,0.0,0.0,0.0,0.26274511218070984,0.9450980424880981,0.9960784316062927,0.1921568661928177,0.0,0.0,0.0,0.0,0.0,0.0,0.0,0.0],[0.0,0.0,0.0,0.0,0.0,0.0,0.0,0.0,0.0,0.0,0.0,0.0,0.0,0.0,0.0,0.2705882489681244,0.9647058844566345,0.9960784316062927,0.6313725709915161,0.003921568859368563,0.0,0.0,0.0,0.0,0.0,0.0,0.0,0.0],[0.0,0.0,0.0,0.0,0.0,0.0,0.0,0.0,0.0,0.0,0.0,0.0,0.0,0.0,0.2666666805744171,0.9529411792755127,0.9960784316062927,0.7490196228027344,0.05098039284348488,0.0,0.0,0.0,0.0,0.0,0.0,0.0,0.0,0.0],[0.0,0.0,0.0,0.0,0.0,0.0,0.0,0.0,0.0,0.0,0.0,0.0,0.0,0.3960784375667572,0.9450980424880981,0.9960784316062927,0.7450980544090271,0.05882352963089943,0.0,0.0,0.0,0.0,0.0,0.0,0.0,0.0,0.0,0.0],[0.0,0.0,0.0,0.0,0.0,0.0,0.0,0.0,0.0,0.0,0.0,0.019607843831181526,0.4745098054409027,0.9764705896377563,0.9960784316062927,0.7411764860153198,0.1882352977991104,0.0,0.0,0.0,0.0,0.0,0.0,0.0,0.0,0.0,0.0,0.0],[0.0,0.0,0.0,0.0,0.0,0.0,0.0,0.0,0.0,0.0,0.125490203499794,0.6392157077789307,0.9960784316062927,0.9960784316062927,0.772549033164978,0.1764705926179886,0.0,0.0,0.0,0.0,0.0,0.0,0.0,0.0,0.0,0.0,0.0,0.0],[0.0,0.0,0.0,0.0,0.0,0.0,0.0,0.0,0.0,0.10980392247438431,0.8627451062202454,0.9960784316062927,0.9960784316062927,0.6196078658103943,0.05882352963089943,0.0,0.0,0.0,0.0,0.0,0.0,0.0,0.0,0.0,0.0,0.0,0.0,0.0],[0.0,0.0,0.0,0.0,0.0,0.0,0.0,0.0,0.12941177189350128,0.7137255072593689,0.9960784316062927,0.9843137264251709,0.545098066329956,0.0235294122248888,0.0,0.0,0.10588235408067703,0.3490196168422699,0.5647059082984924,0.5647059082984924,0.2705882489681244,0.0,0.0,0.0,0.0,0.0,0.0,0.0],[0.0,0.0,0.0,0.0,0.0,0.0,0.0,0.01568627543747425,0.6431372761726379,0.9960784316062927,0.9058823585510254,0.3803921639919281,0.0,0.0,0.003921568859368563,0.3176470696926117,0.886274516582489,0.9960784316062927,0.9960784316062927,0.9960784316062927,0.9882352948188782,0.18039216101169586,0.0,0.0,0.0,0.0,0.0,0.0],[0.0,0.0,0.0,0.0,0.0,0.0,0.0,0.48627451062202454,0.9960784316062927,0.8941176533699036,0.4117647111415863,0.0,0.0,0.05882352963089943,0.6274510025978088,0.9960784316062927,0.9960784316062927,0.9960784316062927,0.9960784316062927,0.9960784316062927,0.9960784316062927,0.7333333492279053,0.0,0.0,0.0,0.0,0.0,0.0],[0.0,0.0,0.0,0.0,0.0,0.0,0.26274511218070984,0.9647058844566345,0.9960784316062927,0.5921568870544434,0.0,0.0,0.0,0.7450980544090271,0.9960784316062927,0.8823529481887817,0.2705882489681244,0.07450980693101883,0.07450980693101883,0.21568627655506134,0.9960784316062927,0.7333333492279053,0.0,0.0,0.0,0.0,0.0,0.0],[0.0,0.0,0.0,0.0,0.0,0.0,0.7372549176216125,0.9960784316062927,0.7647058963775635,0.05882352963089943,0.0,0.003921568859368563,0.4274509847164154,0.9882352948188782,0.7803921699523926,0.06666667014360428,0.0,0.0,0.0,0.16862745583057404,0.9960784316062927,0.7333333492279053,0.0,0.0,0.0,0.0,0.0,0.0],[0.0,0.0,0.0,0.0,0.0,0.0784313753247261,0.9098039269447327,0.9960784316062927,0.5254902243614197,0.0,0.0,0.0784313753247261,0.9960784316062927,0.9960784316062927,0.1882352977991104,0.0,0.0,0.0,0.0,0.6352941393852234,0.9921568632125854,0.3843137323856354,0.0,0.0,0.0,0.0,0.0,0.0],[0.0,0.0,0.0,0.0,0.0,0.11372549086809158,0.9960784316062927,0.9960784316062927,0.5254902243614197,0.0,0.0,0.27843138575553894,0.9960784316062927,0.5686274766921997,0.019607843831181526,0.0,0.0,0.0,0.3176470696926117,0.9882352948188782,0.9215686321258545,0.0,0.0,0.0,0.0,0.0,0.0,0.0],[0.0,0.0,0.0,0.0,0.0,0.027450980618596077,0.7960784435272217,0.9960784316062927,0.8549019694328308,0.2705882489681244,0.003921568859368563,0.45490196347236633,0.9960784316062927,0.054901961237192154,0.0,0.007843137718737125,0.019607843831181526,0.47843137383461,0.9215686321258545,0.9372549057006836,0.364705890417099,0.0,0.0,0.0,0.0,0.0,0.0,0.0],[0.0,0.0,0.0,0.0,0.0,0.0,0.4000000059604645,0.8941176533699036,0.9960784316062927,0.9960784316062927,0.5764706134796143,0.5960784554481506,0.9960784316062927,0.30588236451148987,0.29019609093666077,0.7490196228027344,0.9960784316062927,0.9960784316062927,0.9215686321258545,0.48235294222831726,0.0,0.0,0.0,0.0,0.0,0.0,0.0,0.0],[0.0,0.0,0.0,0.0,0.0,0.0,0.0,0.2980392277240753,0.8705882430076599,0.9960784316062927,0.9960784316062927,0.9960784316062927,0.9960784316062927,0.9960784316062927,0.9960784316062927,0.9960784316062927,0.9254902005195618,0.5647059082984924,0.2078431397676468,0.0,0.0,0.0,0.0,0.0,0.0,0.0,0.0,0.0],[0.0,0.0,0.0,0.0,0.0,0.0,0.0,0.0,0.11764705926179886,0.37254902720451355,0.6196078658103943,0.7921568751335144,0.9960784316062927,0.8549019694328308,0.6901960968971252,0.5058823823928833,0.10980392247438431,0.0,0.0,0.0,0.0,0.0,0.0,0.0,0.0,0.0,0.0,0.0],[0.0,0.0,0.0,0.0,0.0,0.0,0.0,0.0,0.0,0.0,0.0,0.0,0.0,0.0,0.0,0.0,0.0,0.0,0.0,0.0,0.0,0.0,0.0,0.0,0.0,0.0,0.0,0.0],[0.0,0.0,0.0,0.0,0.0,0.0,0.0,0.0,0.0,0.0,0.0,0.0,0.0,0.0,0.0,0.0,0.0,0.0,0.0,0.0,0.0,0.0,0.0,0.0,0.0,0.0,0.0,0.0],[0.0,0.0,0.0,0.0,0.0,0.0,0.0,0.0,0.0,0.0,0.0,0.0,0.0,0.0,0.0,0.0,0.0,0.0,0.0,0.0,0.0,0.0,0.0,0.0,0.0,0.0,0.0,0.0],[0.0,0.0,0.0,0.0,0.0,0.0,0.0,0.0,0.0,0.0,0.0,0.0,0.0,0.0,0.0,0.0,0.0,0.0,0.0,0.0,0.0,0.0,0.0,0.0,0.0,0.0,0.0,0.0],[0.0,0.0,0.0,0.0,0.0,0.0,0.0,0.0,0.0,0.0,0.0,0.0,0.0,0.0,0.0,0.0,0.0,0.0,0.0,0.0,0.0,0.0,0.0,0.0,0.0,0.0,0.0,0.0],[0.0,0.0,0.0,0.0,0.0,0.0,0.0,0.0,0.0,0.0,0.0,0.0,0.0,0.0,0.0,0.0,0.0,0.0,0.0,0.0,0.0,0.0,0.0,0.0,0.0,0.0,0.0,0.0]],\"type\":\"heatmap\"},{\"coloraxis\":\"coloraxis\",\"hovertemplate\":\"x: %{x}<br>y: %{y}<br>color: %{z}<extra></extra>\",\"name\":\"0\",\"xaxis\":\"x2\",\"yaxis\":\"y2\",\"z\":[[0.001940609305165708,0.00011491801706142724,5.887736278964439e-06,7.225771128105407e-07,4.615281312680963e-08,1.5959573218538026e-08,6.616355463506807e-09,1.5811191245163059e-09,5.803800773307444e-10,3.9360598114157597e-11,4.779987863856583e-11,1.5719710255712727e-10,4.565319511318222e-10,1.4442484985721649e-09,4.099187211892286e-09,1.0251247850590062e-08,1.2661141113312624e-07,4.347387402958702e-06,0.0002845865674316883,0.0012361817061901093,0.00040424964390695095,9.875217074295506e-05,0.00010216473310720176,0.00030630588298663497,0.0004707907501142472,0.0009519336163066328,0.0005265072104521096,0.000474188884254545],[8.096454985206947e-05,2.697207719393191e-06,3.15945598572398e-08,4.3831538398819703e-10,4.387250285287081e-11,2.0850392246085647e-10,2.752634786773456e-10,2.431967474625374e-11,1.240975855062998e-12,2.2466532486383611e-13,1.3913389754552363e-12,8.604309972848334e-12,6.649799461078132e-11,1.967666030111559e-10,2.2245105757434658e-09,4.555138843898021e-08,2.7331532237440115e-06,0.00047260680003091693,0.028385477140545845,0.005600938573479652,0.00036430079489946365,1.850628359534312e-05,1.1586130312934984e-05,4.215838998788968e-05,3.402475340408273e-05,5.478510502143763e-05,1.543554571981076e-05,2.5581390218576416e-05],[1.3786534509563353e-06,1.073823785446848e-08,3.920567481774384e-10,5.7528393160311e-10,7.550997049854402e-10,2.0836845582294927e-09,4.9711359473292305e-09,1.754767997574902e-10,1.7303946470148546e-11,2.2298309032553476e-11,1.2734216459087122e-10,3.936032055840144e-10,1.470639721112832e-09,7.591869355394465e-09,2.946165125194966e-07,5.269744178804103e-06,0.00033428429742343724,0.07687082141637802,0.5935372710227966,0.12956123054027557,0.007810539100319147,0.00032687300699763,0.00018809094035532326,0.00024196345475502312,3.404234303161502e-05,1.5669587810407393e-05,1.522144884802401e-06,7.741579793218989e-06],[3.3977327895673426e-11,3.0526956288322304e-13,5.2078896750629156e-12,1.983628261648107e-10,1.1204875960402205e-07,1.2847305441709977e-08,8.06808753139876e-09,5.064608732396891e-10,3.201479359393744e-10,1.7936394591799854e-09,3.818262150900864e-09,6.314201606016923e-09,1.2206395005875947e-08,1.824973594466428e-07,1.407135550834937e-05,0.0001986596325878054,0.014505944214761257,0.8050166964530945,0.9194546937942505,0.36629799008369446,0.024814032018184662,0.0012531607644632459,0.0006735119968652725,0.00035271505475975573,2.3919517843751237e-05,6.471054803114384e-06,7.582053171972802e-07,1.951521699083969e-05],[7.411604462924132e-17,2.3916611677808953e-19,2.1557907008974123e-16,8.424395729622614e-12,1.0745869758466142e-06,2.5212163023979883e-08,1.4962777683535933e-08,2.4900510542380516e-09,3.119782432392526e-09,2.651475838888473e-08,4.4986020242276936e-08,7.700477056005184e-08,1.224818078071621e-07,1.387296151733608e-06,8.213858382077888e-05,0.003369578393176198,0.1880962997674942,0.9636609554290771,0.9555569291114807,0.34336286783218384,0.023625127971172333,0.0009112564730457962,0.00013884183135814965,4.902669388684444e-05,9.319394848716911e-06,5.180722382647218e-06,2.239765763079049e-06,2.9463633836712688e-05],[1.414251352602386e-21,2.4403802589160085e-24,9.07429953270166e-19,1.3493610742654205e-11,1.7834936443250626e-06,1.0429297425673667e-08,1.456329190574479e-08,8.657743855167155e-09,3.0632310910050364e-08,1.3688378430742887e-07,4.3079879219476425e-07,1.0755188668554183e-06,2.5645304049248807e-06,3.627058322308585e-05,0.001781617058441043,0.06603334099054337,0.7437252402305603,0.9732010960578918,0.8635590076446533,0.1434416025876999,0.006863323040306568,0.0001411882258253172,1.358089593850309e-05,1.1765307135647163e-05,3.371173079358414e-06,2.470753315719776e-06,1.6002709344320465e-06,8.974830052466132e-06],[1.0583316094817118e-23,8.595805104370388e-25,5.7029760537315355e-18,1.0187158191662937e-12,1.5060447822179412e-07,1.934614601850626e-08,4.044907697675626e-08,4.0968831882537415e-08,9.452870841641925e-08,6.56030010759423e-07,6.072285941627342e-06,2.384870094829239e-05,0.00012310534657444805,0.0030322789680212736,0.09292175620794296,0.6078653931617737,0.9451817274093628,0.9692553877830505,0.70777827501297,0.03915146738290787,0.001977253705263138,7.729212666163221e-05,8.273047569673508e-06,7.576374628115445e-06,3.2463510706293164e-06,4.024575446237577e-06,3.4899871934612747e-06,7.093746262398781e-06],[1.0015244362850636e-20,3.09854651943747e-20,6.594409839423641e-16,1.738449119902119e-12,1.3130165399388716e-08,4.8937135233018125e-08,1.4311559937141283e-07,1.263282172203617e-07,3.9640445947952685e-07,6.058484814275289e-06,0.00015803005953785032,0.0008903633570298553,0.010033652186393738,0.17711345851421356,0.7175638675689697,0.8683300018310547,0.8343696594238281,0.7635409235954285,0.21949152648448944,0.009992982260882854,0.0013459334149956703,0.00020153634250164032,2.09768331842497e-05,1.1027895197912585e-05,4.9896993914444465e-06,6.274523457250325e-06,3.079903990510502e-06,3.3224357594008325e-06],[7.210073196036587e-15,2.9020524031146645e-15,1.4923500803176726e-12,2.107746754909101e-10,1.7644659067173052e-08,8.26183139679415e-08,2.1689670859359467e-07,4.89177239160199e-07,2.2285880731942598e-06,5.503943975782022e-05,0.002562861889600754,0.032333143055438995,0.3516940772533417,0.8022135496139526,0.9282387495040894,0.8448519110679626,0.57289719581604,0.37821951508522034,0.0830477699637413,0.013927614316344261,0.0030411395709961653,0.00025777111295610666,3.424774331506342e-05,1.1010115485987626e-05,2.7377209335099906e-06,3.6982837627874687e-06,1.2839254850405268e-06,3.1749264053360093e-06],[2.4290550040134695e-12,8.309676460382248e-14,4.827604982438061e-11,1.894956191961228e-09,6.358473569889611e-08,2.04844724294162e-07,1.492521732870955e-06,1.0859555914066732e-05,8.6773514340166e-05,0.00241432199254632,0.12536072731018066,0.5860199332237244,0.8768795728683472,0.9095084071159363,0.851837158203125,0.5872243642807007,0.3022036850452423,0.2453104853630066,0.09298575669527054,0.03560895845293999,0.008860222063958645,0.0005750749260187149,7.763694884488359e-05,8.135719326674007e-06,2.2618660295847803e-06,4.849748165725032e-06,1.3136524330548127e-06,5.83109203944332e-06],[2.0463277339982655e-12,4.2522238443039317e-13,3.253874392150635e-10,2.8764306492234937e-09,4.0621177532784714e-08,4.7291703708651767e-07,1.6726127796573564e-05,0.00020608126942534,0.0023891611490398645,0.10414119064807892,0.7966898679733276,0.8743355870246887,0.8697717189788818,0.6981934309005737,0.39354971051216125,0.21953468024730682,0.13997052609920502,0.13293859362602234,0.09894082695245743,0.05509540066123009,0.01573740504682064,0.002169226296246052,0.00016441401385236531,4.7546491259709e-06,2.501392145859427e-06,4.743425961351022e-06,7.288433039320807e-07,4.242147497279802e-06],[3.546085994288184e-11,4.9732079565600884e-11,5.0395096984345855e-09,3.5394961628298915e-08,1.3822022992826533e-07,2.056050107057672e-06,0.0001809775276342407,0.0029303450137376785,0.04770583659410477,0.7108693718910217,0.932971715927124,0.7729811072349548,0.441420316696167,0.2262025624513626,0.1152438372373581,0.16974973678588867,0.2433939129114151,0.2629517614841461,0.3620639443397522,0.3014719784259796,0.1783093363046646,0.060344863682985306,0.0016625181306153536,1.0339099389966577e-05,5.405686806625454e-06,1.1190016266482417e-05,4.971366251993459e-07,5.414442057372071e-06],[3.3084852635312245e-09,5.252769774699573e-09,1.203466979404766e-07,3.1021286872601195e-07,2.8317512601461203e-07,5.692159902537242e-06,0.00063419557409361,0.05144524574279785,0.5269895195960999,0.8943038582801819,0.9030025005340576,0.3760528266429901,0.14698392152786255,0.2030307799577713,0.23634418845176697,0.5177757143974304,0.6979591250419617,0.639814555644989,0.758405864238739,0.8363429307937622,0.7962901592254639,0.5116280317306519,0.01583605445921421,7.583154365420341e-05,1.3303380910656415e-05,6.8123558776278514e-06,8.87336000232608e-08,4.6084169298410416e-06],[3.759482680720794e-08,1.6522687218412102e-08,3.9873202695162036e-07,6.562520979969122e-07,1.2113526963730692e-06,0.00014598919369746,0.015740737318992615,0.3946256935596466,0.8830769062042236,0.8555999994277954,0.6096274852752686,0.12511514127254486,0.1211053878068924,0.37968793511390686,0.6076566576957703,0.8396269679069519,0.8290476202964783,0.6631836891174316,0.711626410484314,0.9117789268493652,0.9336649775505066,0.7173659205436707,0.022516191005706787,0.00010007135279010981,5.806863100588089e-06,1.8180558072344866e-06,6.237440430822971e-08,8.214031367970165e-06],[7.3052364157888405e-09,6.114858397410217e-09,4.937822382089507e-07,4.299095962778665e-06,3.1802184821572155e-05,0.004155635833740234,0.20140357315540314,0.8229252696037292,0.9626378417015076,0.7945628762245178,0.3944854736328125,0.11690951138734818,0.17264947295188904,0.5380085110664368,0.7695735692977905,0.8546386361122131,0.5974048376083374,0.28610166907310486,0.304177850484848,0.6753053665161133,0.8976808786392212,0.7392727732658386,0.02611289918422699,0.00012181744386907667,3.7381932997959666e-06,5.282285542307363e-07,1.5343898596142935e-08,4.987220563634764e-06],[2.6045734458080005e-09,6.655893614038177e-10,1.889087855033722e-07,8.712171620572917e-06,0.0002189803635701537,0.06760720163583755,0.7378018498420715,0.9479533433914185,0.9409611225128174,0.4769130051136017,0.17516854405403137,0.08179322630167007,0.14382575452327728,0.4584336578845978,0.6672797203063965,0.6080283522605896,0.17450492084026337,0.04798088222742081,0.07266321033239365,0.39037925004959106,0.8771636486053467,0.7231624722480774,0.03154069185256958,0.00019002066983375698,3.924375505448552e-06,2.208483209642509e-07,1.0359590518760342e-08,1.0367178219894413e-05],[5.582270201642814e-10,1.2970895191255494e-10,7.267576762615136e-08,6.105181000748416e-06,0.00042967943591065705,0.19884897768497467,0.8838517069816589,0.9423693418502808,0.7847142815589905,0.17328248918056488,0.058564044535160065,0.02574235014617443,0.040886376053094864,0.14985932409763336,0.2645816504955292,0.1705012321472168,0.024187006056308746,0.01039849128574133,0.03854387626051903,0.5055522322654724,0.9322704672813416,0.5891836881637573,0.025815628468990326,0.00035903340904042125,7.372571872110711e-06,6.576066198249464e-07,7.82239908403426e-08,1.680999957898166e-05],[3.596287712070989e-10,1.2678934291354693e-10,6.759606208106561e-08,4.698345946962945e-06,0.0005014862981624901,0.15949170291423798,0.7907556295394897,0.8864684104919434,0.6169050335884094,0.1588384062051773,0.05490776523947716,0.020225415006279945,0.02989008277654648,0.08928745985031128,0.16368384659290314,0.09129707515239716,0.013386248610913754,0.013888534158468246,0.09185504168272018,0.7989290952682495,0.9049555063247681,0.18035154044628143,0.0048141805455088615,0.00013185438001528382,7.857576747483108e-06,1.2764611483362387e-06,1.1918215392370257e-07,6.797929017920978e-06],[1.372702174151641e-09,3.0210972612465525e-10,1.0492732371858438e-07,3.3672499739623163e-06,0.0001951903832377866,0.055120132863521576,0.5926893353462219,0.8613115549087524,0.8619814515113831,0.58258455991745,0.24909846484661102,0.09796222299337387,0.12295930087566376,0.30443233251571655,0.4682925045490265,0.38461482524871826,0.14384429156780243,0.2522796094417572,0.5991094708442688,0.8472576141357422,0.5793272852897644,0.02215608023107052,0.00038090170710347593,4.1769813833525404e-05,9.996441804105416e-06,1.2226477110743872e-06,1.2798652448964276e-07,1.3293210031406488e-05],[1.1308809888532778e-08,8.009910512640772e-10,1.0513807779943818e-07,1.223851654685859e-06,3.081621616729535e-05,0.009439649991691113,0.27607622742652893,0.8434510231018066,0.9509730935096741,0.9054859280586243,0.835235059261322,0.7241278290748596,0.7815203666687012,0.8903525471687317,0.9081827402114868,0.8794162273406982,0.70152348279953,0.8392705917358398,0.7925474047660828,0.3707530200481415,0.034066248685121536,0.0011753219878301024,3.8172645872691646e-05,8.267865268862806e-06,6.284158644120907e-06,2.972252559629851e-07,5.92331304005711e-08,2.405649865977466e-05],[1.93957276906076e-08,8.040247911900167e-10,1.9258484584838698e-08,3.2703844965453754e-08,1.4751304888704908e-06,0.000711074797436595,0.040816694498062134,0.38919302821159363,0.7560527324676514,0.8920854926109314,0.9487701058387756,0.9594811201095581,0.9669145941734314,0.9620611071586609,0.9407713413238525,0.8914700150489807,0.6860019564628601,0.47315433621406555,0.11343718320131302,0.017387954518198967,0.0017132635693997145,0.00013517000479623675,2.6358102331869304e-06,1.4677941635454772e-06,6.440554898290429e-06,2.2903024898823787e-07,7.296703330439414e-08,8.585958312323783e-06],[6.794649465291513e-08,6.7789578395149874e-09,1.1153590051549145e-08,1.7520306982987677e-08,1.8051262884455355e-07,3.476705387583934e-05,0.002474043285474181,0.023299364373087883,0.07812674343585968,0.3016601502895355,0.6279473900794983,0.8000803589820862,0.741522490978241,0.7280389666557312,0.5613117218017578,0.3197582960128784,0.07127302139997482,0.005826667882502079,0.0007518567144870758,0.00026763230562210083,0.00014217091666068882,2.367503293498885e-05,7.601840934512438e-07,1.6614116020718939e-06,3.581954160836176e-06,1.4007751758526865e-07,1.8968046688883078e-08,4.408702238833939e-07],[2.5649469534982927e-05,1.0609772971292841e-06,3.409579960589326e-07,1.7772505600532895e-07,6.403407581956344e-08,2.363877456446062e-06,0.0001338358997600153,0.0006024873000569642,0.0005355036118999124,0.0009440028225071728,0.004566354211419821,0.012495034374296665,0.0070630828849971294,0.004895056132227182,0.002075321041047573,0.00065821927273646,9.919302101479843e-05,2.676070471352432e-05,6.980912530707428e-06,1.0354758160247002e-05,3.4118751500500366e-05,1.0054754056909587e-05,4.780186486641469e-07,6.214846735019819e-07,1.27324665299966e-06,3.884322552494268e-08,5.550168324930382e-09,4.7134477654253715e-07],[0.00010950941941700876,3.052025022043381e-06,1.3551065194405965e-06,2.754954380179697e-07,2.5932081371138338e-08,1.8835689274965262e-07,2.9657255709025776e-06,6.826800472481409e-06,1.5395146419905359e-06,2.7076555397798074e-06,8.847899152897298e-06,1.1603480743360706e-05,7.607332463521743e-06,6.3957263591873925e-06,3.3996618640230736e-06,8.562356583752262e-07,2.9503263476726715e-07,5.227435053711815e-07,2.750266219209152e-07,7.045125016702514e-07,4.770049599756021e-06,1.1323345461278223e-06,8.803636575294149e-08,4.895888991995889e-07,1.4966137769079069e-06,1.3849160040990682e-08,6.1228884185027255e-09,1.2941929981025169e-06],[5.74533551116474e-05,3.119390385109e-06,3.0713686101080384e-06,3.401049752937979e-06,9.269557921243177e-08,2.2887864048470874e-08,4.491554150831689e-08,2.068030191537673e-08,6.429055066092815e-09,1.6778175293552522e-08,1.3189954906067669e-08,1.6903483057717494e-08,3.240172219420856e-08,4.94441501075471e-08,1.969579344063277e-08,1.0245110537709934e-08,2.370465601586602e-08,5.807063274687607e-08,2.5279096149688485e-08,3.891381794574045e-08,3.097957232967019e-07,1.252048775768344e-07,1.332632422190727e-07,1.1429724509071093e-06,3.525563272432919e-07,3.0138356255093868e-09,2.5935582570468796e-09,5.566083700614399e-07],[6.474693509517238e-05,6.210319725141744e-07,1.445844532099727e-06,1.1766597708628979e-05,3.020022987243465e-08,2.1392132509845396e-09,4.2134537525662097e-10,2.5465093922427684e-10,1.324841208960592e-10,1.030742852181632e-10,4.709131348756834e-11,9.285452962082275e-11,2.965360734741296e-10,3.032389339630015e-10,1.110092434641885e-10,1.5914598805455427e-10,1.0862262200816986e-09,1.2674805649481868e-09,5.856476970045321e-10,4.5938824966285097e-10,3.849009111434043e-09,3.5643303863963638e-09,1.4550909810395751e-08,3.4373698554190923e-08,5.311677764296974e-09,6.15257345071285e-10,1.0824847684887118e-09,1.3402514298377355e-07],[2.7095853511127643e-05,4.87555553263519e-07,1.4159713828121312e-06,1.057112058333587e-06,6.434317967318748e-09,1.8910062404842165e-09,8.85578138598575e-11,6.2996392824477e-11,2.683837353745222e-11,1.4908543150005116e-11,7.260080557569548e-12,1.5989346999201182e-11,5.266196853592753e-11,5.117274312627096e-11,1.9481714852442877e-11,4.2114908782586724e-11,3.94868721054209e-10,4.310650170147312e-10,3.5995884051231997e-10,3.693387262693193e-10,2.520758268786949e-09,1.831648277494935e-09,5.076352227462166e-09,1.166111651684787e-08,2.457354097984421e-09,3.659999803229397e-10,9.522913568815738e-10,1.2075702215952333e-07],[5.186529233469628e-05,3.0470248020719737e-05,3.2321870094165206e-05,9.387098884872103e-07,1.4378333901277074e-07,5.587407869711569e-09,5.198298458353179e-10,7.445025707042419e-10,3.490764621805198e-10,1.2702414120546734e-10,6.671243418798767e-11,2.456654601967756e-10,7.272228930155222e-10,5.84153891924899e-10,2.282258132479953e-10,1.703143515108252e-09,1.0766087576996597e-08,5.2178803500169124e-09,4.800943642635502e-09,9.233520614770896e-09,3.731450348709586e-08,1.0373376113648192e-07,1.6743607034186425e-07,5.310079700393544e-07,1.6914144396196207e-07,1.0799817040663129e-08,2.5220387556146306e-08,1.4834582771072746e-06]],\"type\":\"heatmap\"}],                        {\"template\":{\"data\":{\"bar\":[{\"error_x\":{\"color\":\"#2a3f5f\"},\"error_y\":{\"color\":\"#2a3f5f\"},\"marker\":{\"line\":{\"color\":\"#E5ECF6\",\"width\":0.5},\"pattern\":{\"fillmode\":\"overlay\",\"size\":10,\"solidity\":0.2}},\"type\":\"bar\"}],\"barpolar\":[{\"marker\":{\"line\":{\"color\":\"#E5ECF6\",\"width\":0.5},\"pattern\":{\"fillmode\":\"overlay\",\"size\":10,\"solidity\":0.2}},\"type\":\"barpolar\"}],\"carpet\":[{\"aaxis\":{\"endlinecolor\":\"#2a3f5f\",\"gridcolor\":\"white\",\"linecolor\":\"white\",\"minorgridcolor\":\"white\",\"startlinecolor\":\"#2a3f5f\"},\"baxis\":{\"endlinecolor\":\"#2a3f5f\",\"gridcolor\":\"white\",\"linecolor\":\"white\",\"minorgridcolor\":\"white\",\"startlinecolor\":\"#2a3f5f\"},\"type\":\"carpet\"}],\"choropleth\":[{\"colorbar\":{\"outlinewidth\":0,\"ticks\":\"\"},\"type\":\"choropleth\"}],\"contour\":[{\"colorbar\":{\"outlinewidth\":0,\"ticks\":\"\"},\"colorscale\":[[0.0,\"#0d0887\"],[0.1111111111111111,\"#46039f\"],[0.2222222222222222,\"#7201a8\"],[0.3333333333333333,\"#9c179e\"],[0.4444444444444444,\"#bd3786\"],[0.5555555555555556,\"#d8576b\"],[0.6666666666666666,\"#ed7953\"],[0.7777777777777778,\"#fb9f3a\"],[0.8888888888888888,\"#fdca26\"],[1.0,\"#f0f921\"]],\"type\":\"contour\"}],\"contourcarpet\":[{\"colorbar\":{\"outlinewidth\":0,\"ticks\":\"\"},\"type\":\"contourcarpet\"}],\"heatmap\":[{\"colorbar\":{\"outlinewidth\":0,\"ticks\":\"\"},\"colorscale\":[[0.0,\"#0d0887\"],[0.1111111111111111,\"#46039f\"],[0.2222222222222222,\"#7201a8\"],[0.3333333333333333,\"#9c179e\"],[0.4444444444444444,\"#bd3786\"],[0.5555555555555556,\"#d8576b\"],[0.6666666666666666,\"#ed7953\"],[0.7777777777777778,\"#fb9f3a\"],[0.8888888888888888,\"#fdca26\"],[1.0,\"#f0f921\"]],\"type\":\"heatmap\"}],\"heatmapgl\":[{\"colorbar\":{\"outlinewidth\":0,\"ticks\":\"\"},\"colorscale\":[[0.0,\"#0d0887\"],[0.1111111111111111,\"#46039f\"],[0.2222222222222222,\"#7201a8\"],[0.3333333333333333,\"#9c179e\"],[0.4444444444444444,\"#bd3786\"],[0.5555555555555556,\"#d8576b\"],[0.6666666666666666,\"#ed7953\"],[0.7777777777777778,\"#fb9f3a\"],[0.8888888888888888,\"#fdca26\"],[1.0,\"#f0f921\"]],\"type\":\"heatmapgl\"}],\"histogram\":[{\"marker\":{\"pattern\":{\"fillmode\":\"overlay\",\"size\":10,\"solidity\":0.2}},\"type\":\"histogram\"}],\"histogram2d\":[{\"colorbar\":{\"outlinewidth\":0,\"ticks\":\"\"},\"colorscale\":[[0.0,\"#0d0887\"],[0.1111111111111111,\"#46039f\"],[0.2222222222222222,\"#7201a8\"],[0.3333333333333333,\"#9c179e\"],[0.4444444444444444,\"#bd3786\"],[0.5555555555555556,\"#d8576b\"],[0.6666666666666666,\"#ed7953\"],[0.7777777777777778,\"#fb9f3a\"],[0.8888888888888888,\"#fdca26\"],[1.0,\"#f0f921\"]],\"type\":\"histogram2d\"}],\"histogram2dcontour\":[{\"colorbar\":{\"outlinewidth\":0,\"ticks\":\"\"},\"colorscale\":[[0.0,\"#0d0887\"],[0.1111111111111111,\"#46039f\"],[0.2222222222222222,\"#7201a8\"],[0.3333333333333333,\"#9c179e\"],[0.4444444444444444,\"#bd3786\"],[0.5555555555555556,\"#d8576b\"],[0.6666666666666666,\"#ed7953\"],[0.7777777777777778,\"#fb9f3a\"],[0.8888888888888888,\"#fdca26\"],[1.0,\"#f0f921\"]],\"type\":\"histogram2dcontour\"}],\"mesh3d\":[{\"colorbar\":{\"outlinewidth\":0,\"ticks\":\"\"},\"type\":\"mesh3d\"}],\"parcoords\":[{\"line\":{\"colorbar\":{\"outlinewidth\":0,\"ticks\":\"\"}},\"type\":\"parcoords\"}],\"pie\":[{\"automargin\":true,\"type\":\"pie\"}],\"scatter\":[{\"marker\":{\"colorbar\":{\"outlinewidth\":0,\"ticks\":\"\"}},\"type\":\"scatter\"}],\"scatter3d\":[{\"line\":{\"colorbar\":{\"outlinewidth\":0,\"ticks\":\"\"}},\"marker\":{\"colorbar\":{\"outlinewidth\":0,\"ticks\":\"\"}},\"type\":\"scatter3d\"}],\"scattercarpet\":[{\"marker\":{\"colorbar\":{\"outlinewidth\":0,\"ticks\":\"\"}},\"type\":\"scattercarpet\"}],\"scattergeo\":[{\"marker\":{\"colorbar\":{\"outlinewidth\":0,\"ticks\":\"\"}},\"type\":\"scattergeo\"}],\"scattergl\":[{\"marker\":{\"colorbar\":{\"outlinewidth\":0,\"ticks\":\"\"}},\"type\":\"scattergl\"}],\"scattermapbox\":[{\"marker\":{\"colorbar\":{\"outlinewidth\":0,\"ticks\":\"\"}},\"type\":\"scattermapbox\"}],\"scatterpolar\":[{\"marker\":{\"colorbar\":{\"outlinewidth\":0,\"ticks\":\"\"}},\"type\":\"scatterpolar\"}],\"scatterpolargl\":[{\"marker\":{\"colorbar\":{\"outlinewidth\":0,\"ticks\":\"\"}},\"type\":\"scatterpolargl\"}],\"scatterternary\":[{\"marker\":{\"colorbar\":{\"outlinewidth\":0,\"ticks\":\"\"}},\"type\":\"scatterternary\"}],\"surface\":[{\"colorbar\":{\"outlinewidth\":0,\"ticks\":\"\"},\"colorscale\":[[0.0,\"#0d0887\"],[0.1111111111111111,\"#46039f\"],[0.2222222222222222,\"#7201a8\"],[0.3333333333333333,\"#9c179e\"],[0.4444444444444444,\"#bd3786\"],[0.5555555555555556,\"#d8576b\"],[0.6666666666666666,\"#ed7953\"],[0.7777777777777778,\"#fb9f3a\"],[0.8888888888888888,\"#fdca26\"],[1.0,\"#f0f921\"]],\"type\":\"surface\"}],\"table\":[{\"cells\":{\"fill\":{\"color\":\"#EBF0F8\"},\"line\":{\"color\":\"white\"}},\"header\":{\"fill\":{\"color\":\"#C8D4E3\"},\"line\":{\"color\":\"white\"}},\"type\":\"table\"}]},\"layout\":{\"annotationdefaults\":{\"arrowcolor\":\"#2a3f5f\",\"arrowhead\":0,\"arrowwidth\":1},\"autotypenumbers\":\"strict\",\"coloraxis\":{\"colorbar\":{\"outlinewidth\":0,\"ticks\":\"\"}},\"colorscale\":{\"diverging\":[[0,\"#8e0152\"],[0.1,\"#c51b7d\"],[0.2,\"#de77ae\"],[0.3,\"#f1b6da\"],[0.4,\"#fde0ef\"],[0.5,\"#f7f7f7\"],[0.6,\"#e6f5d0\"],[0.7,\"#b8e186\"],[0.8,\"#7fbc41\"],[0.9,\"#4d9221\"],[1,\"#276419\"]],\"sequential\":[[0.0,\"#0d0887\"],[0.1111111111111111,\"#46039f\"],[0.2222222222222222,\"#7201a8\"],[0.3333333333333333,\"#9c179e\"],[0.4444444444444444,\"#bd3786\"],[0.5555555555555556,\"#d8576b\"],[0.6666666666666666,\"#ed7953\"],[0.7777777777777778,\"#fb9f3a\"],[0.8888888888888888,\"#fdca26\"],[1.0,\"#f0f921\"]],\"sequentialminus\":[[0.0,\"#0d0887\"],[0.1111111111111111,\"#46039f\"],[0.2222222222222222,\"#7201a8\"],[0.3333333333333333,\"#9c179e\"],[0.4444444444444444,\"#bd3786\"],[0.5555555555555556,\"#d8576b\"],[0.6666666666666666,\"#ed7953\"],[0.7777777777777778,\"#fb9f3a\"],[0.8888888888888888,\"#fdca26\"],[1.0,\"#f0f921\"]]},\"colorway\":[\"#636efa\",\"#EF553B\",\"#00cc96\",\"#ab63fa\",\"#FFA15A\",\"#19d3f3\",\"#FF6692\",\"#B6E880\",\"#FF97FF\",\"#FECB52\"],\"font\":{\"color\":\"#2a3f5f\"},\"geo\":{\"bgcolor\":\"white\",\"lakecolor\":\"white\",\"landcolor\":\"#E5ECF6\",\"showlakes\":true,\"showland\":true,\"subunitcolor\":\"white\"},\"hoverlabel\":{\"align\":\"left\"},\"hovermode\":\"closest\",\"mapbox\":{\"style\":\"light\"},\"paper_bgcolor\":\"white\",\"plot_bgcolor\":\"#E5ECF6\",\"polar\":{\"angularaxis\":{\"gridcolor\":\"white\",\"linecolor\":\"white\",\"ticks\":\"\"},\"bgcolor\":\"#E5ECF6\",\"radialaxis\":{\"gridcolor\":\"white\",\"linecolor\":\"white\",\"ticks\":\"\"}},\"scene\":{\"xaxis\":{\"backgroundcolor\":\"#E5ECF6\",\"gridcolor\":\"white\",\"gridwidth\":2,\"linecolor\":\"white\",\"showbackground\":true,\"ticks\":\"\",\"zerolinecolor\":\"white\"},\"yaxis\":{\"backgroundcolor\":\"#E5ECF6\",\"gridcolor\":\"white\",\"gridwidth\":2,\"linecolor\":\"white\",\"showbackground\":true,\"ticks\":\"\",\"zerolinecolor\":\"white\"},\"zaxis\":{\"backgroundcolor\":\"#E5ECF6\",\"gridcolor\":\"white\",\"gridwidth\":2,\"linecolor\":\"white\",\"showbackground\":true,\"ticks\":\"\",\"zerolinecolor\":\"white\"}},\"shapedefaults\":{\"line\":{\"color\":\"#2a3f5f\"}},\"ternary\":{\"aaxis\":{\"gridcolor\":\"white\",\"linecolor\":\"white\",\"ticks\":\"\"},\"baxis\":{\"gridcolor\":\"white\",\"linecolor\":\"white\",\"ticks\":\"\"},\"bgcolor\":\"#E5ECF6\",\"caxis\":{\"gridcolor\":\"white\",\"linecolor\":\"white\",\"ticks\":\"\"}},\"title\":{\"x\":0.05},\"xaxis\":{\"automargin\":true,\"gridcolor\":\"white\",\"linecolor\":\"white\",\"ticks\":\"\",\"title\":{\"standoff\":15},\"zerolinecolor\":\"white\",\"zerolinewidth\":2},\"yaxis\":{\"automargin\":true,\"gridcolor\":\"white\",\"linecolor\":\"white\",\"ticks\":\"\",\"title\":{\"standoff\":15},\"zerolinecolor\":\"white\",\"zerolinewidth\":2}}},\"xaxis\":{\"anchor\":\"y\",\"domain\":[0.0,0.45]},\"yaxis\":{\"anchor\":\"x\",\"domain\":[0.0,1.0]},\"xaxis2\":{\"anchor\":\"y2\",\"domain\":[0.55,1.0]},\"yaxis2\":{\"anchor\":\"x2\",\"domain\":[0.0,1.0]}},                        {\"responsive\": true}                    ).then(function(){\n",
              "                            \n",
              "var gd = document.getElementById('d73496e3-0650-42ba-b5b5-6b98f68da77b');\n",
              "var x = new MutationObserver(function (mutations, observer) {{\n",
              "        var display = window.getComputedStyle(gd).display;\n",
              "        if (!display || display === 'none') {{\n",
              "            console.log([gd, 'removed!']);\n",
              "            Plotly.purge(gd);\n",
              "            observer.disconnect();\n",
              "        }}\n",
              "}});\n",
              "\n",
              "// Listen for the removal of the full notebook cells\n",
              "var notebookContainer = gd.closest('#notebook-container');\n",
              "if (notebookContainer) {{\n",
              "    x.observe(notebookContainer, {childList: true});\n",
              "}}\n",
              "\n",
              "// Listen for the clearing of the current output cell\n",
              "var outputEl = gd.closest('.output');\n",
              "if (outputEl) {{\n",
              "    x.observe(outputEl, {childList: true});\n",
              "}}\n",
              "\n",
              "                        })                };                            </script>        </div>\n",
              "</body>\n",
              "</html>"
            ]
          },
          "metadata": {}
        }
      ]
    },
    {
      "cell_type": "code",
      "source": [
        "def visualiza_numero_rec():\n",
        "  num = randint(0,10000)\n",
        "  fig = px.imshow(decoded_imgs[num],color_continuous_scale='gray')\n",
        "  fig.update_layout(title={\n",
        "                        'text': f\"o número escrito é {y_test[num]}\",\n",
        "                        'y':0.95,\n",
        "                        'x':0.5,\n",
        "                        'xanchor': 'center',\n",
        "                        'yanchor': 'top'\n",
        "                        })\n",
        "  fig.show() "
      ],
      "metadata": {
        "id": "j0da4XnbsvhO"
      },
      "execution_count": null,
      "outputs": []
    },
    {
      "cell_type": "code",
      "source": [
        "visualiza_numero()"
      ],
      "metadata": {
        "colab": {
          "base_uri": "https://localhost:8080/",
          "height": 542
        },
        "id": "jpssRwrPs8Q6",
        "outputId": "c49e562a-f9b4-4608-8bf2-977932f60e80"
      },
      "execution_count": null,
      "outputs": [
        {
          "output_type": "display_data",
          "data": {
            "text/html": [
              "<html>\n",
              "<head><meta charset=\"utf-8\" /></head>\n",
              "<body>\n",
              "    <div>            <script src=\"https://cdnjs.cloudflare.com/ajax/libs/mathjax/2.7.5/MathJax.js?config=TeX-AMS-MML_SVG\"></script><script type=\"text/javascript\">if (window.MathJax) {MathJax.Hub.Config({SVG: {font: \"STIX-Web\"}});}</script>                <script type=\"text/javascript\">window.PlotlyConfig = {MathJaxConfig: 'local'};</script>\n",
              "        <script src=\"https://cdn.plot.ly/plotly-2.8.3.min.js\"></script>                <div id=\"badf3dff-6a06-4b1c-9060-8773f2557fd5\" class=\"plotly-graph-div\" style=\"height:525px; width:100%;\"></div>            <script type=\"text/javascript\">                                    window.PLOTLYENV=window.PLOTLYENV || {};                                    if (document.getElementById(\"badf3dff-6a06-4b1c-9060-8773f2557fd5\")) {                    Plotly.newPlot(                        \"badf3dff-6a06-4b1c-9060-8773f2557fd5\",                        [{\"coloraxis\":\"coloraxis\",\"name\":\"0\",\"z\":[[0.0,0.0,0.0,0.0,0.0,0.0,0.0,0.0,0.0,0.0,0.0,0.0,0.0,0.0,0.0,0.0,0.0,0.0,0.0,0.0,0.0,0.0,0.0,0.0,0.0,0.0,0.0,0.0],[0.0,0.0,0.0,0.0,0.0,0.0,0.0,0.0,0.0,0.0,0.0,0.0,0.0,0.0,0.0,0.0,0.0,0.0,0.0,0.0,0.0,0.0,0.0,0.0,0.0,0.0,0.0,0.0],[0.0,0.0,0.0,0.0,0.0,0.0,0.0,0.0,0.0,0.0,0.0,0.0,0.0,0.0,0.0,0.0,0.0,0.0,0.0,0.0,0.0,0.0,0.0,0.0,0.0,0.0,0.0,0.0],[0.0,0.0,0.0,0.0,0.0,0.0,0.0,0.0,0.0,0.0,0.0,0.0,0.0,0.0,0.0,0.0,0.0,0.0,0.0,0.0,0.0,0.0,0.0,0.0,0.0,0.0,0.0,0.0],[0.0,0.0,0.0,0.0,0.0,0.0,0.0,0.0,0.0,0.0,0.0,0.0,0.0,0.0,0.0,0.0,0.0,0.0,0.0,0.0,0.0,0.0,0.0,0.0,0.0,0.0,0.0,0.0],[0.0,0.0,0.0,0.0,0.0,0.0,0.0,0.0,0.0,0.0,0.0,0.0,0.0,0.0,0.0,0.0,0.0784313753247261,0.5686274766921997,0.5843137502670288,0.0,0.0,0.0,0.0,0.0,0.0,0.0,0.0,0.0],[0.0,0.0,0.0,0.0,0.0,0.0,0.0,0.0,0.0,0.0,0.0,0.0,0.0,0.0,0.0,0.0,0.6313725709915161,0.9490196108818054,0.4000000059604645,0.0,0.0,0.0,0.0,0.0,0.0,0.0,0.0,0.0],[0.0,0.0,0.0,0.0,0.0,0.0,0.0,0.0,0.0,0.0,0.0,0.0,0.0,0.0,0.0,0.0,0.6784313917160034,0.8705882430076599,0.054901961237192154,0.0,0.0,0.0,0.0,0.0,0.0,0.0,0.0,0.0],[0.0,0.0,0.0,0.0,0.0,0.0,0.0,0.0,0.0,0.0,0.0,0.0,0.0,0.0,0.0,0.05882352963089943,0.9921568632125854,0.7411764860153198,0.0,0.0,0.0,0.0,0.0,0.0,0.0,0.0,0.0,0.0],[0.0,0.0,0.0,0.0,0.0,0.0,0.0,0.0,0.0,0.0,0.0,0.0,0.0,0.0,0.0,0.3803921639919281,0.9960784316062927,0.4156862795352936,0.0,0.0,0.0,0.0,0.0,0.0,0.0,0.0,0.0,0.0],[0.0,0.0,0.0,0.0,0.0,0.0,0.0,0.0,0.0,0.0,0.0,0.0,0.0,0.0,0.0,0.7058823704719543,0.9960784316062927,0.07450980693101883,0.0,0.0,0.0,0.0,0.0,0.0,0.0,0.0,0.0,0.0],[0.0,0.0,0.0,0.0,0.0,0.0,0.0,0.0,0.0,0.0,0.0,0.0,0.0,0.0,0.04313725605607033,0.8509804010391235,0.7058823704719543,0.003921568859368563,0.0,0.0,0.0,0.0,0.0,0.0,0.0,0.0,0.0,0.0],[0.0,0.0,0.0,0.0,0.0,0.0,0.0,0.0,0.0,0.0,0.0,0.0,0.0,0.0,0.364705890417099,0.9960784316062927,0.3843137323856354,0.0,0.0,0.0,0.0,0.0,0.0,0.0,0.0,0.0,0.0,0.0],[0.0,0.0,0.0,0.0,0.0,0.0,0.0,0.0,0.0,0.0,0.0,0.0,0.0,0.0,0.8313725590705872,0.9803921580314636,0.21960784494876862,0.0,0.0,0.0,0.0,0.0,0.0,0.0,0.0,0.0,0.0,0.0],[0.0,0.0,0.0,0.0,0.0,0.0,0.0,0.0,0.0,0.0,0.0,0.0,0.0,0.062745101749897,0.95686274766922,0.7254902124404907,0.0,0.0,0.0,0.0,0.0,0.0,0.0,0.0,0.0,0.0,0.0,0.0],[0.0,0.0,0.0,0.0,0.0,0.0,0.0,0.0,0.0,0.0,0.0,0.0,0.0,0.3450980484485626,0.9960784316062927,0.25882354378700256,0.0,0.0,0.0,0.0,0.0,0.0,0.0,0.0,0.0,0.0,0.0,0.0],[0.0,0.0,0.0,0.0,0.0,0.0,0.0,0.0,0.0,0.0,0.0,0.0,0.054901961237192154,0.9019607901573181,0.9960784316062927,0.1882352977991104,0.0,0.0,0.0,0.0,0.0,0.0,0.0,0.0,0.0,0.0,0.0,0.0],[0.0,0.0,0.0,0.0,0.0,0.0,0.0,0.0,0.0,0.0,0.0,0.0,0.0784313753247261,1.0,0.615686297416687,0.01568627543747425,0.0,0.0,0.0,0.0,0.0,0.0,0.0,0.0,0.0,0.0,0.0,0.0],[0.0,0.0,0.0,0.0,0.0,0.0,0.0,0.0,0.0,0.0,0.0,0.0,0.23529411852359772,0.9960784316062927,0.13333334028720856,0.0,0.0,0.0,0.0,0.0,0.0,0.0,0.0,0.0,0.0,0.0,0.0,0.0],[0.0,0.0,0.0,0.0,0.0,0.0,0.0,0.0,0.0,0.0,0.0,0.0,0.7019608020782471,0.9058823585510254,0.03921568766236305,0.0,0.0,0.0,0.0,0.0,0.0,0.0,0.0,0.0,0.0,0.0,0.0,0.0],[0.0,0.0,0.0,0.0,0.0,0.0,0.0,0.0,0.0,0.0,0.0,0.1921568661928177,0.9843137264251709,0.47843137383461,0.0,0.0,0.0,0.0,0.0,0.0,0.0,0.0,0.0,0.0,0.0,0.0,0.0,0.0],[0.0,0.0,0.0,0.0,0.0,0.0,0.0,0.0,0.0,0.0,0.0,0.5058823823928833,0.9372549057006836,0.07058823853731155,0.0,0.0,0.0,0.0,0.0,0.0,0.0,0.0,0.0,0.0,0.0,0.0,0.0,0.0],[0.0,0.0,0.0,0.0,0.0,0.0,0.0,0.0,0.0,0.0,0.0,0.9647058844566345,0.6784313917160034,0.0,0.0,0.0,0.0,0.0,0.0,0.0,0.0,0.0,0.0,0.0,0.0,0.0,0.0,0.0],[0.0,0.0,0.0,0.0,0.0,0.0,0.0,0.0,0.0,0.0,0.0,0.9647058844566345,0.8823529481887817,0.0,0.0,0.0,0.0,0.0,0.0,0.0,0.0,0.0,0.0,0.0,0.0,0.0,0.0,0.0],[0.0,0.0,0.0,0.0,0.0,0.0,0.0,0.0,0.0,0.0,0.0,0.3137255012989044,0.7137255072593689,0.0,0.0,0.0,0.0,0.0,0.0,0.0,0.0,0.0,0.0,0.0,0.0,0.0,0.0,0.0],[0.0,0.0,0.0,0.0,0.0,0.0,0.0,0.0,0.0,0.0,0.0,0.0,0.0,0.0,0.0,0.0,0.0,0.0,0.0,0.0,0.0,0.0,0.0,0.0,0.0,0.0,0.0,0.0],[0.0,0.0,0.0,0.0,0.0,0.0,0.0,0.0,0.0,0.0,0.0,0.0,0.0,0.0,0.0,0.0,0.0,0.0,0.0,0.0,0.0,0.0,0.0,0.0,0.0,0.0,0.0,0.0],[0.0,0.0,0.0,0.0,0.0,0.0,0.0,0.0,0.0,0.0,0.0,0.0,0.0,0.0,0.0,0.0,0.0,0.0,0.0,0.0,0.0,0.0,0.0,0.0,0.0,0.0,0.0,0.0]],\"type\":\"heatmap\",\"xaxis\":\"x\",\"yaxis\":\"y\",\"hovertemplate\":\"x: %{x}<br>y: %{y}<br>color: %{z}<extra></extra>\"}],                        {\"template\":{\"data\":{\"bar\":[{\"error_x\":{\"color\":\"#2a3f5f\"},\"error_y\":{\"color\":\"#2a3f5f\"},\"marker\":{\"line\":{\"color\":\"#E5ECF6\",\"width\":0.5},\"pattern\":{\"fillmode\":\"overlay\",\"size\":10,\"solidity\":0.2}},\"type\":\"bar\"}],\"barpolar\":[{\"marker\":{\"line\":{\"color\":\"#E5ECF6\",\"width\":0.5},\"pattern\":{\"fillmode\":\"overlay\",\"size\":10,\"solidity\":0.2}},\"type\":\"barpolar\"}],\"carpet\":[{\"aaxis\":{\"endlinecolor\":\"#2a3f5f\",\"gridcolor\":\"white\",\"linecolor\":\"white\",\"minorgridcolor\":\"white\",\"startlinecolor\":\"#2a3f5f\"},\"baxis\":{\"endlinecolor\":\"#2a3f5f\",\"gridcolor\":\"white\",\"linecolor\":\"white\",\"minorgridcolor\":\"white\",\"startlinecolor\":\"#2a3f5f\"},\"type\":\"carpet\"}],\"choropleth\":[{\"colorbar\":{\"outlinewidth\":0,\"ticks\":\"\"},\"type\":\"choropleth\"}],\"contour\":[{\"colorbar\":{\"outlinewidth\":0,\"ticks\":\"\"},\"colorscale\":[[0.0,\"#0d0887\"],[0.1111111111111111,\"#46039f\"],[0.2222222222222222,\"#7201a8\"],[0.3333333333333333,\"#9c179e\"],[0.4444444444444444,\"#bd3786\"],[0.5555555555555556,\"#d8576b\"],[0.6666666666666666,\"#ed7953\"],[0.7777777777777778,\"#fb9f3a\"],[0.8888888888888888,\"#fdca26\"],[1.0,\"#f0f921\"]],\"type\":\"contour\"}],\"contourcarpet\":[{\"colorbar\":{\"outlinewidth\":0,\"ticks\":\"\"},\"type\":\"contourcarpet\"}],\"heatmap\":[{\"colorbar\":{\"outlinewidth\":0,\"ticks\":\"\"},\"colorscale\":[[0.0,\"#0d0887\"],[0.1111111111111111,\"#46039f\"],[0.2222222222222222,\"#7201a8\"],[0.3333333333333333,\"#9c179e\"],[0.4444444444444444,\"#bd3786\"],[0.5555555555555556,\"#d8576b\"],[0.6666666666666666,\"#ed7953\"],[0.7777777777777778,\"#fb9f3a\"],[0.8888888888888888,\"#fdca26\"],[1.0,\"#f0f921\"]],\"type\":\"heatmap\"}],\"heatmapgl\":[{\"colorbar\":{\"outlinewidth\":0,\"ticks\":\"\"},\"colorscale\":[[0.0,\"#0d0887\"],[0.1111111111111111,\"#46039f\"],[0.2222222222222222,\"#7201a8\"],[0.3333333333333333,\"#9c179e\"],[0.4444444444444444,\"#bd3786\"],[0.5555555555555556,\"#d8576b\"],[0.6666666666666666,\"#ed7953\"],[0.7777777777777778,\"#fb9f3a\"],[0.8888888888888888,\"#fdca26\"],[1.0,\"#f0f921\"]],\"type\":\"heatmapgl\"}],\"histogram\":[{\"marker\":{\"pattern\":{\"fillmode\":\"overlay\",\"size\":10,\"solidity\":0.2}},\"type\":\"histogram\"}],\"histogram2d\":[{\"colorbar\":{\"outlinewidth\":0,\"ticks\":\"\"},\"colorscale\":[[0.0,\"#0d0887\"],[0.1111111111111111,\"#46039f\"],[0.2222222222222222,\"#7201a8\"],[0.3333333333333333,\"#9c179e\"],[0.4444444444444444,\"#bd3786\"],[0.5555555555555556,\"#d8576b\"],[0.6666666666666666,\"#ed7953\"],[0.7777777777777778,\"#fb9f3a\"],[0.8888888888888888,\"#fdca26\"],[1.0,\"#f0f921\"]],\"type\":\"histogram2d\"}],\"histogram2dcontour\":[{\"colorbar\":{\"outlinewidth\":0,\"ticks\":\"\"},\"colorscale\":[[0.0,\"#0d0887\"],[0.1111111111111111,\"#46039f\"],[0.2222222222222222,\"#7201a8\"],[0.3333333333333333,\"#9c179e\"],[0.4444444444444444,\"#bd3786\"],[0.5555555555555556,\"#d8576b\"],[0.6666666666666666,\"#ed7953\"],[0.7777777777777778,\"#fb9f3a\"],[0.8888888888888888,\"#fdca26\"],[1.0,\"#f0f921\"]],\"type\":\"histogram2dcontour\"}],\"mesh3d\":[{\"colorbar\":{\"outlinewidth\":0,\"ticks\":\"\"},\"type\":\"mesh3d\"}],\"parcoords\":[{\"line\":{\"colorbar\":{\"outlinewidth\":0,\"ticks\":\"\"}},\"type\":\"parcoords\"}],\"pie\":[{\"automargin\":true,\"type\":\"pie\"}],\"scatter\":[{\"marker\":{\"colorbar\":{\"outlinewidth\":0,\"ticks\":\"\"}},\"type\":\"scatter\"}],\"scatter3d\":[{\"line\":{\"colorbar\":{\"outlinewidth\":0,\"ticks\":\"\"}},\"marker\":{\"colorbar\":{\"outlinewidth\":0,\"ticks\":\"\"}},\"type\":\"scatter3d\"}],\"scattercarpet\":[{\"marker\":{\"colorbar\":{\"outlinewidth\":0,\"ticks\":\"\"}},\"type\":\"scattercarpet\"}],\"scattergeo\":[{\"marker\":{\"colorbar\":{\"outlinewidth\":0,\"ticks\":\"\"}},\"type\":\"scattergeo\"}],\"scattergl\":[{\"marker\":{\"colorbar\":{\"outlinewidth\":0,\"ticks\":\"\"}},\"type\":\"scattergl\"}],\"scattermapbox\":[{\"marker\":{\"colorbar\":{\"outlinewidth\":0,\"ticks\":\"\"}},\"type\":\"scattermapbox\"}],\"scatterpolar\":[{\"marker\":{\"colorbar\":{\"outlinewidth\":0,\"ticks\":\"\"}},\"type\":\"scatterpolar\"}],\"scatterpolargl\":[{\"marker\":{\"colorbar\":{\"outlinewidth\":0,\"ticks\":\"\"}},\"type\":\"scatterpolargl\"}],\"scatterternary\":[{\"marker\":{\"colorbar\":{\"outlinewidth\":0,\"ticks\":\"\"}},\"type\":\"scatterternary\"}],\"surface\":[{\"colorbar\":{\"outlinewidth\":0,\"ticks\":\"\"},\"colorscale\":[[0.0,\"#0d0887\"],[0.1111111111111111,\"#46039f\"],[0.2222222222222222,\"#7201a8\"],[0.3333333333333333,\"#9c179e\"],[0.4444444444444444,\"#bd3786\"],[0.5555555555555556,\"#d8576b\"],[0.6666666666666666,\"#ed7953\"],[0.7777777777777778,\"#fb9f3a\"],[0.8888888888888888,\"#fdca26\"],[1.0,\"#f0f921\"]],\"type\":\"surface\"}],\"table\":[{\"cells\":{\"fill\":{\"color\":\"#EBF0F8\"},\"line\":{\"color\":\"white\"}},\"header\":{\"fill\":{\"color\":\"#C8D4E3\"},\"line\":{\"color\":\"white\"}},\"type\":\"table\"}]},\"layout\":{\"annotationdefaults\":{\"arrowcolor\":\"#2a3f5f\",\"arrowhead\":0,\"arrowwidth\":1},\"autotypenumbers\":\"strict\",\"coloraxis\":{\"colorbar\":{\"outlinewidth\":0,\"ticks\":\"\"}},\"colorscale\":{\"diverging\":[[0,\"#8e0152\"],[0.1,\"#c51b7d\"],[0.2,\"#de77ae\"],[0.3,\"#f1b6da\"],[0.4,\"#fde0ef\"],[0.5,\"#f7f7f7\"],[0.6,\"#e6f5d0\"],[0.7,\"#b8e186\"],[0.8,\"#7fbc41\"],[0.9,\"#4d9221\"],[1,\"#276419\"]],\"sequential\":[[0.0,\"#0d0887\"],[0.1111111111111111,\"#46039f\"],[0.2222222222222222,\"#7201a8\"],[0.3333333333333333,\"#9c179e\"],[0.4444444444444444,\"#bd3786\"],[0.5555555555555556,\"#d8576b\"],[0.6666666666666666,\"#ed7953\"],[0.7777777777777778,\"#fb9f3a\"],[0.8888888888888888,\"#fdca26\"],[1.0,\"#f0f921\"]],\"sequentialminus\":[[0.0,\"#0d0887\"],[0.1111111111111111,\"#46039f\"],[0.2222222222222222,\"#7201a8\"],[0.3333333333333333,\"#9c179e\"],[0.4444444444444444,\"#bd3786\"],[0.5555555555555556,\"#d8576b\"],[0.6666666666666666,\"#ed7953\"],[0.7777777777777778,\"#fb9f3a\"],[0.8888888888888888,\"#fdca26\"],[1.0,\"#f0f921\"]]},\"colorway\":[\"#636efa\",\"#EF553B\",\"#00cc96\",\"#ab63fa\",\"#FFA15A\",\"#19d3f3\",\"#FF6692\",\"#B6E880\",\"#FF97FF\",\"#FECB52\"],\"font\":{\"color\":\"#2a3f5f\"},\"geo\":{\"bgcolor\":\"white\",\"lakecolor\":\"white\",\"landcolor\":\"#E5ECF6\",\"showlakes\":true,\"showland\":true,\"subunitcolor\":\"white\"},\"hoverlabel\":{\"align\":\"left\"},\"hovermode\":\"closest\",\"mapbox\":{\"style\":\"light\"},\"paper_bgcolor\":\"white\",\"plot_bgcolor\":\"#E5ECF6\",\"polar\":{\"angularaxis\":{\"gridcolor\":\"white\",\"linecolor\":\"white\",\"ticks\":\"\"},\"bgcolor\":\"#E5ECF6\",\"radialaxis\":{\"gridcolor\":\"white\",\"linecolor\":\"white\",\"ticks\":\"\"}},\"scene\":{\"xaxis\":{\"backgroundcolor\":\"#E5ECF6\",\"gridcolor\":\"white\",\"gridwidth\":2,\"linecolor\":\"white\",\"showbackground\":true,\"ticks\":\"\",\"zerolinecolor\":\"white\"},\"yaxis\":{\"backgroundcolor\":\"#E5ECF6\",\"gridcolor\":\"white\",\"gridwidth\":2,\"linecolor\":\"white\",\"showbackground\":true,\"ticks\":\"\",\"zerolinecolor\":\"white\"},\"zaxis\":{\"backgroundcolor\":\"#E5ECF6\",\"gridcolor\":\"white\",\"gridwidth\":2,\"linecolor\":\"white\",\"showbackground\":true,\"ticks\":\"\",\"zerolinecolor\":\"white\"}},\"shapedefaults\":{\"line\":{\"color\":\"#2a3f5f\"}},\"ternary\":{\"aaxis\":{\"gridcolor\":\"white\",\"linecolor\":\"white\",\"ticks\":\"\"},\"baxis\":{\"gridcolor\":\"white\",\"linecolor\":\"white\",\"ticks\":\"\"},\"bgcolor\":\"#E5ECF6\",\"caxis\":{\"gridcolor\":\"white\",\"linecolor\":\"white\",\"ticks\":\"\"}},\"title\":{\"x\":0.05},\"xaxis\":{\"automargin\":true,\"gridcolor\":\"white\",\"linecolor\":\"white\",\"ticks\":\"\",\"title\":{\"standoff\":15},\"zerolinecolor\":\"white\",\"zerolinewidth\":2},\"yaxis\":{\"automargin\":true,\"gridcolor\":\"white\",\"linecolor\":\"white\",\"ticks\":\"\",\"title\":{\"standoff\":15},\"zerolinecolor\":\"white\",\"zerolinewidth\":2}}},\"xaxis\":{\"anchor\":\"y\",\"domain\":[0.0,1.0],\"scaleanchor\":\"y\",\"constrain\":\"domain\"},\"yaxis\":{\"anchor\":\"x\",\"domain\":[0.0,1.0],\"autorange\":\"reversed\",\"constrain\":\"domain\"},\"coloraxis\":{\"colorscale\":[[0.0,\"rgb(0, 0, 0)\"],[0.09090909090909091,\"rgb(16, 16, 16)\"],[0.18181818181818182,\"rgb(38, 38, 38)\"],[0.2727272727272727,\"rgb(59, 59, 59)\"],[0.36363636363636365,\"rgb(81, 80, 80)\"],[0.45454545454545453,\"rgb(102, 101, 101)\"],[0.5454545454545454,\"rgb(124, 123, 122)\"],[0.6363636363636364,\"rgb(146, 146, 145)\"],[0.7272727272727273,\"rgb(171, 171, 170)\"],[0.8181818181818182,\"rgb(197, 197, 195)\"],[0.9090909090909091,\"rgb(224, 224, 223)\"],[1.0,\"rgb(254, 254, 253)\"]]},\"margin\":{\"t\":60},\"title\":{\"text\":\"o n\\u00famero escrito \\u00e9 1\",\"y\":0.95,\"x\":0.5,\"xanchor\":\"center\",\"yanchor\":\"top\"}},                        {\"responsive\": true}                    ).then(function(){\n",
              "                            \n",
              "var gd = document.getElementById('badf3dff-6a06-4b1c-9060-8773f2557fd5');\n",
              "var x = new MutationObserver(function (mutations, observer) {{\n",
              "        var display = window.getComputedStyle(gd).display;\n",
              "        if (!display || display === 'none') {{\n",
              "            console.log([gd, 'removed!']);\n",
              "            Plotly.purge(gd);\n",
              "            observer.disconnect();\n",
              "        }}\n",
              "}});\n",
              "\n",
              "// Listen for the removal of the full notebook cells\n",
              "var notebookContainer = gd.closest('#notebook-container');\n",
              "if (notebookContainer) {{\n",
              "    x.observe(notebookContainer, {childList: true});\n",
              "}}\n",
              "\n",
              "// Listen for the clearing of the current output cell\n",
              "var outputEl = gd.closest('.output');\n",
              "if (outputEl) {{\n",
              "    x.observe(outputEl, {childList: true});\n",
              "}}\n",
              "\n",
              "                        })                };                            </script>        </div>\n",
              "</body>\n",
              "</html>"
            ]
          },
          "metadata": {}
        }
      ]
    },
    {
      "cell_type": "code",
      "source": [
        "import matplotlib.pyplot as plt\n",
        "n = 10\n",
        "plt.figure(figsize=(20, 4))\n",
        "for i in range(n):\n",
        "    # display original\n",
        "    ax = plt.subplot(2, n, i + 1)\n",
        "    plt.imshow(x_test[i].reshape(28, 28))\n",
        "    plt.gray()\n",
        "    ax.get_xaxis().set_visible(False)\n",
        "    ax.get_yaxis().set_visible(False)\n",
        "\n",
        "    # display reconstruction\n",
        "    ax = plt.subplot(2, n, i + 1 + n)\n",
        "    plt.imshow(decoded_imgs[i].reshape(28, 28))\n",
        "    plt.gray()\n",
        "    ax.get_xaxis().set_visible(False)\n",
        "    ax.get_yaxis().set_visible(False)\n",
        "plt.show()"
      ],
      "metadata": {
        "colab": {
          "base_uri": "https://localhost:8080/",
          "height": 248
        },
        "id": "6j-6onGuv9Cn",
        "outputId": "88439f9c-3d56-43b6-878f-ab3864e0bfda"
      },
      "execution_count": null,
      "outputs": [
        {
          "output_type": "display_data",
          "data": {
            "image/png": "[encoded data removed]",
            "text/plain": [
              "<Figure size 1440x288 with 20 Axes>"
            ]
          },
          "metadata": {
            "needs_background": "light"
          }
        }
      ]
    }
  ]
}