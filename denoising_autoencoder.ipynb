{
  "nbformat": 4,
  "nbformat_minor": 0,
  "metadata": {
    "colab": {
      "provenance": [],
      "authorship_tag": "ABX9TyMG1BeSiDcluE6n6rfLLKKA",
      "include_colab_link": true
    },
    "kernelspec": {
      "name": "python3",
      "display_name": "Python 3"
    },
    "language_info": {
      "name": "python"
    },
    "accelerator": "GPU"
  },
  "cells": [
    {
      "cell_type": "markdown",
      "metadata": {
        "id": "view-in-github",
        "colab_type": "text"
      },
      "source": [
        "<a href=\"https://colab.research.google.com/github/jnetoass/autoencoder/blob/main/denoising_autoencoder.ipynb\" target=\"_parent\"><img src=\"https://colab.research.google.com/assets/colab-badge.svg\" alt=\"Open In Colab\"/></a>"
      ]
    },
    {
      "cell_type": "code",
      "execution_count": null,
      "metadata": {
        "id": "_xtQiabcnou3"
      },
      "outputs": [],
      "source": [
        "import tensorflow as tf\n",
        "import numpy as np\n",
        "import pandas as pd\n",
        "import plotly.graph_objects as go #criação de gráficos\n",
        "from plotly.subplots import make_subplots  #criação de múltiplos grágicos\n",
        "import plotly.express as px # criação de gráficos\n",
        "from skimage import io # leitura de imagens\n",
        "from random import randint # gera números aleatórios"
      ]
    },
    {
      "cell_type": "code",
      "source": [
        "(x_train, y_train), (x_test, y_test) = tf.keras.datasets.mnist.load_data()"
      ],
      "metadata": {
        "colab": {
          "base_uri": "https://localhost:8080/"
        },
        "id": "qg37JCwPoCAN",
        "outputId": "1c3c903f-bf45-429a-a80b-d3ab8fb9d9d1"
      },
      "execution_count": null,
      "outputs": [
        {
          "output_type": "stream",
          "name": "stdout",
          "text": [
            "Downloading data from https://storage.googleapis.com/tensorflow/tf-keras-datasets/mnist.npz\n",
            "11493376/11490434 [==============================] - 0s 0us/step\n",
            "11501568/11490434 [==============================] - 0s 0us/step\n"
          ]
        }
      ]
    },
    {
      "cell_type": "code",
      "source": [
        "x_train = x_train.astype('float32')\n",
        "x_test = x_test.astype('float32')\n",
        "\n",
        "x_train /= 255\n",
        "x_test /= 255"
      ],
      "metadata": {
        "id": "Z6_XAIoQoH8Y"
      },
      "execution_count": null,
      "outputs": []
    },
    {
      "cell_type": "code",
      "source": [
        "noise_factor = 0.5\n",
        "x_train_noisy = x_train + noise_factor + np.random.normal(loc=0.0, scale=1.0, size=x_train.shape)\n",
        "x_test_noisy = x_test + noise_factor + np.random.normal(loc=0.0, scale=1.0, size=x_test.shape)\n",
        "\n",
        "x_train_noisy = np.clip(x_train_noisy, 0., 1.)\n",
        "x_test_noisy = np.clip(x_test_noisy, 0., 1.)"
      ],
      "metadata": {
        "id": "diIQj5lToNc2"
      },
      "execution_count": null,
      "outputs": []
    },
    {
      "cell_type": "code",
      "source": [
        "def visualiza_numero():\n",
        "  num = randint(0,60000)\n",
        "  fig = px.imshow(x_train_noisy[num],color_continuous_scale='gray')\n",
        "  fig.update_layout(title={\n",
        "                        'text': f\"o número escrito é {y_train[num]}\",\n",
        "                        'y':0.95,\n",
        "                        'x':0.5,\n",
        "                        'xanchor': 'center',\n",
        "                        'yanchor': 'top'\n",
        "                        })\n",
        "  fig.show() "
      ],
      "metadata": {
        "id": "ATw6JvypoWUF"
      },
      "execution_count": null,
      "outputs": []
    },
    {
      "cell_type": "code",
      "source": [
        "visualiza_numero()"
      ],
      "metadata": {
        "colab": {
          "base_uri": "https://localhost:8080/",
          "height": 542
        },
        "id": "38xXa9Daoq-5",
        "outputId": "330819dc-8509-4afd-ef57-e58491136d69"
      },
      "execution_count": null,
      "outputs": [
        {
          "output_type": "display_data",
          "data": {
            "text/html": [
              "<html>\n",
              "<head><meta charset=\"utf-8\" /></head>\n",
              "<body>\n",
              "    <div>            <script src=\"https://cdnjs.cloudflare.com/ajax/libs/mathjax/2.7.5/MathJax.js?config=TeX-AMS-MML_SVG\"></script><script type=\"text/javascript\">if (window.MathJax) {MathJax.Hub.Config({SVG: {font: \"STIX-Web\"}});}</script>                <script type=\"text/javascript\">window.PlotlyConfig = {MathJaxConfig: 'local'};</script>\n",
              "        <script src=\"https://cdn.plot.ly/plotly-2.8.3.min.js\"></script>                <div id=\"b37436dd-54c6-45c0-93bc-6efa7c8dd9c7\" class=\"plotly-graph-div\" style=\"height:525px; width:100%;\"></div>            <script type=\"text/javascript\">                                    window.PLOTLYENV=window.PLOTLYENV || {};                                    if (document.getElementById(\"b37436dd-54c6-45c0-93bc-6efa7c8dd9c7\")) {                    Plotly.newPlot(                        \"b37436dd-54c6-45c0-93bc-6efa7c8dd9c7\",                        [{\"coloraxis\":\"coloraxis\",\"name\":\"0\",\"z\":[[1.0,0.7395184104128028,0.0,0.8926208034256837,1.0,0.0,0.2971416224842103,0.8345129981741797,0.0,0.4887280596587762,0.0,0.0,1.0,0.80013024810294,1.0,0.11478177423552949,1.0,0.7385385552986405,0.0,0.616773049073635,0.1874715574141323,0.0,1.0,0.40430936155973796,0.8106409995114036,0.8866700432933454,1.0,1.0],[0.8164591528334013,0.0,0.41379208979344473,0.164163775077872,0.5312292694218996,0.3948905456090438,0.0,0.32402081476613465,1.0,1.0,0.34821275919674866,1.0,0.0,0.0,1.0,0.0,0.45080335639249075,0.0,0.021982705507833822,0.6784620815878488,0.7276726299281927,0.0,0.0,0.7911552410680063,0.4051661556151382,0.0,0.3676642309546734,0.9305819584085793],[1.0,1.0,0.6576492994362874,1.0,1.0,0.932242245260615,1.0,1.0,1.0,0.1298532285612371,0.0,0.0,1.0,1.0,0.5499420831408706,1.0,1.0,0.10381919852463484,0.39235838140289914,1.0,0.0,0.7516463731999746,0.6214726959027747,1.0,1.0,0.0,0.9711639237905354,0.7997207679040286],[0.6547884775348433,1.0,0.9166165557649957,0.8619028195905569,0.8894975826602384,0.0,0.0,0.0,0.07779078974237802,0.0,0.8330571730817842,0.5887991497919425,0.0,0.0,1.0,1.0,0.2593347026543057,0.09915756669132608,1.0,1.0,0.0,0.0,1.0,0.0,1.0,0.0,0.018047522788035897,0.9869294840743248],[1.0,0.41107595645697526,0.7223785954706169,0.0,0.19645969746844055,0.0,1.0,1.0,0.0,0.9444631884956967,0.16392981534381557,0.9483843951747306,0.0,0.8269995152370327,1.0,0.5262539212348601,1.0,1.0,0.8831941525194082,0.3605695254160814,1.0,0.5634719586518165,1.0,0.7363636330949704,0.0,0.0,1.0,0.39409502173202254],[0.12415716221126832,0.21698559688997715,0.5467023744858063,0.0,1.0,1.0,0.0,0.607073095331115,1.0,1.0,0.0,0.9002270128464777,0.5665067050245218,0.2527691618972291,0.0,0.968668035646985,0.0,0.7543128365945921,0.0,0.8822553456609559,1.0,1.0,0.0,0.0,0.05147046476475703,0.7090631383358361,1.0,0.4388770771033302],[0.05788846372856088,0.0,0.11753932493836333,0.0,0.0,0.9504597524838703,0.0,1.0,0.027062778646273378,0.3961421683313713,0.8883715699196638,1.0,0.7697007444774773,0.0,0.0,0.0,0.1086832168481709,0.0,0.9331175918976945,0.8730790485728525,0.014193854313726217,1.0,0.6438303020975077,1.0,1.0,1.0,0.0,0.0],[0.0,0.0,1.0,0.7181281744883296,0.0,1.0,1.0,1.0,1.0,1.0,1.0,1.0,1.0,1.0,1.0,0.7109828878569752,1.0,1.0,0.9322054624288412,1.0,0.8708956985485723,0.0,0.7857777855634343,0.0,0.3135890898007414,1.0,0.0,0.0],[0.9364737336887963,1.0,0.0,0.04750345301293063,0.0,1.0,0.5772553384539625,0.0,0.2629391808710767,0.19933223648981213,0.0,1.0,0.0,1.0,1.0,1.0,1.0,0.6877198182411584,1.0,0.7805205550422047,0.8446637114606512,0.6116021984092258,1.0,1.0,0.28524738630764046,0.0,1.0,1.0],[0.0,0.0,0.39217236096771063,0.9211083591302202,0.4283864500121163,1.0,0.5731757465071352,1.0,1.0,1.0,0.16081174248949714,0.0,0.14212881901428226,0.6268145933341924,0.14782296447083992,1.0,1.0,0.426014785807467,1.0,1.0,1.0,1.0,0.0,0.7504888981884842,0.4260054098019584,0.22958231474275648,1.0,0.3452532302654826],[0.0,0.0,0.09301235467201763,0.35936268268392135,1.0,0.5064686686665337,0.38312892982466834,0.6995741452826277,0.05075319818464702,0.0,0.8042652429677393,0.0,0.992099743582851,1.0,0.08780043757443495,1.0,1.0,0.5395989841603035,1.0,0.0,0.5135827277599836,1.0,0.9344225037346598,1.0,0.27921227912147994,1.0,0.6279757856317386,0.6089681448803574],[1.0,1.0,1.0,1.0,0.0,0.0,0.616314713426166,1.0,0.0,1.0,1.0,0.0,1.0,0.0,0.0,1.0,0.4924564962197096,0.6996164140762214,0.05592252318927038,1.0,1.0,0.3063069690568415,0.7843767585188783,0.8433904410292019,0.20003761333418563,1.0,1.0,0.35375850797977926],[0.14028344726681952,0.0,0.0,0.9229306996131383,0.3901117651610212,1.0,0.15166898761667158,0.0,1.0,0.0,0.3072430898059457,0.437536699402351,0.68980428319661,1.0,0.8328668478121057,0.6795175583321114,0.0,1.0,1.0,1.0,0.261122860380566,1.0,0.0,0.0,0.0,1.0,0.0,0.3973752223098872],[1.0,0.5042771554745294,1.0,0.473944284164195,0.0,1.0,1.0,1.0,0.8200090427323705,0.9285083269864917,0.0,0.0,0.0,0.0,1.0,1.0,0.755650600740813,1.0,0.6516766782710606,1.0,1.0,0.7024554326011451,0.2671425456368274,0.0,1.0,0.0,1.0,1.0],[1.0,1.0,0.9936972657886888,0.5421910772035922,0.7119498576817163,1.0,0.7186457247678602,0.5803754190275343,0.28115745271136094,0.4301782791358176,1.0,0.0,1.0,0.0,0.0,1.0,1.0,0.0,0.2358691272735221,0.36576160845320116,1.0,1.0,1.0,0.24535234518306476,0.4201022061798687,1.0,1.0,0.0],[0.8730336931325735,0.0,0.5748090030806128,0.7569441215195553,0.0,0.0,0.0,0.0,1.0,0.0,0.0,0.20342928064856286,0.9501558966320793,1.0,0.06307356686369753,1.0,0.08642476345683942,1.0,1.0,1.0,1.0,0.3526393147283267,0.0,0.9973168273178832,0.0,0.7746131954839828,1.0,0.5753342386131314],[1.0,0.19644983452787768,0.19229361135217898,0.5068619933893148,0.0,1.0,0.33077452403768387,0.0,1.0,0.0,0.29706532498245947,0.0,0.0,0.0,0.6055206660465439,0.0,1.0,0.5648552475415343,1.0,0.9577797574245883,1.0,1.0,0.0,1.0,0.0,0.3257381697422509,0.0,1.0],[0.530008947549652,0.0,1.0,0.0,0.988294090554831,1.0,1.0,0.0,1.0,1.0,1.0,1.0,0.10963106306886328,1.0,1.0,1.0,1.0,1.0,1.0,0.8927937304070617,0.0,1.0,1.0,0.39441430718096887,0.31178530906980273,1.0,0.0,0.0],[0.4372891001261121,0.0,0.0,0.38852503427446583,0.9909522753801878,1.0,0.3288135313999375,0.0,1.0,1.0,1.0,1.0,1.0,0.0,1.0,1.0,0.8633493905470258,0.0,0.0,0.0,0.0,1.0,0.9398599580491097,0.7480509601057266,0.699032480307349,0.06967914862033281,0.006313361214911217,0.0],[0.12322507079820805,0.09384588790042991,0.0,0.4071151777314105,0.9631730734019708,1.0,1.0,1.0,0.6822301079314336,0.0,0.0,1.0,0.47618563440110173,1.0,1.0,0.8453608184010319,0.0,0.0,0.0,0.6274195365605026,0.0,0.0,1.0,1.0,0.06711738432752512,1.0,0.4229820848375663,1.0],[1.0,1.0,0.5461047671763944,1.0,1.0,0.39917873405492593,0.0,0.0,0.42031793202339746,0.0,0.8758232745135006,0.5748503596276768,1.0,0.8469264583462283,1.0,1.0,0.0,1.0,1.0,0.0,0.6998045855939546,0.0,1.0,1.0,0.7541325542310579,0.8124525608567373,0.12735872794840525,0.552403375538534],[0.28841789754533453,1.0,1.0,1.0,1.0,0.6152217268309992,0.40429545282146073,0.0,0.3763731988716777,0.0,1.0,1.0,1.0,1.0,0.916175264312884,1.0,0.4698845206719493,1.0,0.0,0.0,1.0,0.0,0.0,0.0,0.3365991524032058,1.0,0.9967285424011924,0.3731765319908067],[1.0,0.0,0.28649468750352225,0.8959862066078251,1.0,0.41433519860477547,0.0,0.9086081499484338,0.13829667627254288,1.0,0.008776339979711556,0.39932197496984817,1.0,0.0,1.0,1.0,1.0,1.0,1.0,0.0,0.0,0.0,1.0,1.0,1.0,0.40244199830047445,0.7676574118168428,0.022819346233869442],[0.44161897674088707,0.0,1.0,0.0,0.3654951568845535,0.0,0.14936799106004428,1.0,0.9985306098139475,0.0,0.0,1.0,1.0,1.0,0.0,0.7559532808460918,0.0,0.9303238478146099,1.0,0.69490247971495,0.7549168851734758,1.0,0.5712689555203196,1.0,0.7254065568027027,1.0,0.8874130818485386,0.0],[1.0,0.09205127683528713,0.0,0.45161932852238174,1.0,0.0,0.28818045521357494,0.4469039478476135,0.0,1.0,1.0,0.7011906465912865,0.46611173013826857,0.9161668926635246,0.0,1.0,0.0,0.8517869374434037,1.0,1.0,1.0,0.01872995824087842,0.944526897534052,1.0,1.0,1.0,0.10492222554023112,0.0],[0.640835132328165,0.8681690844995555,0.0,1.0,0.12293486365909978,0.10799509011389835,0.4741408907101747,0.0,1.0,0.33543674697952924,1.0,0.25563184308638354,0.0,0.0,1.0,0.8182728133712827,0.0,1.0,0.8874422059059761,0.3182830290140959,1.0,0.08107578723556597,0.0,1.0,0.0,0.0,1.0,0.0],[1.0,0.0,0.27409667860251674,0.0,0.0,0.0,0.45063879571882903,1.0,0.0,1.0,0.34420751276204165,1.0,0.03184424046604911,1.0,0.0,0.0,0.0,0.7073705877653916,0.0,0.8525891752673591,0.42621207596254757,0.7534235443986153,0.0,1.0,0.419435769719932,1.0,0.3489938530745027,0.0],[1.0,0.0,0.0,0.40424632694697316,0.8183073027658744,0.07657410362522982,1.0,0.0,0.011393722165499942,0.0,0.174303561379413,0.13369355434214825,0.8245982992502028,0.16665216651782577,0.0,0.9002974799499988,1.0,0.0,0.6275799647219545,1.0,0.16763934718442935,1.0,0.0,1.0,0.0,0.0,0.44740590721829965,0.0]],\"type\":\"heatmap\",\"xaxis\":\"x\",\"yaxis\":\"y\",\"hovertemplate\":\"x: %{x}<br>y: %{y}<br>color: %{z}<extra></extra>\"}],                        {\"template\":{\"data\":{\"bar\":[{\"error_x\":{\"color\":\"#2a3f5f\"},\"error_y\":{\"color\":\"#2a3f5f\"},\"marker\":{\"line\":{\"color\":\"#E5ECF6\",\"width\":0.5},\"pattern\":{\"fillmode\":\"overlay\",\"size\":10,\"solidity\":0.2}},\"type\":\"bar\"}],\"barpolar\":[{\"marker\":{\"line\":{\"color\":\"#E5ECF6\",\"width\":0.5},\"pattern\":{\"fillmode\":\"overlay\",\"size\":10,\"solidity\":0.2}},\"type\":\"barpolar\"}],\"carpet\":[{\"aaxis\":{\"endlinecolor\":\"#2a3f5f\",\"gridcolor\":\"white\",\"linecolor\":\"white\",\"minorgridcolor\":\"white\",\"startlinecolor\":\"#2a3f5f\"},\"baxis\":{\"endlinecolor\":\"#2a3f5f\",\"gridcolor\":\"white\",\"linecolor\":\"white\",\"minorgridcolor\":\"white\",\"startlinecolor\":\"#2a3f5f\"},\"type\":\"carpet\"}],\"choropleth\":[{\"colorbar\":{\"outlinewidth\":0,\"ticks\":\"\"},\"type\":\"choropleth\"}],\"contour\":[{\"colorbar\":{\"outlinewidth\":0,\"ticks\":\"\"},\"colorscale\":[[0.0,\"#0d0887\"],[0.1111111111111111,\"#46039f\"],[0.2222222222222222,\"#7201a8\"],[0.3333333333333333,\"#9c179e\"],[0.4444444444444444,\"#bd3786\"],[0.5555555555555556,\"#d8576b\"],[0.6666666666666666,\"#ed7953\"],[0.7777777777777778,\"#fb9f3a\"],[0.8888888888888888,\"#fdca26\"],[1.0,\"#f0f921\"]],\"type\":\"contour\"}],\"contourcarpet\":[{\"colorbar\":{\"outlinewidth\":0,\"ticks\":\"\"},\"type\":\"contourcarpet\"}],\"heatmap\":[{\"colorbar\":{\"outlinewidth\":0,\"ticks\":\"\"},\"colorscale\":[[0.0,\"#0d0887\"],[0.1111111111111111,\"#46039f\"],[0.2222222222222222,\"#7201a8\"],[0.3333333333333333,\"#9c179e\"],[0.4444444444444444,\"#bd3786\"],[0.5555555555555556,\"#d8576b\"],[0.6666666666666666,\"#ed7953\"],[0.7777777777777778,\"#fb9f3a\"],[0.8888888888888888,\"#fdca26\"],[1.0,\"#f0f921\"]],\"type\":\"heatmap\"}],\"heatmapgl\":[{\"colorbar\":{\"outlinewidth\":0,\"ticks\":\"\"},\"colorscale\":[[0.0,\"#0d0887\"],[0.1111111111111111,\"#46039f\"],[0.2222222222222222,\"#7201a8\"],[0.3333333333333333,\"#9c179e\"],[0.4444444444444444,\"#bd3786\"],[0.5555555555555556,\"#d8576b\"],[0.6666666666666666,\"#ed7953\"],[0.7777777777777778,\"#fb9f3a\"],[0.8888888888888888,\"#fdca26\"],[1.0,\"#f0f921\"]],\"type\":\"heatmapgl\"}],\"histogram\":[{\"marker\":{\"pattern\":{\"fillmode\":\"overlay\",\"size\":10,\"solidity\":0.2}},\"type\":\"histogram\"}],\"histogram2d\":[{\"colorbar\":{\"outlinewidth\":0,\"ticks\":\"\"},\"colorscale\":[[0.0,\"#0d0887\"],[0.1111111111111111,\"#46039f\"],[0.2222222222222222,\"#7201a8\"],[0.3333333333333333,\"#9c179e\"],[0.4444444444444444,\"#bd3786\"],[0.5555555555555556,\"#d8576b\"],[0.6666666666666666,\"#ed7953\"],[0.7777777777777778,\"#fb9f3a\"],[0.8888888888888888,\"#fdca26\"],[1.0,\"#f0f921\"]],\"type\":\"histogram2d\"}],\"histogram2dcontour\":[{\"colorbar\":{\"outlinewidth\":0,\"ticks\":\"\"},\"colorscale\":[[0.0,\"#0d0887\"],[0.1111111111111111,\"#46039f\"],[0.2222222222222222,\"#7201a8\"],[0.3333333333333333,\"#9c179e\"],[0.4444444444444444,\"#bd3786\"],[0.5555555555555556,\"#d8576b\"],[0.6666666666666666,\"#ed7953\"],[0.7777777777777778,\"#fb9f3a\"],[0.8888888888888888,\"#fdca26\"],[1.0,\"#f0f921\"]],\"type\":\"histogram2dcontour\"}],\"mesh3d\":[{\"colorbar\":{\"outlinewidth\":0,\"ticks\":\"\"},\"type\":\"mesh3d\"}],\"parcoords\":[{\"line\":{\"colorbar\":{\"outlinewidth\":0,\"ticks\":\"\"}},\"type\":\"parcoords\"}],\"pie\":[{\"automargin\":true,\"type\":\"pie\"}],\"scatter\":[{\"marker\":{\"colorbar\":{\"outlinewidth\":0,\"ticks\":\"\"}},\"type\":\"scatter\"}],\"scatter3d\":[{\"line\":{\"colorbar\":{\"outlinewidth\":0,\"ticks\":\"\"}},\"marker\":{\"colorbar\":{\"outlinewidth\":0,\"ticks\":\"\"}},\"type\":\"scatter3d\"}],\"scattercarpet\":[{\"marker\":{\"colorbar\":{\"outlinewidth\":0,\"ticks\":\"\"}},\"type\":\"scattercarpet\"}],\"scattergeo\":[{\"marker\":{\"colorbar\":{\"outlinewidth\":0,\"ticks\":\"\"}},\"type\":\"scattergeo\"}],\"scattergl\":[{\"marker\":{\"colorbar\":{\"outlinewidth\":0,\"ticks\":\"\"}},\"type\":\"scattergl\"}],\"scattermapbox\":[{\"marker\":{\"colorbar\":{\"outlinewidth\":0,\"ticks\":\"\"}},\"type\":\"scattermapbox\"}],\"scatterpolar\":[{\"marker\":{\"colorbar\":{\"outlinewidth\":0,\"ticks\":\"\"}},\"type\":\"scatterpolar\"}],\"scatterpolargl\":[{\"marker\":{\"colorbar\":{\"outlinewidth\":0,\"ticks\":\"\"}},\"type\":\"scatterpolargl\"}],\"scatterternary\":[{\"marker\":{\"colorbar\":{\"outlinewidth\":0,\"ticks\":\"\"}},\"type\":\"scatterternary\"}],\"surface\":[{\"colorbar\":{\"outlinewidth\":0,\"ticks\":\"\"},\"colorscale\":[[0.0,\"#0d0887\"],[0.1111111111111111,\"#46039f\"],[0.2222222222222222,\"#7201a8\"],[0.3333333333333333,\"#9c179e\"],[0.4444444444444444,\"#bd3786\"],[0.5555555555555556,\"#d8576b\"],[0.6666666666666666,\"#ed7953\"],[0.7777777777777778,\"#fb9f3a\"],[0.8888888888888888,\"#fdca26\"],[1.0,\"#f0f921\"]],\"type\":\"surface\"}],\"table\":[{\"cells\":{\"fill\":{\"color\":\"#EBF0F8\"},\"line\":{\"color\":\"white\"}},\"header\":{\"fill\":{\"color\":\"#C8D4E3\"},\"line\":{\"color\":\"white\"}},\"type\":\"table\"}]},\"layout\":{\"annotationdefaults\":{\"arrowcolor\":\"#2a3f5f\",\"arrowhead\":0,\"arrowwidth\":1},\"autotypenumbers\":\"strict\",\"coloraxis\":{\"colorbar\":{\"outlinewidth\":0,\"ticks\":\"\"}},\"colorscale\":{\"diverging\":[[0,\"#8e0152\"],[0.1,\"#c51b7d\"],[0.2,\"#de77ae\"],[0.3,\"#f1b6da\"],[0.4,\"#fde0ef\"],[0.5,\"#f7f7f7\"],[0.6,\"#e6f5d0\"],[0.7,\"#b8e186\"],[0.8,\"#7fbc41\"],[0.9,\"#4d9221\"],[1,\"#276419\"]],\"sequential\":[[0.0,\"#0d0887\"],[0.1111111111111111,\"#46039f\"],[0.2222222222222222,\"#7201a8\"],[0.3333333333333333,\"#9c179e\"],[0.4444444444444444,\"#bd3786\"],[0.5555555555555556,\"#d8576b\"],[0.6666666666666666,\"#ed7953\"],[0.7777777777777778,\"#fb9f3a\"],[0.8888888888888888,\"#fdca26\"],[1.0,\"#f0f921\"]],\"sequentialminus\":[[0.0,\"#0d0887\"],[0.1111111111111111,\"#46039f\"],[0.2222222222222222,\"#7201a8\"],[0.3333333333333333,\"#9c179e\"],[0.4444444444444444,\"#bd3786\"],[0.5555555555555556,\"#d8576b\"],[0.6666666666666666,\"#ed7953\"],[0.7777777777777778,\"#fb9f3a\"],[0.8888888888888888,\"#fdca26\"],[1.0,\"#f0f921\"]]},\"colorway\":[\"#636efa\",\"#EF553B\",\"#00cc96\",\"#ab63fa\",\"#FFA15A\",\"#19d3f3\",\"#FF6692\",\"#B6E880\",\"#FF97FF\",\"#FECB52\"],\"font\":{\"color\":\"#2a3f5f\"},\"geo\":{\"bgcolor\":\"white\",\"lakecolor\":\"white\",\"landcolor\":\"#E5ECF6\",\"showlakes\":true,\"showland\":true,\"subunitcolor\":\"white\"},\"hoverlabel\":{\"align\":\"left\"},\"hovermode\":\"closest\",\"mapbox\":{\"style\":\"light\"},\"paper_bgcolor\":\"white\",\"plot_bgcolor\":\"#E5ECF6\",\"polar\":{\"angularaxis\":{\"gridcolor\":\"white\",\"linecolor\":\"white\",\"ticks\":\"\"},\"bgcolor\":\"#E5ECF6\",\"radialaxis\":{\"gridcolor\":\"white\",\"linecolor\":\"white\",\"ticks\":\"\"}},\"scene\":{\"xaxis\":{\"backgroundcolor\":\"#E5ECF6\",\"gridcolor\":\"white\",\"gridwidth\":2,\"linecolor\":\"white\",\"showbackground\":true,\"ticks\":\"\",\"zerolinecolor\":\"white\"},\"yaxis\":{\"backgroundcolor\":\"#E5ECF6\",\"gridcolor\":\"white\",\"gridwidth\":2,\"linecolor\":\"white\",\"showbackground\":true,\"ticks\":\"\",\"zerolinecolor\":\"white\"},\"zaxis\":{\"backgroundcolor\":\"#E5ECF6\",\"gridcolor\":\"white\",\"gridwidth\":2,\"linecolor\":\"white\",\"showbackground\":true,\"ticks\":\"\",\"zerolinecolor\":\"white\"}},\"shapedefaults\":{\"line\":{\"color\":\"#2a3f5f\"}},\"ternary\":{\"aaxis\":{\"gridcolor\":\"white\",\"linecolor\":\"white\",\"ticks\":\"\"},\"baxis\":{\"gridcolor\":\"white\",\"linecolor\":\"white\",\"ticks\":\"\"},\"bgcolor\":\"#E5ECF6\",\"caxis\":{\"gridcolor\":\"white\",\"linecolor\":\"white\",\"ticks\":\"\"}},\"title\":{\"x\":0.05},\"xaxis\":{\"automargin\":true,\"gridcolor\":\"white\",\"linecolor\":\"white\",\"ticks\":\"\",\"title\":{\"standoff\":15},\"zerolinecolor\":\"white\",\"zerolinewidth\":2},\"yaxis\":{\"automargin\":true,\"gridcolor\":\"white\",\"linecolor\":\"white\",\"ticks\":\"\",\"title\":{\"standoff\":15},\"zerolinecolor\":\"white\",\"zerolinewidth\":2}}},\"xaxis\":{\"anchor\":\"y\",\"domain\":[0.0,1.0],\"scaleanchor\":\"y\",\"constrain\":\"domain\"},\"yaxis\":{\"anchor\":\"x\",\"domain\":[0.0,1.0],\"autorange\":\"reversed\",\"constrain\":\"domain\"},\"coloraxis\":{\"colorscale\":[[0.0,\"rgb(0, 0, 0)\"],[0.09090909090909091,\"rgb(16, 16, 16)\"],[0.18181818181818182,\"rgb(38, 38, 38)\"],[0.2727272727272727,\"rgb(59, 59, 59)\"],[0.36363636363636365,\"rgb(81, 80, 80)\"],[0.45454545454545453,\"rgb(102, 101, 101)\"],[0.5454545454545454,\"rgb(124, 123, 122)\"],[0.6363636363636364,\"rgb(146, 146, 145)\"],[0.7272727272727273,\"rgb(171, 171, 170)\"],[0.8181818181818182,\"rgb(197, 197, 195)\"],[0.9090909090909091,\"rgb(224, 224, 223)\"],[1.0,\"rgb(254, 254, 253)\"]]},\"margin\":{\"t\":60},\"title\":{\"text\":\"o n\\u00famero escrito \\u00e9 2\",\"y\":0.95,\"x\":0.5,\"xanchor\":\"center\",\"yanchor\":\"top\"}},                        {\"responsive\": true}                    ).then(function(){\n",
              "                            \n",
              "var gd = document.getElementById('b37436dd-54c6-45c0-93bc-6efa7c8dd9c7');\n",
              "var x = new MutationObserver(function (mutations, observer) {{\n",
              "        var display = window.getComputedStyle(gd).display;\n",
              "        if (!display || display === 'none') {{\n",
              "            console.log([gd, 'removed!']);\n",
              "            Plotly.purge(gd);\n",
              "            observer.disconnect();\n",
              "        }}\n",
              "}});\n",
              "\n",
              "// Listen for the removal of the full notebook cells\n",
              "var notebookContainer = gd.closest('#notebook-container');\n",
              "if (notebookContainer) {{\n",
              "    x.observe(notebookContainer, {childList: true});\n",
              "}}\n",
              "\n",
              "// Listen for the clearing of the current output cell\n",
              "var outputEl = gd.closest('.output');\n",
              "if (outputEl) {{\n",
              "    x.observe(outputEl, {childList: true});\n",
              "}}\n",
              "\n",
              "                        })                };                            </script>        </div>\n",
              "</body>\n",
              "</html>"
            ]
          },
          "metadata": {}
        }
      ]
    },
    {
      "cell_type": "code",
      "source": [
        "# Can our autoencoder learn to recover the original digits. We will use a slightly different model with more filters per layer\n",
        "input_img = tf.keras.layers.Input(shape=(28, 28, 1))\n",
        "\n",
        "x = tf.keras.layers.Conv2D(32, (3, 3), activation='relu', padding='same')(input_img)\n",
        "x = tf.keras.layers.MaxPooling2D((2, 2), padding='same')(x)\n",
        "x = tf.keras.layers.Conv2D(32, (3, 3), activation='relu', padding='same')(x)\n",
        "encoded = tf.keras.layers.MaxPooling2D((2, 2), padding='same')(x)\n",
        "\n",
        "# the representation is (7, 7, 32)\n",
        "\n",
        "x = tf.keras.layers.Conv2D(32, (3, 3), activation='relu', padding='same')(encoded)\n",
        "x = tf.keras.layers.UpSampling2D((2, 2))(x)\n",
        "x = tf.keras.layers.Conv2D(32, (3, 3), activation='relu', padding='same')(x)\n",
        "x = tf.keras.layers.UpSampling2D((2, 2))(x)\n",
        "decoded = tf.keras.layers.Conv2D(1, (3, 3), activation='sigmoid', padding='same')(x)\n",
        "\n",
        "autoencoder = tf.keras.models.Model(input_img, decoded)\n",
        "autoencoder.compile(loss=tf.keras.losses.BinaryCrossentropy(),\n",
        "                optimizer=tf.keras.optimizers.Adam(learning_rate=0.003),\n",
        "                metrics=['accuracy'])"
      ],
      "metadata": {
        "id": "FZcfQ85fpDX7"
      },
      "execution_count": null,
      "outputs": []
    },
    {
      "cell_type": "code",
      "source": [
        "autoencoder.fit(x_train_noisy, x_train, epochs=100, batch_size=32, shuffle=True, validation_data=(x_test_noisy, x_test))"
      ],
      "metadata": {
        "colab": {
          "base_uri": "https://localhost:8080/"
        },
        "id": "f9a0AFGMpZQE",
        "outputId": "41dd6f63-5c30-42e2-939a-5fee61bc04d2"
      },
      "execution_count": null,
      "outputs": [
        {
          "output_type": "stream",
          "name": "stdout",
          "text": [
            "Epoch 1/100\n",
            "1875/1875 [==============================] - 17s 9ms/step - loss: 0.1904 - accuracy: 0.7993 - val_loss: 0.1732 - val_accuracy: 0.8011\n",
            "Epoch 2/100\n",
            "1875/1875 [==============================] - 16s 9ms/step - loss: 0.1725 - accuracy: 0.8017 - val_loss: 0.1683 - val_accuracy: 0.8005\n",
            "Epoch 3/100\n",
            "1875/1875 [==============================] - 16s 9ms/step - loss: 0.1695 - accuracy: 0.8022 - val_loss: 0.1661 - val_accuracy: 0.8024\n",
            "Epoch 4/100\n",
            "1875/1875 [==============================] - 16s 9ms/step - loss: 0.1680 - accuracy: 0.8025 - val_loss: 0.1656 - val_accuracy: 0.8009\n",
            "Epoch 5/100\n",
            "1875/1875 [==============================] - 16s 9ms/step - loss: 0.1669 - accuracy: 0.8027 - val_loss: 0.1646 - val_accuracy: 0.8028\n",
            "Epoch 6/100\n",
            "1875/1875 [==============================] - 16s 9ms/step - loss: 0.1663 - accuracy: 0.8028 - val_loss: 0.1649 - val_accuracy: 0.8011\n",
            "Epoch 7/100\n",
            "1875/1875 [==============================] - 16s 9ms/step - loss: 0.1658 - accuracy: 0.8028 - val_loss: 0.1638 - val_accuracy: 0.8012\n",
            "Epoch 8/100\n",
            "1875/1875 [==============================] - 16s 9ms/step - loss: 0.1655 - accuracy: 0.8029 - val_loss: 0.1657 - val_accuracy: 0.8047\n",
            "Epoch 9/100\n",
            "1875/1875 [==============================] - 16s 9ms/step - loss: 0.1652 - accuracy: 0.8029 - val_loss: 0.1644 - val_accuracy: 0.8027\n",
            "Epoch 10/100\n",
            "1875/1875 [==============================] - 16s 9ms/step - loss: 0.1649 - accuracy: 0.8029 - val_loss: 0.1645 - val_accuracy: 0.7994\n",
            "Epoch 11/100\n",
            "1875/1875 [==============================] - 16s 9ms/step - loss: 0.1648 - accuracy: 0.8030 - val_loss: 0.1632 - val_accuracy: 0.8012\n",
            "Epoch 12/100\n",
            "1875/1875 [==============================] - 16s 9ms/step - loss: 0.1646 - accuracy: 0.8030 - val_loss: 0.1646 - val_accuracy: 0.8040\n",
            "Epoch 13/100\n",
            "1875/1875 [==============================] - 16s 9ms/step - loss: 0.1644 - accuracy: 0.8030 - val_loss: 0.1630 - val_accuracy: 0.8021\n",
            "Epoch 14/100\n",
            "1875/1875 [==============================] - 16s 9ms/step - loss: 0.1644 - accuracy: 0.8030 - val_loss: 0.1635 - val_accuracy: 0.8000\n",
            "Epoch 15/100\n",
            "1875/1875 [==============================] - 16s 9ms/step - loss: 0.1642 - accuracy: 0.8031 - val_loss: 0.1635 - val_accuracy: 0.8021\n",
            "Epoch 16/100\n",
            "1875/1875 [==============================] - 16s 9ms/step - loss: 0.1641 - accuracy: 0.8031 - val_loss: 0.1630 - val_accuracy: 0.8006\n",
            "Epoch 17/100\n",
            "1875/1875 [==============================] - 16s 9ms/step - loss: 0.1642 - accuracy: 0.8031 - val_loss: 0.1641 - val_accuracy: 0.8049\n",
            "Epoch 18/100\n",
            "1875/1875 [==============================] - 16s 9ms/step - loss: 0.1640 - accuracy: 0.8031 - val_loss: 0.1627 - val_accuracy: 0.8024\n",
            "Epoch 19/100\n",
            "1875/1875 [==============================] - 16s 9ms/step - loss: 0.1640 - accuracy: 0.8031 - val_loss: 0.1646 - val_accuracy: 0.8051\n",
            "Epoch 20/100\n",
            "1875/1875 [==============================] - 16s 9ms/step - loss: 0.1639 - accuracy: 0.8031 - val_loss: 0.1625 - val_accuracy: 0.8023\n",
            "Epoch 21/100\n",
            "1875/1875 [==============================] - 16s 9ms/step - loss: 0.1639 - accuracy: 0.8031 - val_loss: 0.1630 - val_accuracy: 0.8021\n",
            "Epoch 22/100\n",
            "1875/1875 [==============================] - 16s 9ms/step - loss: 0.1638 - accuracy: 0.8031 - val_loss: 0.1627 - val_accuracy: 0.8014\n",
            "Epoch 23/100\n",
            "1875/1875 [==============================] - 16s 9ms/step - loss: 0.1637 - accuracy: 0.8032 - val_loss: 0.1648 - val_accuracy: 0.7986\n",
            "Epoch 24/100\n",
            "1875/1875 [==============================] - 16s 9ms/step - loss: 0.1637 - accuracy: 0.8031 - val_loss: 0.1637 - val_accuracy: 0.8034\n",
            "Epoch 25/100\n",
            "1875/1875 [==============================] - 16s 9ms/step - loss: 0.1636 - accuracy: 0.8032 - val_loss: 0.1632 - val_accuracy: 0.8015\n",
            "Epoch 26/100\n",
            "1875/1875 [==============================] - 16s 9ms/step - loss: 0.1637 - accuracy: 0.8031 - val_loss: 0.1632 - val_accuracy: 0.8001\n",
            "Epoch 27/100\n",
            "1875/1875 [==============================] - 16s 9ms/step - loss: 0.1637 - accuracy: 0.8031 - val_loss: 0.1630 - val_accuracy: 0.8032\n",
            "Epoch 28/100\n",
            "1875/1875 [==============================] - 16s 9ms/step - loss: 0.1635 - accuracy: 0.8032 - val_loss: 0.1634 - val_accuracy: 0.8021\n",
            "Epoch 29/100\n",
            "1875/1875 [==============================] - 16s 9ms/step - loss: 0.1635 - accuracy: 0.8031 - val_loss: 0.1634 - val_accuracy: 0.8013\n",
            "Epoch 30/100\n",
            "1875/1875 [==============================] - 16s 9ms/step - loss: 0.1634 - accuracy: 0.8032 - val_loss: 0.1635 - val_accuracy: 0.8019\n",
            "Epoch 31/100\n",
            "1875/1875 [==============================] - 16s 9ms/step - loss: 0.1635 - accuracy: 0.8032 - val_loss: 0.1656 - val_accuracy: 0.8054\n",
            "Epoch 32/100\n",
            "1875/1875 [==============================] - 16s 9ms/step - loss: 0.1634 - accuracy: 0.8032 - val_loss: 0.1637 - val_accuracy: 0.8037\n",
            "Epoch 33/100\n",
            "1875/1875 [==============================] - 16s 9ms/step - loss: 0.1635 - accuracy: 0.8032 - val_loss: 0.1623 - val_accuracy: 0.8025\n",
            "Epoch 34/100\n",
            "1875/1875 [==============================] - 16s 9ms/step - loss: 0.1634 - accuracy: 0.8032 - val_loss: 0.1654 - val_accuracy: 0.8056\n",
            "Epoch 35/100\n",
            "1875/1875 [==============================] - 16s 9ms/step - loss: 0.1634 - accuracy: 0.8032 - val_loss: 0.1626 - val_accuracy: 0.8029\n",
            "Epoch 36/100\n",
            "1875/1875 [==============================] - 16s 9ms/step - loss: 0.1633 - accuracy: 0.8032 - val_loss: 0.1628 - val_accuracy: 0.8004\n",
            "Epoch 37/100\n",
            "1875/1875 [==============================] - 16s 9ms/step - loss: 0.1633 - accuracy: 0.8032 - val_loss: 0.1633 - val_accuracy: 0.7997\n",
            "Epoch 38/100\n",
            "1875/1875 [==============================] - 16s 9ms/step - loss: 0.1633 - accuracy: 0.8032 - val_loss: 0.1630 - val_accuracy: 0.7998\n",
            "Epoch 39/100\n",
            "1875/1875 [==============================] - 16s 9ms/step - loss: 0.1632 - accuracy: 0.8032 - val_loss: 0.1621 - val_accuracy: 0.8021\n",
            "Epoch 40/100\n",
            "1875/1875 [==============================] - 16s 9ms/step - loss: 0.1633 - accuracy: 0.8032 - val_loss: 0.1643 - val_accuracy: 0.7984\n",
            "Epoch 41/100\n",
            "1875/1875 [==============================] - 16s 9ms/step - loss: 0.1633 - accuracy: 0.8032 - val_loss: 0.1624 - val_accuracy: 0.8028\n",
            "Epoch 42/100\n",
            "1875/1875 [==============================] - 16s 9ms/step - loss: 0.1633 - accuracy: 0.8032 - val_loss: 0.1627 - val_accuracy: 0.8039\n",
            "Epoch 43/100\n",
            "1875/1875 [==============================] - 16s 9ms/step - loss: 0.1633 - accuracy: 0.8032 - val_loss: 0.1643 - val_accuracy: 0.8050\n",
            "Epoch 44/100\n",
            "1875/1875 [==============================] - 16s 9ms/step - loss: 0.1633 - accuracy: 0.8032 - val_loss: 0.1629 - val_accuracy: 0.8041\n",
            "Epoch 45/100\n",
            "1875/1875 [==============================] - 16s 9ms/step - loss: 0.1631 - accuracy: 0.8032 - val_loss: 0.1630 - val_accuracy: 0.8023\n",
            "Epoch 46/100\n",
            "1875/1875 [==============================] - 16s 9ms/step - loss: 0.1633 - accuracy: 0.8032 - val_loss: 0.1624 - val_accuracy: 0.8024\n",
            "Epoch 47/100\n",
            "1875/1875 [==============================] - 16s 9ms/step - loss: 0.1631 - accuracy: 0.8032 - val_loss: 0.1624 - val_accuracy: 0.8008\n",
            "Epoch 48/100\n",
            "1875/1875 [==============================] - 16s 9ms/step - loss: 0.1633 - accuracy: 0.8032 - val_loss: 0.1624 - val_accuracy: 0.8007\n",
            "Epoch 49/100\n",
            "1875/1875 [==============================] - 16s 9ms/step - loss: 0.1631 - accuracy: 0.8032 - val_loss: 0.1620 - val_accuracy: 0.8022\n",
            "Epoch 50/100\n",
            "1875/1875 [==============================] - 16s 9ms/step - loss: 0.1631 - accuracy: 0.8032 - val_loss: 0.1621 - val_accuracy: 0.8025\n",
            "Epoch 51/100\n",
            "1875/1875 [==============================] - 16s 9ms/step - loss: 0.1632 - accuracy: 0.8032 - val_loss: 0.1628 - val_accuracy: 0.8028\n",
            "Epoch 52/100\n",
            "1875/1875 [==============================] - 16s 9ms/step - loss: 0.1630 - accuracy: 0.8032 - val_loss: 0.1623 - val_accuracy: 0.8027\n",
            "Epoch 53/100\n",
            "1875/1875 [==============================] - 16s 9ms/step - loss: 0.1630 - accuracy: 0.8032 - val_loss: 0.1628 - val_accuracy: 0.8014\n",
            "Epoch 54/100\n",
            "1875/1875 [==============================] - 16s 9ms/step - loss: 0.1631 - accuracy: 0.8032 - val_loss: 0.1636 - val_accuracy: 0.7991\n",
            "Epoch 55/100\n",
            "1875/1875 [==============================] - 16s 9ms/step - loss: 0.1632 - accuracy: 0.8032 - val_loss: 0.1625 - val_accuracy: 0.8032\n",
            "Epoch 56/100\n",
            "1875/1875 [==============================] - 16s 9ms/step - loss: 0.1631 - accuracy: 0.8032 - val_loss: 0.1621 - val_accuracy: 0.8010\n",
            "Epoch 57/100\n",
            "1875/1875 [==============================] - 16s 9ms/step - loss: 0.1630 - accuracy: 0.8032 - val_loss: 0.1630 - val_accuracy: 0.7992\n",
            "Epoch 58/100\n",
            "1875/1875 [==============================] - 16s 9ms/step - loss: 0.1631 - accuracy: 0.8032 - val_loss: 0.1624 - val_accuracy: 0.8027\n",
            "Epoch 59/100\n",
            "1875/1875 [==============================] - 16s 9ms/step - loss: 0.1629 - accuracy: 0.8032 - val_loss: 0.1619 - val_accuracy: 0.8010\n",
            "Epoch 60/100\n",
            "1875/1875 [==============================] - 16s 9ms/step - loss: 0.1631 - accuracy: 0.8032 - val_loss: 0.1624 - val_accuracy: 0.8006\n",
            "Epoch 61/100\n",
            "1875/1875 [==============================] - 16s 9ms/step - loss: 0.1630 - accuracy: 0.8032 - val_loss: 0.1623 - val_accuracy: 0.8030\n",
            "Epoch 62/100\n",
            "1875/1875 [==============================] - 16s 9ms/step - loss: 0.1630 - accuracy: 0.8032 - val_loss: 0.1638 - val_accuracy: 0.7987\n",
            "Epoch 63/100\n",
            "1875/1875 [==============================] - 16s 9ms/step - loss: 0.1630 - accuracy: 0.8032 - val_loss: 0.1634 - val_accuracy: 0.8043\n",
            "Epoch 64/100\n",
            "1875/1875 [==============================] - 16s 9ms/step - loss: 0.1631 - accuracy: 0.8032 - val_loss: 0.1623 - val_accuracy: 0.8017\n",
            "Epoch 65/100\n",
            "1875/1875 [==============================] - 16s 9ms/step - loss: 0.1629 - accuracy: 0.8032 - val_loss: 0.1615 - val_accuracy: 0.8028\n",
            "Epoch 66/100\n",
            "1875/1875 [==============================] - 16s 9ms/step - loss: 0.1630 - accuracy: 0.8032 - val_loss: 0.1623 - val_accuracy: 0.8037\n",
            "Epoch 67/100\n",
            "1875/1875 [==============================] - 17s 9ms/step - loss: 0.1630 - accuracy: 0.8032 - val_loss: 0.1620 - val_accuracy: 0.8025\n",
            "Epoch 68/100\n",
            "1875/1875 [==============================] - 16s 9ms/step - loss: 0.1629 - accuracy: 0.8032 - val_loss: 0.1633 - val_accuracy: 0.8047\n",
            "Epoch 69/100\n",
            "1875/1875 [==============================] - 16s 9ms/step - loss: 0.1628 - accuracy: 0.8032 - val_loss: 0.1616 - val_accuracy: 0.8016\n",
            "Epoch 70/100\n",
            "1875/1875 [==============================] - 16s 9ms/step - loss: 0.1629 - accuracy: 0.8032 - val_loss: 0.1621 - val_accuracy: 0.8005\n",
            "Epoch 71/100\n",
            "1875/1875 [==============================] - 16s 9ms/step - loss: 0.1629 - accuracy: 0.8032 - val_loss: 0.1615 - val_accuracy: 0.8030\n",
            "Epoch 72/100\n",
            "1875/1875 [==============================] - 17s 9ms/step - loss: 0.1630 - accuracy: 0.8032 - val_loss: 0.1643 - val_accuracy: 0.7979\n",
            "Epoch 73/100\n",
            "1875/1875 [==============================] - 16s 9ms/step - loss: 0.1628 - accuracy: 0.8032 - val_loss: 0.1622 - val_accuracy: 0.8032\n",
            "Epoch 74/100\n",
            "1875/1875 [==============================] - 16s 9ms/step - loss: 0.1629 - accuracy: 0.8032 - val_loss: 0.1628 - val_accuracy: 0.8037\n",
            "Epoch 75/100\n",
            "1875/1875 [==============================] - 16s 9ms/step - loss: 0.1630 - accuracy: 0.8032 - val_loss: 0.1625 - val_accuracy: 0.8038\n",
            "Epoch 76/100\n",
            "1875/1875 [==============================] - 16s 9ms/step - loss: 0.1628 - accuracy: 0.8032 - val_loss: 0.1624 - val_accuracy: 0.8011\n",
            "Epoch 77/100\n",
            "1875/1875 [==============================] - 17s 9ms/step - loss: 0.1628 - accuracy: 0.8033 - val_loss: 0.1623 - val_accuracy: 0.8020\n",
            "Epoch 78/100\n",
            "1875/1875 [==============================] - 16s 9ms/step - loss: 0.1629 - accuracy: 0.8032 - val_loss: 0.1644 - val_accuracy: 0.7981\n",
            "Epoch 79/100\n",
            "1875/1875 [==============================] - 16s 9ms/step - loss: 0.1629 - accuracy: 0.8032 - val_loss: 0.1640 - val_accuracy: 0.8044\n",
            "Epoch 80/100\n",
            "1875/1875 [==============================] - 16s 9ms/step - loss: 0.1627 - accuracy: 0.8033 - val_loss: 0.1619 - val_accuracy: 0.8025\n",
            "Epoch 81/100\n",
            "1875/1875 [==============================] - 16s 9ms/step - loss: 0.1629 - accuracy: 0.8032 - val_loss: 0.1628 - val_accuracy: 0.8009\n",
            "Epoch 82/100\n",
            "1875/1875 [==============================] - 16s 9ms/step - loss: 0.1628 - accuracy: 0.8032 - val_loss: 0.1625 - val_accuracy: 0.8004\n",
            "Epoch 83/100\n",
            "1875/1875 [==============================] - 16s 9ms/step - loss: 0.1627 - accuracy: 0.8033 - val_loss: 0.1620 - val_accuracy: 0.8033\n",
            "Epoch 84/100\n",
            "1875/1875 [==============================] - 16s 9ms/step - loss: 0.1628 - accuracy: 0.8033 - val_loss: 0.1628 - val_accuracy: 0.8047\n",
            "Epoch 85/100\n",
            "1875/1875 [==============================] - 16s 9ms/step - loss: 0.1628 - accuracy: 0.8032 - val_loss: 0.1627 - val_accuracy: 0.7994\n",
            "Epoch 86/100\n",
            "1875/1875 [==============================] - 16s 9ms/step - loss: 0.1628 - accuracy: 0.8032 - val_loss: 0.1620 - val_accuracy: 0.8021\n",
            "Epoch 87/100\n",
            "1875/1875 [==============================] - 16s 9ms/step - loss: 0.1628 - accuracy: 0.8032 - val_loss: 0.1618 - val_accuracy: 0.8017\n",
            "Epoch 88/100\n",
            "1875/1875 [==============================] - 16s 9ms/step - loss: 0.1628 - accuracy: 0.8032 - val_loss: 0.1615 - val_accuracy: 0.8027\n",
            "Epoch 89/100\n",
            "1875/1875 [==============================] - 16s 9ms/step - loss: 0.1628 - accuracy: 0.8032 - val_loss: 0.1616 - val_accuracy: 0.8026\n",
            "Epoch 90/100\n",
            "1875/1875 [==============================] - 16s 9ms/step - loss: 0.1628 - accuracy: 0.8032 - val_loss: 0.1619 - val_accuracy: 0.8014\n",
            "Epoch 91/100\n",
            "1875/1875 [==============================] - 16s 9ms/step - loss: 0.1627 - accuracy: 0.8033 - val_loss: 0.1628 - val_accuracy: 0.8020\n",
            "Epoch 92/100\n",
            "1875/1875 [==============================] - 16s 9ms/step - loss: 0.1628 - accuracy: 0.8033 - val_loss: 0.1617 - val_accuracy: 0.8028\n",
            "Epoch 93/100\n",
            "1875/1875 [==============================] - 17s 9ms/step - loss: 0.1627 - accuracy: 0.8033 - val_loss: 0.1627 - val_accuracy: 0.8030\n",
            "Epoch 94/100\n",
            "1875/1875 [==============================] - 16s 9ms/step - loss: 0.1627 - accuracy: 0.8033 - val_loss: 0.1625 - val_accuracy: 0.8040\n",
            "Epoch 95/100\n",
            "1875/1875 [==============================] - 17s 9ms/step - loss: 0.1628 - accuracy: 0.8032 - val_loss: 0.1624 - val_accuracy: 0.8014\n",
            "Epoch 96/100\n",
            "1875/1875 [==============================] - 17s 9ms/step - loss: 0.1627 - accuracy: 0.8033 - val_loss: 0.1616 - val_accuracy: 0.8014\n",
            "Epoch 97/100\n",
            "1875/1875 [==============================] - 16s 9ms/step - loss: 0.1626 - accuracy: 0.8033 - val_loss: 0.1633 - val_accuracy: 0.8048\n",
            "Epoch 98/100\n",
            "1875/1875 [==============================] - 17s 9ms/step - loss: 0.1627 - accuracy: 0.8033 - val_loss: 0.1621 - val_accuracy: 0.8031\n",
            "Epoch 99/100\n",
            "1875/1875 [==============================] - 16s 9ms/step - loss: 0.1627 - accuracy: 0.8032 - val_loss: 0.1644 - val_accuracy: 0.7975\n",
            "Epoch 100/100\n",
            "1875/1875 [==============================] - 17s 9ms/step - loss: 0.1627 - accuracy: 0.8033 - val_loss: 0.1617 - val_accuracy: 0.8020\n"
          ]
        },
        {
          "output_type": "execute_result",
          "data": {
            "text/plain": [
              "<keras.callbacks.History at 0x7f8fe831df10>"
            ]
          },
          "metadata": {},
          "execution_count": 22
        }
      ]
    },
    {
      "cell_type": "code",
      "source": [
        "decoded_imgs = autoencoder.predict(x_test)"
      ],
      "metadata": {
        "id": "bTBCAqbvtGjq"
      },
      "execution_count": null,
      "outputs": []
    },
    {
      "cell_type": "code",
      "source": [
        "x_test.shape, decoded_imgs.shape"
      ],
      "metadata": {
        "colab": {
          "base_uri": "https://localhost:8080/"
        },
        "id": "gRq4H0fstczi",
        "outputId": "997309e7-8753-42c8-ad9d-0484db2faf58"
      },
      "execution_count": null,
      "outputs": [
        {
          "output_type": "execute_result",
          "data": {
            "text/plain": [
              "((10000, 28, 28), (10000, 28, 28, 1))"
            ]
          },
          "metadata": {},
          "execution_count": 24
        }
      ]
    },
    {
      "cell_type": "code",
      "source": [
        "decoded_imgs = decoded_imgs[:,:,:,0]"
      ],
      "metadata": {
        "id": "1kjPTD96tjsV"
      },
      "execution_count": null,
      "outputs": []
    },
    {
      "cell_type": "code",
      "source": [
        "random_number = randint(0,10000)\n",
        "#img1 = io.imread(images[random_number])\n",
        "#img2 = io.imread(augmented_images[random_number])\n",
        "\n",
        "fig = make_subplots(\n",
        "    rows=1, cols=3)\n",
        "fig_img1 = px.imshow(x_test_noisy[random_number], color_continuous_scale='gray')\n",
        "fig_img2 = px.imshow(decoded_imgs[random_number], color_continuous_scale='gray')\n",
        "fig_img3 = px.imshow(x_test[random_number], color_continuous_scale='gray')\n",
        "fig.add_trace(fig_img1.data[0], 1, 1)\n",
        "fig.add_trace(fig_img2.data[0], 1, 2)\n",
        "fig.add_trace(fig_img3.data[0], 1, 3)\n",
        "fig.show()"
      ],
      "metadata": {
        "colab": {
          "base_uri": "https://localhost:8080/",
          "height": 542
        },
        "id": "BidlcMMEtV4k",
        "outputId": "2e184c54-07e4-4dd1-a45c-08e810467db1"
      },
      "execution_count": null,
      "outputs": [
        {
          "output_type": "display_data",
          "data": {
            "text/html": [
              "<html>\n",
              "<head><meta charset=\"utf-8\" /></head>\n",
              "<body>\n",
              "    <div>            <script src=\"https://cdnjs.cloudflare.com/ajax/libs/mathjax/2.7.5/MathJax.js?config=TeX-AMS-MML_SVG\"></script><script type=\"text/javascript\">if (window.MathJax) {MathJax.Hub.Config({SVG: {font: \"STIX-Web\"}});}</script>                <script type=\"text/javascript\">window.PlotlyConfig = {MathJaxConfig: 'local'};</script>\n",
              "        <script src=\"https://cdn.plot.ly/plotly-2.8.3.min.js\"></script>                <div id=\"5834a349-cd78-4f62-8926-ba5886943748\" class=\"plotly-graph-div\" style=\"height:525px; width:100%;\"></div>            <script type=\"text/javascript\">                                    window.PLOTLYENV=window.PLOTLYENV || {};                                    if (document.getElementById(\"5834a349-cd78-4f62-8926-ba5886943748\")) {                    Plotly.newPlot(                        \"5834a349-cd78-4f62-8926-ba5886943748\",                        [{\"coloraxis\":\"coloraxis\",\"hovertemplate\":\"x: %{x}<br>y: %{y}<br>color: %{z}<extra></extra>\",\"name\":\"0\",\"xaxis\":\"x\",\"yaxis\":\"y\",\"z\":[[0.0,0.48355043265440184,0.8350187645967677,0.0,0.22789747892214596,1.0,0.0,0.25764792505096906,1.0,1.0,0.7475031671943865,1.0,0.0,1.0,0.0,1.0,0.8336001661202719,0.22278449519904908,0.0,0.0,0.0,1.0,1.0,1.0,0.8491095600564834,1.0,0.649307129607565,0.5823751732833748],[1.0,1.0,1.0,0.6053880352523839,1.0,0.0004233467964221971,1.0,0.0,0.0,0.0,1.0,0.0,1.0,0.5180516296930421,1.0,0.20925081712929228,0.0,0.09468808053573563,0.9399846656646131,1.0,0.7234158051500611,0.9571311480423407,0.0,1.0,0.0,1.0,0.0,1.0],[1.0,0.999509575397973,1.0,0.9999174546812277,0.02342985660996172,1.0,0.0,0.0,1.0,1.0,1.0,1.0,0.8043898852202351,0.0,1.0,0.0,1.0,0.0,0.24391320554204549,1.0,1.0,0.8323218162995069,0.21160213562534003,0.9045680603625668,0.0,1.0,0.8537179544004695,0.2227352450178613],[0.0,1.0,0.8990719413222481,1.0,0.0,1.0,0.0,1.0,1.0,1.0,0.993974091215153,1.0,0.17420212160138565,0.43931978037003394,0.0,1.0,1.0,1.0,0.0,0.35373859997022994,0.895535331674528,0.6763842324971525,1.0,0.0,1.0,0.975219741784912,1.0,0.8695738186594717],[0.7507962515109579,0.0,0.7151331792446114,1.0,1.0,0.0,0.0,0.09333526522173535,0.6132161822461,1.0,0.06219159150448439,0.0,1.0,0.7304263207313787,0.7692583192594219,1.0,0.537293287234814,0.0,0.0,0.5253256081016048,0.0,0.0,0.0,1.0,1.0,0.4481005952364245,0.0,1.0],[0.0,0.6032693508207396,1.0,0.0,0.1754477341267981,1.0,0.0,1.0,1.0,0.3413193604203114,1.0,1.0,0.8815899094196961,0.6796632975024088,1.0,0.07995136586652207,0.431532103571868,0.4792986854922129,0.7677624132291592,0.0,0.432285950646161,0.0,0.9747249493915322,0.0,0.9493022276380187,0.415628091496849,0.716597636879483,1.0],[0.28869923054815616,0.685042594889931,0.0,0.47541205258802166,0.0,0.7770128657802351,0.9004031048210485,1.0,1.0,0.7516748837481597,0.0,0.9880965212155466,1.0,1.0,1.0,1.0,1.0,1.0,0.7443872133769407,1.0,0.0,0.0,0.0,0.7303321382053518,0.9722348660862705,0.8862745987681993,0.0,0.0],[0.0,1.0,0.0,0.19803895298497837,0.0,0.0,0.3751619795132994,0.0,0.0,0.7179272271765131,1.0,1.0,0.7646543649432139,0.31889036896746603,1.0,1.0,1.0,1.0,0.6418679543873922,1.0,1.0,0.0,0.2928396591392899,1.0,0.9284889016478612,0.9441018101090088,0.0,0.0],[0.7131411264220627,0.0,1.0,0.2595670568036303,0.49706625125058207,0.47100004793705724,1.0,1.0,0.44533622120771116,1.0,1.0,1.0,1.0,0.8959119963082158,0.42678389318478005,1.0,1.0,1.0,1.0,1.0,1.0,0.5803589512940965,0.26114768953551004,0.11592099317442695,0.9393300879503286,0.12265619528976796,1.0,1.0],[1.0,1.0,0.3323704474394944,1.0,1.0,0.0,0.0,1.0,1.0,1.0,1.0,1.0,1.0,1.0,1.0,0.6740651815942754,0.7172450212508723,0.6177293421648352,1.0,1.0,1.0,1.0,0.13866772942799177,0.0,1.0,0.0,1.0,1.0],[1.0,1.0,1.0,0.0,0.4069273159479372,0.0,1.0,0.3232259826209742,0.6803857741217864,0.4761214303934014,1.0,0.74641869463858,0.601107345665664,1.0,1.0,1.0,0.0,1.0,0.36666287125876507,1.0,1.0,1.0,0.0,1.0,0.7924182548969637,1.0,1.0,1.0],[0.7989706951950879,0.0,1.0,1.0,0.0,1.0,1.0,0.6520337602827749,1.0,0.47436387400879276,0.9933256407136328,1.0,1.0,0.5667021098409466,1.0,1.0,0.0,0.4683213290673081,1.0,0.0,0.0,1.0,1.0,0.06138316522661741,0.0,0.0,1.0,0.24783573532836378],[0.0,0.0,0.41036242206915186,0.8857951691768846,0.4368124189100723,0.41534642868161264,0.5221856522471845,0.0,1.0,1.0,1.0,1.0,0.7786217100690377,0.52208851397827,1.0,1.0,0.35579046024951905,0.06893343972303995,0.34074254596717723,1.0,1.0,0.0,0.0,0.42584358468221145,1.0,0.0,0.3743038487742289,0.0],[0.2546545323141812,0.5450127110158898,0.0,1.0,0.2847932556153958,1.0,0.0,0.4867075379574778,1.0,1.0,1.0,0.0,0.020579206585619514,0.0,1.0,1.0,0.5288865648910591,0.8348695589163291,1.0,1.0,1.0,0.9513963532856854,1.0,0.856929693075878,0.45141568287634676,1.0,1.0,0.3391678978179778],[1.0,0.28428738475563353,0.0,1.0,0.0,0.0,0.903575199883895,1.0,1.0,0.8430347110056587,0.9832444285213555,1.0,1.0,0.0,0.0,0.7435758305446596,0.6613682077593408,0.6407420025711539,0.5800752089846561,0.0,1.0,0.7745873523827754,0.0,0.0,0.0,1.0,0.0,0.0],[0.0,1.0,0.018523497221255514,1.0,0.2833789824232945,1.0,0.0,1.0,1.0,1.0,0.0,0.0,0.2474656529524462,1.0,0.0,0.0,0.7204689863371249,0.8079317894994824,1.0,0.6196063059313445,1.0,1.0,0.8885077154551713,0.2999332906056339,1.0,0.0,0.0,1.0],[1.0,0.0,0.8747267214435062,1.0,1.0,1.0,0.8007412166638237,0.48963796307504237,1.0,1.0,1.0,0.0,0.953253478902194,0.6916363843668596,1.0,0.0,0.400386429222293,1.0,1.0,0.9499525482680364,1.0,0.8150576152767782,0.0025351982590986477,1.0,0.0,1.0,0.7727848945374867,0.0],[0.7869481139710299,1.0,1.0,0.5521041978997869,0.0,0.0,1.0,0.7091756410185821,0.9046549344961625,0.0,1.0,0.26629122185172616,1.0,0.0,0.0,0.0,0.5541867416941029,0.05378999885699559,1.0,0.0,1.0,0.8422211109213238,1.0,1.0,1.0,0.6876998657405613,0.0,0.0],[1.0,0.0,0.0,1.0,1.0,1.0,0.0,1.0,1.0,1.0,0.6215908783501447,0.0,0.0,0.6226212748686347,0.7121214992282636,0.6930034172233376,0.108489493325854,0.8634200835743222,1.0,0.0,0.0,0.6943973232980472,1.0,1.0,0.0,0.8325517606881757,1.0,1.0],[1.0,0.0,0.1579631439309711,0.5157560039458828,1.0,1.0,0.3818122476399396,1.0,1.0,1.0,1.0,0.5383559344910304,1.0,0.22025605323967024,0.728143353862666,0.0,0.6374266446126237,0.6636002719497919,1.0,0.87563941058761,1.0,0.8001905016174367,0.8703186706908085,1.0,0.0,1.0,0.0,0.0],[1.0,1.0,0.392001444527188,0.0,1.0,1.0,0.0,0.5382219280497617,1.0,1.0,1.0,1.0,0.0,0.5778667113801548,0.7917596793628842,1.0,1.0,1.0,1.0,0.0,0.0,0.9427767450522161,0.760804297035039,0.0,0.0,0.0,0.0,0.9369310169646725],[0.29404109300642,0.16022783222900472,0.8888496576255573,1.0,0.0,0.0,1.0,0.8253194704412306,0.5441679510134559,1.0,1.0,1.0,0.27761431662877256,0.9400144699585357,1.0,1.0,0.2906291758075987,1.0,0.0,1.0,0.2841078414358692,1.0,0.31799648977307,0.479005945817412,0.7196879028209475,1.0,0.5969206189493491,0.7282529081087958],[0.0,0.0,1.0,0.0,0.36842617854904913,0.7779796098979843,0.11307253670817102,1.0,1.0,1.0,1.0,1.0,0.7598657349752368,1.0,1.0,0.21578455405240415,0.7733763347451356,1.0,0.14393949134627687,0.0,1.0,1.0,0.1346690831294683,1.0,0.7998241254832964,0.25894338367813907,1.0,0.0],[1.0,0.17201548716132786,1.0,0.4071484195884719,1.0,1.0,0.0642068168391467,1.0,0.0,0.0,1.0,1.0,0.4959073794876695,1.0,0.592740626079518,0.3467129957807881,0.2918024917423372,0.5309195851677344,0.7418733172999847,1.0,0.6483897849502481,0.8449980359718023,0.0,0.627883287208312,0.6681194397220304,1.0,0.21238435372005088,1.0],[0.3145364734926502,0.7986923381504831,0.42368428749837156,0.0,0.0,0.0,1.0,0.0,0.610006266977009,1.0,0.07534644652799549,0.295825862330236,0.0,0.9195700959723567,0.2678831415452767,0.0,1.0,0.552712392457868,0.7904277107528642,1.0,1.0,1.0,1.0,0.0,0.0,1.0,0.0,1.0],[1.0,0.3601216756605072,0.14980176272377566,1.0,0.0,0.7169409717232667,0.043838105248084125,0.0,1.0,0.0,1.0,1.0,0.0,0.49113576912593115,1.0,0.8109437060553134,0.29993850101520797,0.40651515669881955,0.0,0.0,0.6760229105169899,0.01160020798538225,1.0,1.0,0.0,0.5178738901450688,0.0,0.18668780304953575],[1.0,1.0,0.3373489233354784,0.0,1.0,0.45441832763455003,1.0,0.0,0.0,1.0,1.0,1.0,0.4901676206521282,1.0,1.0,0.0,0.5209197630794989,0.7589101631022188,0.0,0.47511673524166437,0.40559968295718374,1.0,0.5790777179602299,0.0,0.0,0.582755019034039,1.0,0.0],[0.5919133664482235,1.0,1.0,1.0,0.0,0.0,1.0,0.22468632695936347,0.0,0.15340929734308645,0.17479578086899716,1.0,0.5041116216509304,1.0,0.3941090957800759,0.0,0.0,0.0,1.0,0.0,0.7154303570179056,0.08899161469172984,0.0,0.7883655633934705,0.021191675072789018,1.0,0.0,1.0]],\"type\":\"heatmap\"},{\"coloraxis\":\"coloraxis\",\"hovertemplate\":\"x: %{x}<br>y: %{y}<br>color: %{z}<extra></extra>\",\"name\":\"0\",\"xaxis\":\"x2\",\"yaxis\":\"y2\",\"z\":[[6.970193499000743e-05,1.2337775388004957e-06,3.808626729551179e-07,1.0012464457531678e-07,3.103889412159333e-07,4.5302462581275904e-07,3.169651563439402e-07,9.570836709826835e-07,1.8355856354901334e-06,4.503514446696499e-06,3.7740642255812418e-06,8.11768404673785e-06,1.1923169040528592e-05,2.864449197659269e-05,5.0615071813808754e-05,4.008306859759614e-05,9.02707233763067e-06,2.584351022960618e-06,5.330628596311726e-07,3.588438701740415e-08,1.3490774719571164e-08,3.995595321271139e-08,9.307506587674652e-08,3.3727508252923144e-07,9.209540507981728e-07,1.8973170199387823e-06,8.232734217017423e-06,0.00012339717068243772],[1.350520165033231e-06,7.667808432643142e-08,1.1163296065319628e-08,1.7466321722281464e-08,8.336546386544796e-08,2.0447953374969075e-07,2.42613879208875e-07,1.3038148836130858e-06,3.050511850233306e-06,6.449633019656176e-06,1.0563597243162803e-05,1.8641167116584256e-05,3.4145410609198734e-05,0.00010992770694429055,0.00023366948880720884,0.0002048126916633919,5.1596089178929105e-05,3.899669536622241e-05,1.467029687773902e-05,3.3096848710556515e-06,1.6337705801561242e-06,1.2022743476336473e-06,8.413354635194992e-07,1.1211391210963484e-06,1.868849722086452e-06,3.0224082365748473e-06,4.662744231609395e-06,1.574742782395333e-05],[1.4371192946782685e-06,4.523131735822972e-08,6.79701850359038e-09,2.9645658372601247e-08,1.2317585174059786e-07,4.571502643102576e-07,7.027886113064596e-07,4.653157702705357e-06,1.2076974599040113e-05,2.856197716027964e-05,7.785321940900758e-05,0.0001111403398681432,0.0002767477708403021,0.0007215435616672039,0.001391748315654695,0.0020165499299764633,0.0007325211190618575,0.0009658888448029757,0.0004458121256902814,0.00017543819558341056,0.0001227169414050877,4.9767520977184176e-05,2.864878115360625e-05,1.6250269254669547e-05,1.0970895345963072e-05,1.1362783880031202e-05,8.111485840345267e-06,7.825472494005226e-06],[1.049925344887015e-06,4.672410724992915e-08,1.7871316870810006e-08,3.503866423670843e-07,1.5489428051296272e-06,2.2327917577058543e-06,1.7470472357672406e-06,5.337331003829604e-06,2.0588442566804588e-05,9.265320841223001e-05,0.00021615026344079524,0.0004948072019033134,0.0016125207766890526,0.0041306596249341965,0.007083635777235031,0.005635737907141447,0.002078518271446228,0.0013594861375167966,0.000568094605114311,0.00026058315415866673,0.0001671751233516261,8.7632768554613e-05,6.755203503416851e-05,4.612339034792967e-05,1.8704489775700495e-05,6.39212885289453e-06,2.429619371469016e-06,1.1523236480570631e-06],[1.540445737191476e-06,1.7284433795339282e-07,1.661215094372892e-07,3.1603533443558263e-06,1.046972374751931e-05,1.7834607206168585e-05,1.1157483640999999e-05,1.8562648619990796e-05,7.706346514169127e-05,0.00042366053094156086,0.0009548116941004992,0.004861088003963232,0.023215169087052345,0.07533586770296097,0.08170545846223831,0.04175366088747978,0.01738366112112999,0.013913417235016823,0.008484240621328354,0.004093093331903219,0.002052219584584236,0.001077243941836059,0.0005303436773829162,0.0002936341625172645,0.00011432520841481164,2.501012568245642e-05,8.349430572707206e-06,2.351349394302815e-06],[2.7049459276895504e-06,4.082892814949446e-07,6.870973265904468e-07,7.246645054692635e-06,2.1659026970155537e-05,4.170485772192478e-05,2.7083320674137212e-05,7.926311081973836e-05,0.0002887773443944752,0.0014776107855141163,0.008860519155859947,0.08269728720188141,0.3152651786804199,0.488334596157074,0.4239446520805359,0.3577280044555664,0.25376105308532715,0.20429562032222748,0.11015325039625168,0.05641261488199234,0.027948366478085518,0.013347414322197437,0.00440779235213995,0.0013922658981755376,0.000529890472535044,7.90643462096341e-05,1.9489867554511875e-05,2.4440187189611606e-06],[2.6832278763322392e-06,5.57558223590604e-07,7.185345225479978e-07,8.354409146704711e-06,3.3898733818205073e-05,4.5790970034431666e-05,3.545017898431979e-05,0.00013129795843269676,0.000509626988787204,0.005560562014579773,0.07900059968233109,0.5310587286949158,0.8385869860649109,0.8723530769348145,0.8408907651901245,0.8599359393119812,0.8573522567749023,0.812960684299469,0.6573206782341003,0.465277761220932,0.21869118511676788,0.061770472675561905,0.012162473984062672,0.0024411934427917004,0.0009219666244462132,0.0001532119495095685,3.3996566344285384e-05,2.828064452842227e-06],[6.748624400643166e-06,2.7038959160563536e-06,2.747125790847349e-06,8.954047189035919e-06,3.1426450732396916e-05,3.9972332160687074e-05,4.2493484215810895e-05,0.0002751006977632642,0.0013265407178550959,0.03521808609366417,0.566739022731781,0.9185379147529602,0.9709975719451904,0.9695122838020325,0.9523260593414307,0.9793866276741028,0.9848667979240417,0.9829537868499756,0.9664965271949768,0.9241774678230286,0.7097861766815186,0.18792307376861572,0.02300681546330452,0.0034441426396369934,0.001501130755059421,0.0004010444099549204,9.921799937728792e-05,3.902974640368484e-06],[7.616377388330875e-06,5.844481620442821e-06,7.117308086890262e-06,1.6890491679077968e-05,4.2649335227906704e-05,4.32478373113554e-05,5.265593790682033e-05,0.00047311908565461636,0.0034740911796689034,0.16272470355033875,0.8934586048126221,0.971860945224762,0.9745264649391174,0.9384417533874512,0.8971616625785828,0.9612219333648682,0.9695695638656616,0.9668115377426147,0.9639847874641418,0.9446792602539062,0.7915643453598022,0.26970919966697693,0.03760548681020737,0.006976727396249771,0.003073797095566988,0.0008062092238105834,0.00014583613665308803,3.7472059375431854e-06],[1.727741278045869e-06,2.2647218429483473e-06,4.805330263479846e-06,6.728965672664344e-06,1.1724402611434925e-05,4.1902068915078416e-05,0.0001590131432749331,0.0021374381612986326,0.02346104010939598,0.5511246919631958,0.9592918157577515,0.9608972668647766,0.858807384967804,0.42632171511650085,0.2973364293575287,0.3985002934932709,0.47684696316719055,0.5873422026634216,0.7778645753860474,0.9354801774024963,0.8961848020553589,0.5323669910430908,0.07259788364171982,0.0053769806399941444,0.0014119549887254834,0.0002813390165101737,3.245533298468217e-05,9.26891857488954e-07],[2.334387971814067e-07,5.127887447997637e-07,1.9822250578727107e-06,2.6096502097061602e-06,4.762840490002418e-06,3.584649311960675e-05,0.00026819860795512795,0.005454998929053545,0.08483917266130447,0.7956253886222839,0.9714773893356323,0.876305878162384,0.3518817126750946,0.03397759795188904,0.013265864923596382,0.013354393653571606,0.014690403826534748,0.03260648250579834,0.15464961528778076,0.8051649928092957,0.9331403374671936,0.7580450177192688,0.11123935878276825,0.0025346227921545506,0.00030853418866172433,3.327246304252185e-05,5.90860508964397e-06,7.028260711194889e-07],[1.7354775394551325e-08,6.235097060880435e-08,4.3196880028517626e-07,1.1643001016636845e-06,2.5997389911935898e-06,5.863189653609879e-05,0.0006378446705639362,0.015330002643167973,0.28432562947273254,0.9516564607620239,0.9777971506118774,0.7319008111953735,0.09133915603160858,0.0028330523055046797,0.0009458974818699062,0.0004705343453679234,0.00042200408643111587,0.0013066759565845132,0.009748782962560654,0.47546693682670593,0.9253804683685303,0.8439039587974548,0.1662474125623703,0.002424787264317274,0.00015801166591700166,1.2239287570992019e-05,2.5930683023034362e-06,3.272481876592792e-07],[1.3416641131414053e-08,4.270734521583108e-08,3.6416139437278616e-07,9.78436560217233e-07,1.9835110833810177e-06,6.349039176711813e-05,0.0008263276540674269,0.03937142342329025,0.6626087427139282,0.9817394018173218,0.9612514972686768,0.2787853181362152,0.008672274649143219,0.0002520460984669626,0.00012397993123158813,8.97678910405375e-05,0.00010127208224730566,0.00034739545662887394,0.002731506945565343,0.31035882234573364,0.9147987961769104,0.8920958042144775,0.31951090693473816,0.004964025225490332,0.00027139566373080015,1.7750615370459855e-05,2.3903348846943118e-06,2.425676086659223e-07],[4.2831320712366505e-09,1.9597351297306886e-08,2.344096827755493e-07,4.817715080207563e-07,1.2165068028480164e-06,8.166030602296814e-05,0.002075040712952614,0.08605239540338516,0.8258391618728638,0.987038791179657,0.860083281993866,0.026769593358039856,0.0009062383905984461,2.4745029804762453e-05,1.0346228918933775e-05,6.555574145750143e-06,8.338211046066135e-06,8.943210559664294e-05,0.0010715194512158632,0.1369742751121521,0.8615928292274475,0.9222847819328308,0.4541943073272705,0.008010094985365868,0.0005354611785151064,6.297904474195093e-05,4.00108183384873e-06,2.727073535879754e-07],[1.4588139585214321e-09,9.475937368108589e-09,1.5904211636552645e-07,3.475084326964861e-07,1.0665283980415552e-06,6.73801259836182e-05,0.003113165497779846,0.17727240920066833,0.9072049856185913,0.9823984503746033,0.6289396286010742,0.00793901551514864,0.0008168758940882981,4.2147577914875e-05,1.081097980204504e-05,6.075883447920205e-06,1.0747645319497678e-05,0.00011894210911123082,0.001103858114220202,0.15382379293441772,0.894701361656189,0.9430720806121826,0.4521893858909607,0.008132277987897396,0.000807311269454658,0.00010039393964689225,3.883166755258571e-06,1.869326098358215e-07],[4.20538492917899e-10,4.238176032345109e-09,8.488137837048271e-08,1.0056254495793837e-07,2.4248527097370243e-07,2.9620836357935332e-05,0.0021793923806399107,0.22970540821552277,0.9187113046646118,0.9468966722488403,0.3075956702232361,0.00555222574621439,0.0011976371752098203,3.2198568078456447e-05,4.266474661562825e-06,3.653120757007855e-06,9.173678336082958e-06,0.00012962786422576755,0.0015998565359041095,0.2588770091533661,0.9212722182273865,0.9182410836219788,0.2721978724002838,0.006187507417052984,0.0008835921180434525,0.00013335273251868784,3.741610498764203e-06,1.462431384879892e-07],[3.6744995934867575e-10,4.437531231360481e-09,9.386681654177664e-08,1.4101939882493753e-07,4.0763609376881504e-07,5.070319093647413e-05,0.0036998579744249582,0.3451714515686035,0.9298691153526306,0.9331195950508118,0.29569458961486816,0.006810897961258888,0.0011402853997424245,2.171749838453252e-05,3.3822959721874213e-06,2.586607024568366e-06,6.983409548411146e-06,0.0002020182873820886,0.0043344455771148205,0.501023530960083,0.9525543451309204,0.884712278842926,0.175815612077713,0.004683805163949728,0.0008231063839048147,0.00012727365538012236,4.05131913794321e-06,1.887159442048869e-07],[7.343146646299203e-10,1.6605493868837584e-08,3.0355062108355924e-07,9.328680334874662e-07,3.1790621051186463e-06,0.00013694660447072238,0.007500148843973875,0.5252817869186401,0.9507009983062744,0.8946685194969177,0.1740296185016632,0.004104298539459705,0.0007922129589132965,6.637201295234263e-05,1.8745327906799503e-05,2.877308361348696e-05,9.337555093225092e-05,0.0014956047525629401,0.05820589140057564,0.8676345348358154,0.9635917544364929,0.738198459148407,0.07484033703804016,0.0025056181475520134,0.0004973912728019059,0.00010631333134369925,5.690895704901777e-06,1.52193138092116e-07],[1.5216993221045527e-09,3.4480464705666236e-08,6.811679895690759e-07,2.844537448254414e-06,1.0506090802664403e-05,0.0004238782566972077,0.01935407891869545,0.6371970772743225,0.9528474807739258,0.8571280837059021,0.12379145622253418,0.003315106499940157,0.0008534656371921301,0.00019710870401468128,8.854551560943946e-05,0.0002388448192505166,0.000749307859223336,0.01584908738732338,0.5336139798164368,0.9544851183891296,0.9320667386054993,0.36627858877182007,0.02245752513408661,0.001361320842988789,0.00030736246844753623,9.67027954175137e-05,5.564498223975534e-06,8.82375843502814e-08],[2.244058272538041e-09,5.2294996777391134e-08,9.226031920661626e-07,5.736465027439408e-06,2.2734557205694728e-05,0.0003353754000272602,0.010804149322211742,0.44608715176582336,0.9255793690681458,0.9415501356124878,0.4440714716911316,0.02225259318947792,0.004524695221334696,0.003620763076469302,0.005467073060572147,0.027142122387886047,0.0843224823474884,0.4494304656982422,0.9225940704345703,0.9224582314491272,0.6586069464683533,0.0966745987534523,0.008386997506022453,0.000745651894249022,0.00019517252803780138,8.926229929784313e-05,4.599916337610921e-06,5.508460532155368e-08],[3.3614453442964987e-09,6.214118286607118e-08,8.68473705395445e-07,4.408783752296586e-06,1.911943400045857e-05,0.00024122312606777996,0.005253221839666367,0.2309488207101822,0.8634938597679138,0.9763685464859009,0.9138546586036682,0.3920631408691406,0.13603328168392181,0.11645322293043137,0.18927820026874542,0.5607770681381226,0.7554624080657959,0.8566114902496338,0.9243797063827515,0.757903516292572,0.24161271750926971,0.027482636272907257,0.004767181817442179,0.0008274532738141716,0.00018971614190377295,6.212415610207245e-05,2.613654942251742e-06,2.9288433012197856e-08],[7.94064103359915e-09,7.987507189000098e-08,8.294251756524318e-07,3.1009594749775715e-06,1.2593007340910845e-05,0.00013342115562409163,0.001343439449556172,0.026538407430052757,0.3069254159927368,0.9306168556213379,0.9761412143707275,0.9587851762771606,0.9199729561805725,0.9358474612236023,0.9421250820159912,0.9512094855308533,0.9311004281044006,0.8442500829696655,0.6996514201164246,0.267451673746109,0.043062444776296616,0.005277171730995178,0.002013625344261527,0.00033034413354471326,6.331626354949549e-05,1.6761256119934842e-05,1.0841506536962697e-06,7.447418681749696e-08],[1.2364940182862938e-08,9.49263778693421e-08,6.808958801229892e-07,1.6358426364604384e-06,4.102563707419904e-06,2.7702972147380933e-05,0.0002057125821011141,0.0019713353831321,0.02508523315191269,0.5493398904800415,0.8852593898773193,0.9726365208625793,0.9748377799987793,0.9825929403305054,0.9684920907020569,0.8815013766288757,0.7133850455284119,0.2904932498931885,0.12279892712831497,0.03071397915482521,0.0066625881008803844,0.0019761379808187485,0.0009519881568849087,0.00019780003640335053,4.3619245843729004e-05,1.4160377759253606e-05,1.3304130561664351e-06,1.1292283375041734e-07],[2.043305435961429e-08,6.886094183755631e-08,3.4923934322250716e-07,6.949785529286601e-07,1.3077137737127487e-06,9.816846613830421e-06,5.326994141796604e-05,0.00019110740686301142,0.0014052980113774538,0.015090158209204674,0.06100868433713913,0.2488168179988861,0.3479875326156616,0.49945616722106934,0.2711586058139801,0.05353235453367233,0.015512297861278057,0.007118937559425831,0.005736808758229017,0.0039960285648703575,0.0016271688509732485,0.0005244666244834661,0.00034984361263923347,6.20722712483257e-05,1.2838318980357144e-05,1.4990449699325836e-06,1.6768615296314238e-07,6.173632272066243e-08],[1.7096830617902015e-08,4.1238923387254545e-08,1.787357177818194e-07,2.58224673643781e-07,4.093681411632133e-07,3.909698534698691e-06,1.6290287021547556e-05,3.3656408049864694e-05,0.00016888657410163432,0.0005851779133081436,0.0011975145898759365,0.003471112810075283,0.004974158946424723,0.0095863351598382,0.004903497640043497,0.0010833234991878271,0.0005003234837204218,0.0007326722843572497,0.0009300315869040787,0.0013815915444865823,0.0005978067056275904,0.0001963510731002316,0.00019868597155436873,3.338644455652684e-05,6.665924502158305e-06,6.375888119691808e-07,9.340745066310774e-08,5.888640686180224e-08],[1.9861067812598776e-07,1.3766835138540046e-07,3.8996631701593287e-07,6.099752454247209e-07,7.592914244014537e-07,2.729545713009429e-06,7.97664233687101e-06,1.5542711480520666e-05,4.936630648444407e-05,4.52226959168911e-05,2.1007143004680984e-05,1.6430676623713225e-05,1.4794916751270648e-05,2.9171827918617055e-05,2.92418226308655e-05,1.8385168004897423e-05,1.5166431694524363e-05,4.8403402615804225e-05,0.0002035763900494203,0.00028110091807320714,0.0001158311715698801,5.5310516472673044e-05,6.863708404125646e-05,4.812113184016198e-05,1.1435019587224815e-05,1.4245669035517494e-06,4.1049483456845337e-07,9.923085144691868e-07],[1.2649161362787709e-06,4.1706695697030227e-07,7.615016670570185e-07,1.1396582522138488e-06,1.709770003799349e-06,8.449985216429923e-06,2.47691132244654e-05,3.0848586902720854e-05,4.6099692553980276e-05,1.4450338312599342e-05,4.0439158510707784e-06,1.3693082792087807e-06,5.514557415153831e-07,2.1526639102376066e-06,3.301526476207073e-06,2.805066515065846e-06,3.518070570862619e-06,1.1033618648070842e-05,5.3784264309797436e-05,6.215028406586498e-05,3.8299025618471205e-05,2.2451640688814223e-05,2.36888081417419e-05,3.7343426811276004e-05,1.47888385981787e-05,3.749626102944603e-06,2.1783355350635247e-06,6.738829597452423e-06],[0.00012263025564607233,1.4527730854752008e-05,6.754960395483067e-06,7.349847237492213e-06,1.8993292542290874e-05,5.2052044338779524e-05,7.162335532484576e-05,5.227619476499967e-05,6.201660289661959e-05,7.37061636755243e-05,6.150157423689961e-05,4.877780156675726e-05,1.7174446838907897e-05,2.0069581296411343e-05,8.70710482558934e-06,3.0386563594220206e-06,4.081638508068863e-06,4.8475790208613034e-06,8.0844165495364e-06,5.188103841646807e-06,4.534003437584033e-06,5.0945304792548995e-06,8.307200914714485e-06,3.3863707358250394e-05,2.6600106139085256e-05,2.414351183688268e-05,3.739378007594496e-05,0.00024068808124866337]],\"type\":\"heatmap\"},{\"coloraxis\":\"coloraxis\",\"hovertemplate\":\"x: %{x}<br>y: %{y}<br>color: %{z}<extra></extra>\",\"name\":\"0\",\"xaxis\":\"x3\",\"yaxis\":\"y3\",\"z\":[[0.0,0.0,0.0,0.0,0.0,0.0,0.0,0.0,0.0,0.0,0.0,0.0,0.0,0.0,0.0,0.0,0.0,0.0,0.0,0.0,0.0,0.0,0.0,0.0,0.0,0.0,0.0,0.0],[0.0,0.0,0.0,0.0,0.0,0.0,0.0,0.0,0.0,0.0,0.0,0.0,0.0,0.0,0.0,0.0,0.0,0.0,0.0,0.0,0.0,0.0,0.0,0.0,0.0,0.0,0.0,0.0],[0.0,0.0,0.0,0.0,0.0,0.0,0.0,0.0,0.0,0.0,0.0,0.0,0.0,0.0,0.0,0.0,0.0,0.0,0.0,0.0,0.0,0.0,0.0,0.0,0.0,0.0,0.0,0.0],[0.0,0.0,0.0,0.0,0.0,0.0,0.0,0.0,0.0,0.0,0.0,0.0,0.0,0.0,0.0,0.0,0.0,0.0,0.0,0.0,0.0,0.0,0.0,0.0,0.0,0.0,0.0,0.0],[0.0,0.0,0.0,0.0,0.0,0.0,0.0,0.0,0.0,0.0,0.0,0.0,0.40392157435417175,0.8980392217636108,0.8705882430076599,0.125490203499794,0.0,0.0,0.0,0.0,0.0,0.0,0.0,0.0,0.0,0.0,0.0,0.0],[0.0,0.0,0.0,0.0,0.0,0.0,0.0,0.0,0.0,0.0,0.0,0.1568627506494522,0.9058823585510254,0.9960784316062927,1.0,0.4941176474094391,0.0,0.08627451211214066,0.1568627506494522,0.0,0.0,0.0,0.0,0.0,0.0,0.0,0.0,0.0],[0.0,0.0,0.0,0.0,0.0,0.0,0.0,0.0,0.0,0.0,0.16078431904315948,0.8901960849761963,0.9960784316062927,0.9960784316062927,0.9960784316062927,0.9882352948188782,0.9529411792755127,0.9607843160629272,0.9686274528503418,0.5647059082984924,0.0,0.0,0.0,0.0,0.0,0.0,0.0,0.0],[0.0,0.0,0.0,0.0,0.0,0.0,0.0,0.0,0.0,0.0,0.572549045085907,0.9960784316062927,0.9960784316062927,0.9960784316062927,0.9960784316062927,0.9960784316062927,0.9960784316062927,0.9960784316062927,0.9960784316062927,0.9882352948188782,0.5647059082984924,0.0,0.0,0.0,0.0,0.0,0.0,0.0],[0.0,0.0,0.0,0.0,0.0,0.0,0.0,0.0,0.0,0.545098066329956,0.9843137264251709,0.9960784316062927,0.9960784316062927,0.9960784316062927,0.9960784316062927,0.9960784316062927,0.9960784316062927,0.9960784316062927,0.9960784316062927,0.9960784316062927,0.9882352948188782,0.3686274588108063,0.0,0.0,0.0,0.0,0.0,0.0],[0.0,0.0,0.0,0.0,0.0,0.0,0.0,0.0,0.0,0.9019607901573181,0.9960784316062927,0.9960784316062927,0.7019608020782471,0.9254902005195618,0.9960784316062927,0.9960784316062927,0.6313725709915161,0.21960784494876862,0.8784313797950745,0.9960784316062927,0.9960784316062927,0.40784314274787903,0.0,0.0,0.0,0.0,0.0,0.0],[0.0,0.0,0.0,0.0,0.0,0.0,0.0,0.0,0.3529411852359772,0.9843137264251709,0.9960784316062927,0.9960784316062927,0.1764705926179886,0.3607843220233917,0.9960784316062927,0.6274510025978088,0.04313725605607033,0.0,0.49803921580314636,0.9960784316062927,0.9960784316062927,0.843137264251709,0.0,0.0,0.0,0.0,0.0,0.0],[0.0,0.0,0.0,0.0,0.0,0.0,0.0,0.0,0.5686274766921997,0.9960784316062927,0.9960784316062927,0.8941176533699036,0.12156862765550613,0.2862745225429535,0.7607843279838562,0.1764705926179886,0.0,0.0,0.027450980618596077,0.7058823704719543,0.9960784316062927,0.9215686321258545,0.0,0.0,0.0,0.0,0.0,0.0],[0.0,0.0,0.0,0.0,0.0,0.0,0.0,0.125490203499794,0.9450980424880981,0.9960784316062927,0.9960784316062927,0.2549019753932953,0.0,0.05882352963089943,0.0470588244497776,0.0,0.0,0.0,0.0,0.6431372761726379,0.9960784316062927,0.9215686321258545,0.0,0.0,0.0,0.0,0.0,0.0],[0.0,0.0,0.0,0.0,0.0,0.0,0.0,0.43921568989753723,0.9960784316062927,0.9960784316062927,0.7176470756530762,0.03529411926865578,0.0,0.0,0.0,0.0,0.0,0.0,0.0,0.24705882370471954,0.9960784316062927,0.9803921580314636,0.33725491166114807,0.0,0.0,0.0,0.0,0.0],[0.0,0.0,0.0,0.0,0.0,0.0,0.0,0.43921568989753723,0.9960784316062927,0.9960784316062927,0.6352941393852234,0.0,0.0,0.0,0.0,0.0,0.0,0.0,0.0,0.12941177189350128,0.9960784316062927,0.9960784316062927,0.43529412150382996,0.0,0.0,0.0,0.0,0.0],[0.0,0.0,0.0,0.0,0.0,0.0,0.0,0.43921568989753723,0.9960784316062927,0.9960784316062927,0.6352941393852234,0.0,0.0,0.0,0.0,0.0,0.0,0.0,0.0,0.12941177189350128,0.9960784316062927,0.9960784316062927,0.43529412150382996,0.0,0.0,0.0,0.0,0.0],[0.0,0.0,0.0,0.0,0.0,0.0,0.0,0.7960784435272217,0.9960784316062927,0.9960784316062927,0.6352941393852234,0.0,0.0,0.0,0.0,0.0,0.0,0.0,0.0,0.4901960790157318,1.0,0.9960784316062927,0.43529412150382996,0.0,0.0,0.0,0.0,0.0],[0.0,0.0,0.0,0.0,0.0,0.0,0.0,0.9529411792755127,0.9960784316062927,0.9960784316062927,0.6352941393852234,0.0,0.0,0.0,0.0,0.0,0.0,0.0,0.027450980618596077,0.6980392336845398,0.9960784316062927,0.9450980424880981,0.14509804546833038,0.0,0.0,0.0,0.0,0.0],[0.0,0.0,0.0,0.0,0.0,0.0,0.0,0.9529411792755127,0.9960784316062927,0.9960784316062927,0.6352941393852234,0.0,0.0,0.0,0.0,0.0,0.0,0.0235294122248888,0.5254902243614197,0.9960784316062927,0.9960784316062927,0.5882353186607361,0.0,0.0,0.0,0.0,0.0,0.0],[0.0,0.0,0.0,0.0,0.0,0.0,0.0,0.6313725709915161,0.9960784316062927,0.9960784316062927,0.6745098233222961,0.10588235408067703,0.019607843831181526,0.0,0.0,0.0,0.18431372940540314,0.686274528503418,0.9960784316062927,0.9960784316062927,0.9882352948188782,0.3686274588108063,0.0,0.0,0.0,0.0,0.0,0.0],[0.0,0.0,0.0,0.0,0.0,0.0,0.0,0.40784314274787903,0.9921568632125854,0.9960784316062927,0.9960784316062927,0.9960784316062927,0.6627451181411743,0.4470588266849518,0.21176470816135406,0.5921568870544434,0.886274516582489,0.9960784316062927,0.9960784316062927,0.9215686321258545,0.3686274588108063,0.0,0.0,0.0,0.0,0.0,0.0,0.0],[0.0,0.0,0.0,0.0,0.0,0.0,0.0,0.0,0.6117647290229797,0.9921568632125854,0.9960784316062927,0.9960784316062927,0.9960784316062927,0.9960784316062927,0.9960784316062927,0.9960784316062927,0.9960784316062927,0.9882352948188782,0.8666666746139526,0.3803921639919281,0.0,0.0,0.0,0.0,0.0,0.0,0.0,0.0],[0.0,0.0,0.0,0.0,0.0,0.0,0.0,0.0,0.0,0.8784313797950745,0.9960784316062927,0.9960784316062927,0.9960784316062927,0.9960784316062927,0.9960784316062927,0.9803921580314636,0.8666666746139526,0.3764705955982208,0.0,0.0,0.0,0.0,0.0,0.0,0.0,0.0,0.0,0.0],[0.0,0.0,0.0,0.0,0.0,0.0,0.0,0.0,0.0,0.0,0.4274509847164154,0.48627451062202454,0.9058823585510254,0.8509804010391235,0.48627451062202454,0.125490203499794,0.0,0.0,0.0,0.0,0.0,0.0,0.0,0.0,0.0,0.0,0.0,0.0],[0.0,0.0,0.0,0.0,0.0,0.0,0.0,0.0,0.0,0.0,0.0,0.0,0.0,0.0,0.0,0.0,0.0,0.0,0.0,0.0,0.0,0.0,0.0,0.0,0.0,0.0,0.0,0.0],[0.0,0.0,0.0,0.0,0.0,0.0,0.0,0.0,0.0,0.0,0.0,0.0,0.0,0.0,0.0,0.0,0.0,0.0,0.0,0.0,0.0,0.0,0.0,0.0,0.0,0.0,0.0,0.0],[0.0,0.0,0.0,0.0,0.0,0.0,0.0,0.0,0.0,0.0,0.0,0.0,0.0,0.0,0.0,0.0,0.0,0.0,0.0,0.0,0.0,0.0,0.0,0.0,0.0,0.0,0.0,0.0],[0.0,0.0,0.0,0.0,0.0,0.0,0.0,0.0,0.0,0.0,0.0,0.0,0.0,0.0,0.0,0.0,0.0,0.0,0.0,0.0,0.0,0.0,0.0,0.0,0.0,0.0,0.0,0.0]],\"type\":\"heatmap\"}],                        {\"template\":{\"data\":{\"bar\":[{\"error_x\":{\"color\":\"#2a3f5f\"},\"error_y\":{\"color\":\"#2a3f5f\"},\"marker\":{\"line\":{\"color\":\"#E5ECF6\",\"width\":0.5},\"pattern\":{\"fillmode\":\"overlay\",\"size\":10,\"solidity\":0.2}},\"type\":\"bar\"}],\"barpolar\":[{\"marker\":{\"line\":{\"color\":\"#E5ECF6\",\"width\":0.5},\"pattern\":{\"fillmode\":\"overlay\",\"size\":10,\"solidity\":0.2}},\"type\":\"barpolar\"}],\"carpet\":[{\"aaxis\":{\"endlinecolor\":\"#2a3f5f\",\"gridcolor\":\"white\",\"linecolor\":\"white\",\"minorgridcolor\":\"white\",\"startlinecolor\":\"#2a3f5f\"},\"baxis\":{\"endlinecolor\":\"#2a3f5f\",\"gridcolor\":\"white\",\"linecolor\":\"white\",\"minorgridcolor\":\"white\",\"startlinecolor\":\"#2a3f5f\"},\"type\":\"carpet\"}],\"choropleth\":[{\"colorbar\":{\"outlinewidth\":0,\"ticks\":\"\"},\"type\":\"choropleth\"}],\"contour\":[{\"colorbar\":{\"outlinewidth\":0,\"ticks\":\"\"},\"colorscale\":[[0.0,\"#0d0887\"],[0.1111111111111111,\"#46039f\"],[0.2222222222222222,\"#7201a8\"],[0.3333333333333333,\"#9c179e\"],[0.4444444444444444,\"#bd3786\"],[0.5555555555555556,\"#d8576b\"],[0.6666666666666666,\"#ed7953\"],[0.7777777777777778,\"#fb9f3a\"],[0.8888888888888888,\"#fdca26\"],[1.0,\"#f0f921\"]],\"type\":\"contour\"}],\"contourcarpet\":[{\"colorbar\":{\"outlinewidth\":0,\"ticks\":\"\"},\"type\":\"contourcarpet\"}],\"heatmap\":[{\"colorbar\":{\"outlinewidth\":0,\"ticks\":\"\"},\"colorscale\":[[0.0,\"#0d0887\"],[0.1111111111111111,\"#46039f\"],[0.2222222222222222,\"#7201a8\"],[0.3333333333333333,\"#9c179e\"],[0.4444444444444444,\"#bd3786\"],[0.5555555555555556,\"#d8576b\"],[0.6666666666666666,\"#ed7953\"],[0.7777777777777778,\"#fb9f3a\"],[0.8888888888888888,\"#fdca26\"],[1.0,\"#f0f921\"]],\"type\":\"heatmap\"}],\"heatmapgl\":[{\"colorbar\":{\"outlinewidth\":0,\"ticks\":\"\"},\"colorscale\":[[0.0,\"#0d0887\"],[0.1111111111111111,\"#46039f\"],[0.2222222222222222,\"#7201a8\"],[0.3333333333333333,\"#9c179e\"],[0.4444444444444444,\"#bd3786\"],[0.5555555555555556,\"#d8576b\"],[0.6666666666666666,\"#ed7953\"],[0.7777777777777778,\"#fb9f3a\"],[0.8888888888888888,\"#fdca26\"],[1.0,\"#f0f921\"]],\"type\":\"heatmapgl\"}],\"histogram\":[{\"marker\":{\"pattern\":{\"fillmode\":\"overlay\",\"size\":10,\"solidity\":0.2}},\"type\":\"histogram\"}],\"histogram2d\":[{\"colorbar\":{\"outlinewidth\":0,\"ticks\":\"\"},\"colorscale\":[[0.0,\"#0d0887\"],[0.1111111111111111,\"#46039f\"],[0.2222222222222222,\"#7201a8\"],[0.3333333333333333,\"#9c179e\"],[0.4444444444444444,\"#bd3786\"],[0.5555555555555556,\"#d8576b\"],[0.6666666666666666,\"#ed7953\"],[0.7777777777777778,\"#fb9f3a\"],[0.8888888888888888,\"#fdca26\"],[1.0,\"#f0f921\"]],\"type\":\"histogram2d\"}],\"histogram2dcontour\":[{\"colorbar\":{\"outlinewidth\":0,\"ticks\":\"\"},\"colorscale\":[[0.0,\"#0d0887\"],[0.1111111111111111,\"#46039f\"],[0.2222222222222222,\"#7201a8\"],[0.3333333333333333,\"#9c179e\"],[0.4444444444444444,\"#bd3786\"],[0.5555555555555556,\"#d8576b\"],[0.6666666666666666,\"#ed7953\"],[0.7777777777777778,\"#fb9f3a\"],[0.8888888888888888,\"#fdca26\"],[1.0,\"#f0f921\"]],\"type\":\"histogram2dcontour\"}],\"mesh3d\":[{\"colorbar\":{\"outlinewidth\":0,\"ticks\":\"\"},\"type\":\"mesh3d\"}],\"parcoords\":[{\"line\":{\"colorbar\":{\"outlinewidth\":0,\"ticks\":\"\"}},\"type\":\"parcoords\"}],\"pie\":[{\"automargin\":true,\"type\":\"pie\"}],\"scatter\":[{\"marker\":{\"colorbar\":{\"outlinewidth\":0,\"ticks\":\"\"}},\"type\":\"scatter\"}],\"scatter3d\":[{\"line\":{\"colorbar\":{\"outlinewidth\":0,\"ticks\":\"\"}},\"marker\":{\"colorbar\":{\"outlinewidth\":0,\"ticks\":\"\"}},\"type\":\"scatter3d\"}],\"scattercarpet\":[{\"marker\":{\"colorbar\":{\"outlinewidth\":0,\"ticks\":\"\"}},\"type\":\"scattercarpet\"}],\"scattergeo\":[{\"marker\":{\"colorbar\":{\"outlinewidth\":0,\"ticks\":\"\"}},\"type\":\"scattergeo\"}],\"scattergl\":[{\"marker\":{\"colorbar\":{\"outlinewidth\":0,\"ticks\":\"\"}},\"type\":\"scattergl\"}],\"scattermapbox\":[{\"marker\":{\"colorbar\":{\"outlinewidth\":0,\"ticks\":\"\"}},\"type\":\"scattermapbox\"}],\"scatterpolar\":[{\"marker\":{\"colorbar\":{\"outlinewidth\":0,\"ticks\":\"\"}},\"type\":\"scatterpolar\"}],\"scatterpolargl\":[{\"marker\":{\"colorbar\":{\"outlinewidth\":0,\"ticks\":\"\"}},\"type\":\"scatterpolargl\"}],\"scatterternary\":[{\"marker\":{\"colorbar\":{\"outlinewidth\":0,\"ticks\":\"\"}},\"type\":\"scatterternary\"}],\"surface\":[{\"colorbar\":{\"outlinewidth\":0,\"ticks\":\"\"},\"colorscale\":[[0.0,\"#0d0887\"],[0.1111111111111111,\"#46039f\"],[0.2222222222222222,\"#7201a8\"],[0.3333333333333333,\"#9c179e\"],[0.4444444444444444,\"#bd3786\"],[0.5555555555555556,\"#d8576b\"],[0.6666666666666666,\"#ed7953\"],[0.7777777777777778,\"#fb9f3a\"],[0.8888888888888888,\"#fdca26\"],[1.0,\"#f0f921\"]],\"type\":\"surface\"}],\"table\":[{\"cells\":{\"fill\":{\"color\":\"#EBF0F8\"},\"line\":{\"color\":\"white\"}},\"header\":{\"fill\":{\"color\":\"#C8D4E3\"},\"line\":{\"color\":\"white\"}},\"type\":\"table\"}]},\"layout\":{\"annotationdefaults\":{\"arrowcolor\":\"#2a3f5f\",\"arrowhead\":0,\"arrowwidth\":1},\"autotypenumbers\":\"strict\",\"coloraxis\":{\"colorbar\":{\"outlinewidth\":0,\"ticks\":\"\"}},\"colorscale\":{\"diverging\":[[0,\"#8e0152\"],[0.1,\"#c51b7d\"],[0.2,\"#de77ae\"],[0.3,\"#f1b6da\"],[0.4,\"#fde0ef\"],[0.5,\"#f7f7f7\"],[0.6,\"#e6f5d0\"],[0.7,\"#b8e186\"],[0.8,\"#7fbc41\"],[0.9,\"#4d9221\"],[1,\"#276419\"]],\"sequential\":[[0.0,\"#0d0887\"],[0.1111111111111111,\"#46039f\"],[0.2222222222222222,\"#7201a8\"],[0.3333333333333333,\"#9c179e\"],[0.4444444444444444,\"#bd3786\"],[0.5555555555555556,\"#d8576b\"],[0.6666666666666666,\"#ed7953\"],[0.7777777777777778,\"#fb9f3a\"],[0.8888888888888888,\"#fdca26\"],[1.0,\"#f0f921\"]],\"sequentialminus\":[[0.0,\"#0d0887\"],[0.1111111111111111,\"#46039f\"],[0.2222222222222222,\"#7201a8\"],[0.3333333333333333,\"#9c179e\"],[0.4444444444444444,\"#bd3786\"],[0.5555555555555556,\"#d8576b\"],[0.6666666666666666,\"#ed7953\"],[0.7777777777777778,\"#fb9f3a\"],[0.8888888888888888,\"#fdca26\"],[1.0,\"#f0f921\"]]},\"colorway\":[\"#636efa\",\"#EF553B\",\"#00cc96\",\"#ab63fa\",\"#FFA15A\",\"#19d3f3\",\"#FF6692\",\"#B6E880\",\"#FF97FF\",\"#FECB52\"],\"font\":{\"color\":\"#2a3f5f\"},\"geo\":{\"bgcolor\":\"white\",\"lakecolor\":\"white\",\"landcolor\":\"#E5ECF6\",\"showlakes\":true,\"showland\":true,\"subunitcolor\":\"white\"},\"hoverlabel\":{\"align\":\"left\"},\"hovermode\":\"closest\",\"mapbox\":{\"style\":\"light\"},\"paper_bgcolor\":\"white\",\"plot_bgcolor\":\"#E5ECF6\",\"polar\":{\"angularaxis\":{\"gridcolor\":\"white\",\"linecolor\":\"white\",\"ticks\":\"\"},\"bgcolor\":\"#E5ECF6\",\"radialaxis\":{\"gridcolor\":\"white\",\"linecolor\":\"white\",\"ticks\":\"\"}},\"scene\":{\"xaxis\":{\"backgroundcolor\":\"#E5ECF6\",\"gridcolor\":\"white\",\"gridwidth\":2,\"linecolor\":\"white\",\"showbackground\":true,\"ticks\":\"\",\"zerolinecolor\":\"white\"},\"yaxis\":{\"backgroundcolor\":\"#E5ECF6\",\"gridcolor\":\"white\",\"gridwidth\":2,\"linecolor\":\"white\",\"showbackground\":true,\"ticks\":\"\",\"zerolinecolor\":\"white\"},\"zaxis\":{\"backgroundcolor\":\"#E5ECF6\",\"gridcolor\":\"white\",\"gridwidth\":2,\"linecolor\":\"white\",\"showbackground\":true,\"ticks\":\"\",\"zerolinecolor\":\"white\"}},\"shapedefaults\":{\"line\":{\"color\":\"#2a3f5f\"}},\"ternary\":{\"aaxis\":{\"gridcolor\":\"white\",\"linecolor\":\"white\",\"ticks\":\"\"},\"baxis\":{\"gridcolor\":\"white\",\"linecolor\":\"white\",\"ticks\":\"\"},\"bgcolor\":\"#E5ECF6\",\"caxis\":{\"gridcolor\":\"white\",\"linecolor\":\"white\",\"ticks\":\"\"}},\"title\":{\"x\":0.05},\"xaxis\":{\"automargin\":true,\"gridcolor\":\"white\",\"linecolor\":\"white\",\"ticks\":\"\",\"title\":{\"standoff\":15},\"zerolinecolor\":\"white\",\"zerolinewidth\":2},\"yaxis\":{\"automargin\":true,\"gridcolor\":\"white\",\"linecolor\":\"white\",\"ticks\":\"\",\"title\":{\"standoff\":15},\"zerolinecolor\":\"white\",\"zerolinewidth\":2}}},\"xaxis\":{\"anchor\":\"y\",\"domain\":[0.0,0.2888888888888889]},\"yaxis\":{\"anchor\":\"x\",\"domain\":[0.0,1.0]},\"xaxis2\":{\"anchor\":\"y2\",\"domain\":[0.35555555555555557,0.6444444444444445]},\"yaxis2\":{\"anchor\":\"x2\",\"domain\":[0.0,1.0]},\"xaxis3\":{\"anchor\":\"y3\",\"domain\":[0.7111111111111111,1.0]},\"yaxis3\":{\"anchor\":\"x3\",\"domain\":[0.0,1.0]}},                        {\"responsive\": true}                    ).then(function(){\n",
              "                            \n",
              "var gd = document.getElementById('5834a349-cd78-4f62-8926-ba5886943748');\n",
              "var x = new MutationObserver(function (mutations, observer) {{\n",
              "        var display = window.getComputedStyle(gd).display;\n",
              "        if (!display || display === 'none') {{\n",
              "            console.log([gd, 'removed!']);\n",
              "            Plotly.purge(gd);\n",
              "            observer.disconnect();\n",
              "        }}\n",
              "}});\n",
              "\n",
              "// Listen for the removal of the full notebook cells\n",
              "var notebookContainer = gd.closest('#notebook-container');\n",
              "if (notebookContainer) {{\n",
              "    x.observe(notebookContainer, {childList: true});\n",
              "}}\n",
              "\n",
              "// Listen for the clearing of the current output cell\n",
              "var outputEl = gd.closest('.output');\n",
              "if (outputEl) {{\n",
              "    x.observe(outputEl, {childList: true});\n",
              "}}\n",
              "\n",
              "                        })                };                            </script>        </div>\n",
              "</body>\n",
              "</html>"
            ]
          },
          "metadata": {}
        }
      ]
    }
  ]
}